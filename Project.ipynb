{
 "cells": [
  {
   "cell_type": "markdown",
   "metadata": {},
   "source": [
    "# Packages & libraries\n"
   ]
  },
  {
   "cell_type": "markdown",
   "metadata": {},
   "source": [
    "We report below all the necessary packages and libraries."
   ]
  },
  {
   "cell_type": "code",
   "execution_count": 1,
   "metadata": {},
   "outputs": [
    {
     "name": "stdout",
     "output_type": "stream",
     "text": [
      "rouge is already installed.\n"
     ]
    }
   ],
   "source": [
    "import subprocess\n",
    "import sys\n",
    "\n",
    "# Check if the 'rouge' package is installed\n",
    "try:\n",
    "    import rouge\n",
    "except ImportError:\n",
    "    # If not installed, install it using pip\n",
    "    print(f\"rouge not found, installing...\")\n",
    "    subprocess.check_call([sys.executable, \"-m\", \"pip\", \"install\", \"rouge\"])\n",
    "else:\n",
    "    print(f\"rouge is already installed.\")"
   ]
  },
  {
   "cell_type": "code",
   "execution_count": 2,
   "metadata": {},
   "outputs": [],
   "source": [
    "# Standard libraries\n",
    "import numpy as np\n",
    "import pandas as pd\n",
    "import seaborn as sns\n",
    "import matplotlib.pyplot as plt\n",
    "import math\n",
    "import re\n",
    "import random\n",
    "from tqdm import tqdm\n",
    "from collections import Counter\n",
    "\n",
    "# Libraries for text processing\n",
    "import nltk\n",
    "from nltk.tokenize import sent_tokenize, word_tokenize\n",
    "from nltk.corpus import stopwords, wordnet\n",
    "from nltk.stem import PorterStemmer, WordNetLemmatizer\n",
    "\n",
    "# Libraries for sparse matrix operations\n",
    "from scipy.sparse import lil_matrix\n",
    "\n",
    "# Libraries for performance evaluation\n",
    "import time\n",
    "import tracemalloc \n",
    "from rouge import Rouge"
   ]
  },
  {
   "cell_type": "code",
   "execution_count": 3,
   "metadata": {},
   "outputs": [
    {
     "name": "stderr",
     "output_type": "stream",
     "text": [
      "[nltk_data] Downloading package punkt to\n",
      "[nltk_data]     C:\\Users\\eleon\\AppData\\Roaming\\nltk_data...\n",
      "[nltk_data]   Package punkt is already up-to-date!\n",
      "[nltk_data] Downloading package punkt_tab to\n",
      "[nltk_data]     C:\\Users\\eleon\\AppData\\Roaming\\nltk_data...\n",
      "[nltk_data]   Package punkt_tab is already up-to-date!\n",
      "[nltk_data] Downloading package stopwords to\n",
      "[nltk_data]     C:\\Users\\eleon\\AppData\\Roaming\\nltk_data...\n",
      "[nltk_data]   Package stopwords is already up-to-date!\n",
      "[nltk_data] Downloading package averaged_perceptron_tagger to\n",
      "[nltk_data]     C:\\Users\\eleon\\AppData\\Roaming\\nltk_data...\n",
      "[nltk_data]   Package averaged_perceptron_tagger is already up-to-\n",
      "[nltk_data]       date!\n",
      "[nltk_data] Downloading package averaged_perceptron_tagger_eng to\n",
      "[nltk_data]     C:\\Users\\eleon\\AppData\\Roaming\\nltk_data...\n",
      "[nltk_data]   Package averaged_perceptron_tagger_eng is already up-to-\n",
      "[nltk_data]       date!\n",
      "[nltk_data] Downloading package wordnet to\n",
      "[nltk_data]     C:\\Users\\eleon\\AppData\\Roaming\\nltk_data...\n",
      "[nltk_data]   Package wordnet is already up-to-date!\n"
     ]
    },
    {
     "data": {
      "text/plain": [
       "True"
      ]
     },
     "execution_count": 3,
     "metadata": {},
     "output_type": "execute_result"
    }
   ],
   "source": [
    "# Download the required NLTK resources\n",
    "nltk.download('punkt')\n",
    "nltk.download('punkt_tab')\n",
    "nltk.download('stopwords')\n",
    "nltk.download('averaged_perceptron_tagger')\n",
    "nltk.download('averaged_perceptron_tagger_eng')\n",
    "nltk.download('wordnet')"
   ]
  },
  {
   "cell_type": "markdown",
   "metadata": {},
   "source": [
    "# Dataset construction"
   ]
  },
  {
   "cell_type": "markdown",
   "metadata": {},
   "source": [
    "For our simulations, we use the CNN/DailyMail dataset, an English-language dataset containing over $300,000$ unique news articles written by journalists from CNN and the Daily Mail. Each instance in the dataset consists of the following three features:\n",
    "- `id`: A string containing the hex-formatted hash of the URL where the story was retrieved.\n",
    "- `article`: A string containing the body of the news article.\n",
    "- `highlights`: A string containing a summary of the article as written by the author.\n",
    "\n",
    "The dataset is provided in three splits: train, validation, and test. For our purposes, which do not require separate validation or testing phases, we combine all three splits into a single dataset, called `df_original`."
   ]
  },
  {
   "cell_type": "code",
   "execution_count": 4,
   "metadata": {},
   "outputs": [
    {
     "data": {
      "text/html": [
       "<div>\n",
       "<style scoped>\n",
       "    .dataframe tbody tr th:only-of-type {\n",
       "        vertical-align: middle;\n",
       "    }\n",
       "\n",
       "    .dataframe tbody tr th {\n",
       "        vertical-align: top;\n",
       "    }\n",
       "\n",
       "    .dataframe thead th {\n",
       "        text-align: right;\n",
       "    }\n",
       "</style>\n",
       "<table border=\"1\" class=\"dataframe\">\n",
       "  <thead>\n",
       "    <tr style=\"text-align: right;\">\n",
       "      <th></th>\n",
       "      <th>id</th>\n",
       "      <th>article</th>\n",
       "      <th>highlights</th>\n",
       "    </tr>\n",
       "  </thead>\n",
       "  <tbody>\n",
       "    <tr>\n",
       "      <th>0</th>\n",
       "      <td>0001d1afc246a7964130f43ae940af6bc6c57f01</td>\n",
       "      <td>By . Associated Press . PUBLISHED: . 14:11 EST...</td>\n",
       "      <td>Bishop John Folda, of North Dakota, is taking ...</td>\n",
       "    </tr>\n",
       "    <tr>\n",
       "      <th>1</th>\n",
       "      <td>0002095e55fcbd3a2f366d9bf92a95433dc305ef</td>\n",
       "      <td>(CNN) -- Ralph Mata was an internal affairs li...</td>\n",
       "      <td>Criminal complaint: Cop used his role to help ...</td>\n",
       "    </tr>\n",
       "    <tr>\n",
       "      <th>2</th>\n",
       "      <td>00027e965c8264c35cc1bc55556db388da82b07f</td>\n",
       "      <td>A drunk driver who killed a young woman in a h...</td>\n",
       "      <td>Craig Eccleston-Todd, 27, had drunk at least t...</td>\n",
       "    </tr>\n",
       "    <tr>\n",
       "      <th>3</th>\n",
       "      <td>0002c17436637c4fe1837c935c04de47adb18e9a</td>\n",
       "      <td>(CNN) -- With a breezy sweep of his pen Presid...</td>\n",
       "      <td>Nina dos Santos says Europe must be ready to a...</td>\n",
       "    </tr>\n",
       "    <tr>\n",
       "      <th>4</th>\n",
       "      <td>0003ad6ef0c37534f80b55b4235108024b407f0b</td>\n",
       "      <td>Fleetwood are the only team still to have a 10...</td>\n",
       "      <td>Fleetwood top of League One after 2-0 win at S...</td>\n",
       "    </tr>\n",
       "    <tr>\n",
       "      <th>...</th>\n",
       "      <td>...</td>\n",
       "      <td>...</td>\n",
       "      <td>...</td>\n",
       "    </tr>\n",
       "    <tr>\n",
       "      <th>311963</th>\n",
       "      <td>ed8674cc15b29a87d8df8de1efee353d71122272</td>\n",
       "      <td>Our young Earth may have collided with a body ...</td>\n",
       "      <td>Oxford scientists say a Mercury-like body stru...</td>\n",
       "    </tr>\n",
       "    <tr>\n",
       "      <th>311964</th>\n",
       "      <td>2f58d1a99e9c47914e4b1c31613e3a041cd9011e</td>\n",
       "      <td>A man facing trial for helping his former love...</td>\n",
       "      <td>Man accused of helping former lover kill woman...</td>\n",
       "    </tr>\n",
       "    <tr>\n",
       "      <th>311965</th>\n",
       "      <td>411f6d57825161c3a037b4742baccd6cd227c0c3</td>\n",
       "      <td>A dozen or more metal implements are arranged ...</td>\n",
       "      <td>Marianne Power tried the tuning fork facial at...</td>\n",
       "    </tr>\n",
       "    <tr>\n",
       "      <th>311966</th>\n",
       "      <td>b5683ef8342056b17b068e0d59bdbe87e3fe44ea</td>\n",
       "      <td>Brook Lopez dominated twin brother Robin with ...</td>\n",
       "      <td>Brooklyn Nets beat the Portland Trail Blazers ...</td>\n",
       "    </tr>\n",
       "    <tr>\n",
       "      <th>311967</th>\n",
       "      <td>a6a5491edb0c96c4391b6a8c4504416b3572b3a1</td>\n",
       "      <td>A Chinese hospital is being painstakingly move...</td>\n",
       "      <td>Chinese hospital marked for demolition because...</td>\n",
       "    </tr>\n",
       "  </tbody>\n",
       "</table>\n",
       "<p>311968 rows × 3 columns</p>\n",
       "</div>"
      ],
      "text/plain": [
       "                                              id  \\\n",
       "0       0001d1afc246a7964130f43ae940af6bc6c57f01   \n",
       "1       0002095e55fcbd3a2f366d9bf92a95433dc305ef   \n",
       "2       00027e965c8264c35cc1bc55556db388da82b07f   \n",
       "3       0002c17436637c4fe1837c935c04de47adb18e9a   \n",
       "4       0003ad6ef0c37534f80b55b4235108024b407f0b   \n",
       "...                                          ...   \n",
       "311963  ed8674cc15b29a87d8df8de1efee353d71122272   \n",
       "311964  2f58d1a99e9c47914e4b1c31613e3a041cd9011e   \n",
       "311965  411f6d57825161c3a037b4742baccd6cd227c0c3   \n",
       "311966  b5683ef8342056b17b068e0d59bdbe87e3fe44ea   \n",
       "311967  a6a5491edb0c96c4391b6a8c4504416b3572b3a1   \n",
       "\n",
       "                                                  article  \\\n",
       "0       By . Associated Press . PUBLISHED: . 14:11 EST...   \n",
       "1       (CNN) -- Ralph Mata was an internal affairs li...   \n",
       "2       A drunk driver who killed a young woman in a h...   \n",
       "3       (CNN) -- With a breezy sweep of his pen Presid...   \n",
       "4       Fleetwood are the only team still to have a 10...   \n",
       "...                                                   ...   \n",
       "311963  Our young Earth may have collided with a body ...   \n",
       "311964  A man facing trial for helping his former love...   \n",
       "311965  A dozen or more metal implements are arranged ...   \n",
       "311966  Brook Lopez dominated twin brother Robin with ...   \n",
       "311967  A Chinese hospital is being painstakingly move...   \n",
       "\n",
       "                                               highlights  \n",
       "0       Bishop John Folda, of North Dakota, is taking ...  \n",
       "1       Criminal complaint: Cop used his role to help ...  \n",
       "2       Craig Eccleston-Todd, 27, had drunk at least t...  \n",
       "3       Nina dos Santos says Europe must be ready to a...  \n",
       "4       Fleetwood top of League One after 2-0 win at S...  \n",
       "...                                                   ...  \n",
       "311963  Oxford scientists say a Mercury-like body stru...  \n",
       "311964  Man accused of helping former lover kill woman...  \n",
       "311965  Marianne Power tried the tuning fork facial at...  \n",
       "311966  Brooklyn Nets beat the Portland Trail Blazers ...  \n",
       "311967  Chinese hospital marked for demolition because...  \n",
       "\n",
       "[311968 rows x 3 columns]"
      ]
     },
     "execution_count": 4,
     "metadata": {},
     "output_type": "execute_result"
    }
   ],
   "source": [
    "path = ''\n",
    "df_train = pd.read_csv(f\"{path}Data/train.csv\")\n",
    "df_validation = pd.read_csv(f\"{path}Data/validation.csv\")\n",
    "df_test = pd.read_csv(f\"{path}Data/test.csv\")\n",
    "# Concatenate the DataFrames 'df_train', 'df_validation', and 'df_test' along the rows\n",
    "df_original = pd.concat([df_train, df_validation , df_test], axis = 0, ignore_index = True)\n",
    "df_original"
   ]
  },
  {
   "cell_type": "markdown",
   "metadata": {},
   "source": [
    "Each hand-written summary in `highlights` contains a different number of sentences. We analyze the distribution of the number of sentences in `highlights` using the following countplots."
   ]
  },
  {
   "cell_type": "code",
   "execution_count": 5,
   "metadata": {},
   "outputs": [
    {
     "data": {
      "image/png": "[encoded data removed]",
      "text/plain": [
       "<Figure size 1800x600 with 1 Axes>"
      ]
     },
     "metadata": {},
     "output_type": "display_data"
    }
   ],
   "source": [
    "def count_sentences(text):\n",
    "    '''\n",
    "    Counts the number of sentences in a given text.\n",
    "\n",
    "    Parameters:\n",
    "    text (str): The input text from which sentences will be counted.\n",
    "\n",
    "    Returns:\n",
    "    int: The number of sentences in the input text.\n",
    "    '''\n",
    "    # Tokenize the text into sentences\n",
    "    sentences = nltk.sent_tokenize(text)\n",
    "    return len(sentences)\n",
    "\n",
    "# Count the number of sentences in each 'highlight'\n",
    "df_original['num_sentences_hs'] = df_original['highlights'].apply(count_sentences)\n",
    "\n",
    "# Plot a count plot for the 'num_sentences_hs' column\n",
    "plt.figure(figsize = (18, 6))\n",
    "sns.countplot(x = 'num_sentences_hs', data = df_original, palette = 'viridis') # Add hue = 'num_sentences_hs' on google Colab\n",
    "plt.title('Number of Sentences in highlights')\n",
    "plt.xlabel('Number of Sentences')\n",
    "plt.ylabel('Count')\n",
    "plt.show()"
   ]
  },
  {
   "cell_type": "code",
   "execution_count": 6,
   "metadata": {},
   "outputs": [
    {
     "data": {
      "image/png": "[encoded data removed]",
      "text/plain": [
       "<Figure size 600x400 with 1 Axes>"
      ]
     },
     "metadata": {},
     "output_type": "display_data"
    }
   ],
   "source": [
    "# Plot the countplot restricted to number of sentences in highlights <= 12\n",
    "plt.figure(figsize = (6, 4))\n",
    "sns.countplot(x = 'num_sentences_hs', data = df_original[df_original['num_sentences_hs'] <= 12], palette = 'viridis') # Add hue = 'num_sentences_hs' on google Colab\n",
    "plt.title('Number of Sentences in highlights')\n",
    "plt.xlabel('Number of Sentences')\n",
    "plt.ylabel('Count')\n",
    "plt.show()"
   ]
  },
  {
   "cell_type": "markdown",
   "metadata": {},
   "source": [
    "To align with the objective of this project, we restrict our analysis to the subset of articles whose  `highlights` contain exactly four sentences. The resulting subset includes $105,340$ articles."
   ]
  },
  {
   "cell_type": "code",
   "execution_count": 7,
   "metadata": {},
   "outputs": [],
   "source": [
    "# Filter the DataFrame 'df_original' to only include rows where the 'num_sentences_hs' column equals 4\n",
    "df_original = df_original[df_original['num_sentences_hs'] == 4].reset_index(drop = True)\n",
    "# Drop the 'num_sentences_hs' column from the DataFrame since it is no longer needed\n",
    "df_original = df_original.drop(columns = ['num_sentences_hs'])"
   ]
  },
  {
   "cell_type": "code",
   "execution_count": 8,
   "metadata": {},
   "outputs": [
    {
     "name": "stdout",
     "output_type": "stream",
     "text": [
      "<class 'pandas.core.frame.DataFrame'>\n",
      "RangeIndex: 105340 entries, 0 to 105339\n",
      "Data columns (total 3 columns):\n",
      " #   Column      Non-Null Count   Dtype \n",
      "---  ------      --------------   ----- \n",
      " 0   id          105340 non-null  object\n",
      " 1   article     105340 non-null  object\n",
      " 2   highlights  105340 non-null  object\n",
      "dtypes: object(3)\n",
      "memory usage: 623.0 MB\n"
     ]
    }
   ],
   "source": [
    "# Display information about the DataFrame 'df_original', including the number of entries, column names, data types, and non-null counts. \n",
    "# The 'memory_usage = \"deep\"' option gives a detailed report of the memory usage, including object types like strings, which are not fully captured by the default memory usage option.\n",
    "df_original.info(memory_usage = 'deep')"
   ]
  },
  {
   "cell_type": "markdown",
   "metadata": {},
   "source": [
    "## Data cleaning"
   ]
  },
  {
   "cell_type": "markdown",
   "metadata": {},
   "source": [
    "To ensure the dataset’s quality and consistency, we apply several preprocessing steps to clean the data."
   ]
  },
  {
   "cell_type": "markdown",
   "metadata": {},
   "source": [
    "### 1) Removing duplicates"
   ]
  },
  {
   "cell_type": "markdown",
   "metadata": {},
   "source": [
    "The dataset contains duplicate entries with identical articles and highlights but different IDs. We remove these duplicates to prevent redundancy and ensure each article is processed once. We store the result in the DataFrame `df`."
   ]
  },
  {
   "cell_type": "code",
   "execution_count": 9,
   "metadata": {},
   "outputs": [
    {
     "data": {
      "text/html": [
       "<div>\n",
       "<style scoped>\n",
       "    .dataframe tbody tr th:only-of-type {\n",
       "        vertical-align: middle;\n",
       "    }\n",
       "\n",
       "    .dataframe tbody tr th {\n",
       "        vertical-align: top;\n",
       "    }\n",
       "\n",
       "    .dataframe thead th {\n",
       "        text-align: right;\n",
       "    }\n",
       "</style>\n",
       "<table border=\"1\" class=\"dataframe\">\n",
       "  <thead>\n",
       "    <tr style=\"text-align: right;\">\n",
       "      <th></th>\n",
       "      <th>id</th>\n",
       "      <th>article</th>\n",
       "      <th>highlights</th>\n",
       "    </tr>\n",
       "  </thead>\n",
       "  <tbody>\n",
       "    <tr>\n",
       "      <th>9582</th>\n",
       "      <td>50149c383b460f4af1dea04a9912c7e907006456</td>\n",
       "      <td>'SINDH KALAY', England (CNN) -- The aroma of f...</td>\n",
       "      <td>British soldiers train in mock Afghan village ...</td>\n",
       "    </tr>\n",
       "    <tr>\n",
       "      <th>63599</th>\n",
       "      <td>7eb0f5fe50f3debdc83a1673e4acc14920b194b5</td>\n",
       "      <td>'SINDH KALAY', England (CNN) -- The aroma of f...</td>\n",
       "      <td>British soldiers train in mock Afghan village ...</td>\n",
       "    </tr>\n",
       "    <tr>\n",
       "      <th>30924</th>\n",
       "      <td>00f3a0d78fb0ec0152f8467dc7f12310f482c1b0</td>\n",
       "      <td>'What a nice coat, ma'am.' That's all Texas fa...</td>\n",
       "      <td>Cheryl Semien has been at Whattaburger in Libe...</td>\n",
       "    </tr>\n",
       "    <tr>\n",
       "      <th>36295</th>\n",
       "      <td>15e12d1549d1246e8878887f574a6d0c29db56d7</td>\n",
       "      <td>'What a nice coat, ma'am.' That's all Texas fa...</td>\n",
       "      <td>Cheryl Semien has been at Whattaburger in Libe...</td>\n",
       "    </tr>\n",
       "    <tr>\n",
       "      <th>61090</th>\n",
       "      <td>74f585830933718eb3fdb9d42f79a29fbae83bf4</td>\n",
       "      <td>(AOL Autos)  -- Collecting cars is an expensiv...</td>\n",
       "      <td>The right new car today could be worth a fortu...</td>\n",
       "    </tr>\n",
       "    <tr>\n",
       "      <th>...</th>\n",
       "      <td>...</td>\n",
       "      <td>...</td>\n",
       "      <td>...</td>\n",
       "    </tr>\n",
       "    <tr>\n",
       "      <th>3033</th>\n",
       "      <td>19223605e0287809a065f145050147a69f2ef02b</td>\n",
       "      <td>You wanted to know more about greenwashing, an...</td>\n",
       "      <td>Scot Case answers your questions on greenwashi...</td>\n",
       "    </tr>\n",
       "    <tr>\n",
       "      <th>21305</th>\n",
       "      <td>b24ccfaffed3ba9df524010b1fd9a57b1c2123a7</td>\n",
       "      <td>You've been told for years that popping a mult...</td>\n",
       "      <td>Stick with mainstream names found to be free o...</td>\n",
       "    </tr>\n",
       "    <tr>\n",
       "      <th>95389</th>\n",
       "      <td>f8fb85f3de36eca7d1c7e907af7c0f9e8b246e28</td>\n",
       "      <td>You've been told for years that popping a mult...</td>\n",
       "      <td>Stick with mainstream names found to be free o...</td>\n",
       "    </tr>\n",
       "    <tr>\n",
       "      <th>52595</th>\n",
       "      <td>540ac491c49625e5bc117e8f09e5e2a7e8748019</td>\n",
       "      <td>ZHOUSHAN, China (CNN)  -- They operate from a ...</td>\n",
       "      <td>Chinese hackers claim to have broken into Pent...</td>\n",
       "    </tr>\n",
       "    <tr>\n",
       "      <th>6818</th>\n",
       "      <td>3882c8928b8bee05ebdca190dd32dc89b3fc2b83</td>\n",
       "      <td>ZHOUSHAN, China (CNN)  -- They operate from a ...</td>\n",
       "      <td>Chinese hackers claim to have broken into Pent...</td>\n",
       "    </tr>\n",
       "  </tbody>\n",
       "</table>\n",
       "<p>3227 rows × 3 columns</p>\n",
       "</div>"
      ],
      "text/plain": [
       "                                             id  \\\n",
       "9582   50149c383b460f4af1dea04a9912c7e907006456   \n",
       "63599  7eb0f5fe50f3debdc83a1673e4acc14920b194b5   \n",
       "30924  00f3a0d78fb0ec0152f8467dc7f12310f482c1b0   \n",
       "36295  15e12d1549d1246e8878887f574a6d0c29db56d7   \n",
       "61090  74f585830933718eb3fdb9d42f79a29fbae83bf4   \n",
       "...                                         ...   \n",
       "3033   19223605e0287809a065f145050147a69f2ef02b   \n",
       "21305  b24ccfaffed3ba9df524010b1fd9a57b1c2123a7   \n",
       "95389  f8fb85f3de36eca7d1c7e907af7c0f9e8b246e28   \n",
       "52595  540ac491c49625e5bc117e8f09e5e2a7e8748019   \n",
       "6818   3882c8928b8bee05ebdca190dd32dc89b3fc2b83   \n",
       "\n",
       "                                                 article  \\\n",
       "9582   'SINDH KALAY', England (CNN) -- The aroma of f...   \n",
       "63599  'SINDH KALAY', England (CNN) -- The aroma of f...   \n",
       "30924  'What a nice coat, ma'am.' That's all Texas fa...   \n",
       "36295  'What a nice coat, ma'am.' That's all Texas fa...   \n",
       "61090  (AOL Autos)  -- Collecting cars is an expensiv...   \n",
       "...                                                  ...   \n",
       "3033   You wanted to know more about greenwashing, an...   \n",
       "21305  You've been told for years that popping a mult...   \n",
       "95389  You've been told for years that popping a mult...   \n",
       "52595  ZHOUSHAN, China (CNN)  -- They operate from a ...   \n",
       "6818   ZHOUSHAN, China (CNN)  -- They operate from a ...   \n",
       "\n",
       "                                              highlights  \n",
       "9582   British soldiers train in mock Afghan village ...  \n",
       "63599  British soldiers train in mock Afghan village ...  \n",
       "30924  Cheryl Semien has been at Whattaburger in Libe...  \n",
       "36295  Cheryl Semien has been at Whattaburger in Libe...  \n",
       "61090  The right new car today could be worth a fortu...  \n",
       "...                                                  ...  \n",
       "3033   Scot Case answers your questions on greenwashi...  \n",
       "21305  Stick with mainstream names found to be free o...  \n",
       "95389  Stick with mainstream names found to be free o...  \n",
       "52595  Chinese hackers claim to have broken into Pent...  \n",
       "6818   Chinese hackers claim to have broken into Pent...  \n",
       "\n",
       "[3227 rows x 3 columns]"
      ]
     },
     "execution_count": 9,
     "metadata": {},
     "output_type": "execute_result"
    }
   ],
   "source": [
    "duplicated_articles = df_original[df_original.duplicated(subset = ['article'], keep = False)]\n",
    "duplicated_articles.sort_values(by = 'article')"
   ]
  },
  {
   "cell_type": "code",
   "execution_count": 10,
   "metadata": {},
   "outputs": [],
   "source": [
    "df = df_original.copy()\n",
    "df = df.drop_duplicates(subset = 'article')"
   ]
  },
  {
   "cell_type": "markdown",
   "metadata": {},
   "source": [
    "### 2) Cleaning highlights"
   ]
  },
  {
   "cell_type": "markdown",
   "metadata": {},
   "source": [
    "For each instance of the dataset the sentences in the `highlights` column are separated by ’\\n’. We remove these newline characters to avoid potential issues with the `rouge` evaluation package. We show below as an example the first entry of the dataset before and after the cleaning (one can verify that the same happens for every other entry of `df`)."
   ]
  },
  {
   "cell_type": "code",
   "execution_count": 11,
   "metadata": {},
   "outputs": [
    {
     "data": {
      "text/plain": [
       "'Black box data from Flight 370 could be analyzed at a laboratory in Australia .\\nEven if the flight data recorder is damaged, information is retrievable .\\nAbout 2,000 parameters are decoded, like altitude, engine performance and cabin pressure .\\nThe data is used to create a visual representation, helping the public understand an accident .'"
      ]
     },
     "execution_count": 11,
     "metadata": {},
     "output_type": "execute_result"
    }
   ],
   "source": [
    "df.loc[0]['highlights']"
   ]
  },
  {
   "cell_type": "code",
   "execution_count": 11,
   "metadata": {},
   "outputs": [],
   "source": [
    "# We use regular expressions to remove newline characters\n",
    "df['highlights'] = df['highlights'].str.replace(\"\\n\", ' ', regex = True)\n",
    "df['highlights'] = df['highlights'].str.replace(r'\\s+\\.', '.', regex = True)"
   ]
  },
  {
   "cell_type": "code",
   "execution_count": 13,
   "metadata": {},
   "outputs": [
    {
     "data": {
      "text/plain": [
       "'Black box data from Flight 370 could be analyzed at a laboratory in Australia. Even if the flight data recorder is damaged, information is retrievable. About 2,000 parameters are decoded, like altitude, engine performance and cabin pressure. The data is used to create a visual representation, helping the public understand an accident.'"
      ]
     },
     "execution_count": 13,
     "metadata": {},
     "output_type": "execute_result"
    }
   ],
   "source": [
    "df.loc[0]['highlights']"
   ]
  },
  {
   "cell_type": "markdown",
   "metadata": {},
   "source": [
    "Additionally, as we can see below, some highlights begin with the word 'NEW:'. We remove this prefix as it is not part of the summary’s semantic content. At the end, we show as examples the first two highlights below, after cleaning."
   ]
  },
  {
   "cell_type": "code",
   "execution_count": 14,
   "metadata": {},
   "outputs": [
    {
     "data": {
      "text/plain": [
       "11       NEW: State media report four deaths, 40 injuri...\n",
       "14       NEW: Police make an arrest. Authorities say Ma...\n",
       "19       NEW: Palestinian security forces say they will...\n",
       "20       NEW: Next terror attack on U.S. likely to orig...\n",
       "51       NEW: Father of alleged murder victim objects t...\n",
       "                               ...                        \n",
       "97080    NEW: As many as 37 people are dead in the fire...\n",
       "97082    NEW: Two of the wounded are Americans. The top...\n",
       "97110    NEW: State media reports 27 civilians are kill...\n",
       "97139    NEW: Timothy Geithner to be announced as Treas...\n",
       "97161    NEW: An opposition leader says crackdown, not ...\n",
       "Name: highlights, Length: 6706, dtype: object"
      ]
     },
     "execution_count": 14,
     "metadata": {},
     "output_type": "execute_result"
    }
   ],
   "source": [
    "df[df['highlights'].str.contains(r'^NEW: ', regex = True)]['highlights']"
   ]
  },
  {
   "cell_type": "code",
   "execution_count": 12,
   "metadata": {},
   "outputs": [],
   "source": [
    "df['highlights'] = df['highlights'].str.replace(r'^NEW: ', '', regex = True)"
   ]
  },
  {
   "cell_type": "code",
   "execution_count": 16,
   "metadata": {},
   "outputs": [
    {
     "data": {
      "text/html": [
       "<div>\n",
       "<style scoped>\n",
       "    .dataframe tbody tr th:only-of-type {\n",
       "        vertical-align: middle;\n",
       "    }\n",
       "\n",
       "    .dataframe tbody tr th {\n",
       "        vertical-align: top;\n",
       "    }\n",
       "\n",
       "    .dataframe thead th {\n",
       "        text-align: right;\n",
       "    }\n",
       "</style>\n",
       "<table border=\"1\" class=\"dataframe\">\n",
       "  <thead>\n",
       "    <tr style=\"text-align: right;\">\n",
       "      <th></th>\n",
       "      <th>id</th>\n",
       "      <th>article</th>\n",
       "      <th>highlights</th>\n",
       "    </tr>\n",
       "  </thead>\n",
       "  <tbody>\n",
       "  </tbody>\n",
       "</table>\n",
       "</div>"
      ],
      "text/plain": [
       "Empty DataFrame\n",
       "Columns: [id, article, highlights]\n",
       "Index: []"
      ]
     },
     "execution_count": 16,
     "metadata": {},
     "output_type": "execute_result"
    }
   ],
   "source": [
    "# We double check to be sure that all instances of \"NEW:\" were removed from the beginning of the highlights\n",
    "df[df['highlights'].str.contains(r'^NEW: ', regex = True)]"
   ]
  },
  {
   "cell_type": "code",
   "execution_count": 17,
   "metadata": {},
   "outputs": [
    {
     "data": {
      "text/plain": [
       "11    State media report four deaths, 40 injuries. A...\n",
       "14    Police make an arrest. Authorities say Matthew...\n",
       "Name: highlights, dtype: object"
      ]
     },
     "execution_count": 17,
     "metadata": {},
     "output_type": "execute_result"
    }
   ],
   "source": [
    "# Examples after cleaning\n",
    "df.loc[[11, 14]]['highlights']"
   ]
  },
  {
   "cell_type": "markdown",
   "metadata": {},
   "source": [
    "### 3) Removing metainformation in articles"
   ]
  },
  {
   "cell_type": "markdown",
   "metadata": {},
   "source": [
    "The articles often contain extraneous metainformation, particularly at the beginning, which are irrelevant to the summarization task. Below are the types of metainformation identified. "
   ]
  },
  {
   "cell_type": "markdown",
   "metadata": {},
   "source": [
    "1) Articles starting with (CNN) --, (CNN), or other journal/websites names in parentheses (e.g., (Rolling Stone), (CNET), (EW.com)), eventually preceded by city and/or country names."
   ]
  },
  {
   "cell_type": "code",
   "execution_count": 18,
   "metadata": {},
   "outputs": [
    {
     "data": {
      "text/plain": [
       "1         (CNN) -- One can hardly read the news these da...\n",
       "8         (CNN) -- A University of Wisconsin senior offi...\n",
       "9         (CNN) -- Returning home from the London 2012 P...\n",
       "10        (CNN) -- While the Tour de France ambles aroun...\n",
       "11        (CNN) -- After weeks of relative calm, clashes...\n",
       "                                ...                        \n",
       "104942    (CNN)That's some rich \"American Pie.\" The lyri...\n",
       "104976    (CNN)They're not gonna take it anymore. Really...\n",
       "105215    (CNN)Looting, fires and violence descended on ...\n",
       "105288    (CNN)If newly revised NYPD training materials ...\n",
       "105307    (CNN)You might call her a watchdog, because th...\n",
       "Name: article, Length: 24952, dtype: object"
      ]
     },
     "execution_count": 18,
     "metadata": {},
     "output_type": "execute_result"
    }
   ],
   "source": [
    "# Artcles starting with names in parenthesis eventually followed by --\n",
    "df[df['article'].str.contains(r'^\\(.*?\\)(?:\\s*--)?', regex = True)]['article']"
   ]
  },
  {
   "cell_type": "markdown",
   "metadata": {},
   "source": [
    "It seems from above that only CNN appears inside the parentheses, but there are actually other journal or websites names such as Rolling Stone, CNET, EW.com, Mental Floss and others. We show it below."
   ]
  },
  {
   "cell_type": "code",
   "execution_count": 19,
   "metadata": {},
   "outputs": [
    {
     "name": "stdout",
     "output_type": "stream",
     "text": [
      "135\n",
      "(Rolling Stone) -- The digital archivist who restored the singles catalogs of the Smiths, Joy Division and New Order in a series of blog projects is being strongly discouraged from starting a similar project collecting R.E.M.'s earliest work. In a blog post on the nascent R.E.M.cycle site, the blogger known as Analog Loyalist explained that Universal, the record company that owns the band's IRS Records catalog, issued a Digital Millennium Copyright Act (DMCA) takedown notice for an R.E.M. post on the writer's sister site The Power of Independent Trucking featuring a restored version of the band's first cassette demo, with early renditions of \"Radio Free Europe,\" \"Sitting Still\" and \"White Tornado.\" \"Tell me, what role does the IFPI (of which Universal is obviously a member) have to do with unreleased material recorded when the band had no record contract?,\" Analog Loyalist writes, referring to the International Federation of the Phonographic Industry. \"These were demos freely given away by the band. On low-fi C45 cassettes. And the IFPI thinks it's their business how?\" The blogger is now reconsidering the wisdom of pursuing the project. \"So you can see why I'm very hesitant to move forward with this blog, only because I don't want to see my efforts as a writer/archivist/engineer wasted,\" he writes. The site would in fact be a very labor-intensive process. As explained in the sidebar for the R.E.M., Smiths and Joy Division/New Order sites, the tracks used are \"taken from the best/earliest possible sources to avoid modern mastering techniques which crush the dynamics,\" and the artwork is \"scanned at the highest possible resolution and the type was reset when possible using the original fonts.\" All works featured in these projects are from out-of-print sources, and some tracks have never been commercially released or reissued. See the full story at RollingStone.com. Copyright © 2011 Rolling Stone.\n",
      "150\n",
      "(CNET) -- Now that stereo Bluetooth has become a common feature in a lot of music phones, it's no surprise that stereo Bluetooth headsets have become quite popular as well. Stereo Bluetooth headsets come in many shapes and sizes, from the behind-the-ear style of the Motorola Rokr S9 to the over-the-head style of the Jabra BT8030. The Jabra BT3030 is in the style of a pendant, or as its design suggests, more of a dog tag. It's been available for a while now, but we think it's still worth it. The Jabra BT3030 can be purchased for around $39.99. Of course like any stereo Bluetooth headset, the Jabra BT3030 requires a cell phone with the A2DP or stereo Bluetooth profile. The Jabra BT3030 consists primarily of a small remote control unit housed in a dog-tag style pendant. Measuring 2.1-inches long by 1.6-inch wide by 0.38-inch thick, the pendant is slim and compact with a metal finish and a rubberized border all around it. All of the controls are laid out right on the front face in a straightforward grid. They are the Play/Pause key, the track shuffle keys, the volume controls, plus the multifunction Call key. The keys are all made of rubber, and are raised above the surface for a nice tactile feel. The 3.5mm headset jack is on the right spine, while the charger jack is on the bottom. On the top is an opening for an optional lanyard. Also on the top is a tiny microphone. Getting the headset set up is pretty simple. Just power it on via the multifunction Call button, and turn on the Bluetooth pairing mode on your cell phone. We managed to pair the Jabra BT3030 with the LG Chocolate 3 without a problem. From there, we could play/pause tracks, skip songs, and adjust the volume, all from the Jabra BT3030. The Jabra BT3030 comes with nice pair of ear buds that sit comfortably in the ear, but since it has a 3.5mm headset jack, you can use any headphones of your choosing. Aside from using the Jabra BT3030 for music, you can also use the it to make calls via the last number redial or voice command. When there's an incoming call during music playback, the music will pause and you will hear a ringing tone. You can then hit the Call button to answer the call. After you hang up, the music will resume from the paused point. Other features include call-waiting support, the ability to reject calls, plus the ability to transfer calls from the headset to the phone, and vice versa. Sound quality was quite good, and comparable to most MP3 players on the market. The bass was a little weak, but the overall quality was decent. Call quality was mixed. While we heard our callers just fine, we did have to bring the pendant close to our mouths for callers to hear us. They reported a little bit of static and echo from us as well. This seemed to vary from caller to caller, however, so we urge you to give it a trial run before you settle for it. The Jabra BT3030 also comes with an optional clothing clip accessory, plus an AC adapter. It has a rated battery life of 8 hours talk time, 7 hours music streaming, and 9.58 days standby time. © 2009 CBS Interactive Inc. All rights reserved. CNET, CNET.com and the CNET logo are registered trademarks of CBS Interactive Inc. Used by permission.\n",
      "205\n",
      "(EW.com) -- You don't need to look very hard to find Neil Patrick Harris these days. The actor-slash-singer-slash-magician has hosted the Emmys, performed at the Oscars, and even headlined the World Magic Awards, which apparently are an actual thing. But despite his menagerie of ceremonial credits, the consummate entertainer admits that it's the Tony Awards -- which Harris is hosting for the third time on Sunday, June 10, on CBS -- that hold the dearest spot in his heart. \"I think the celebratory tone of it makes it my favorite show to host,\" says Harris, who previously celebrated Broadway's biggest night with successful hosting gigs in 2009 and 2011. \"In the Emmys and in observing the Oscars, it's a bunch of individuals that hardly know each other that all work in their own business bubbles, and I think the opposite is true on Broadway. Most everyone is a) thrilled to be there, b) even more thrilled to be nominated but c) and I think most importantly, they all know and are supportive of each other, so you end up with this great evening where it's not a lot of sour grapes.\" With last year's \"Book of Mormon\"-dominated telecast dabbling in irreverence, this year's ceremony should be noticeably more family-oriented, thanks in no small part to the heavy presence of a solid handful of mainstream plays representing one of the medium's best seasons in recent memory. Despite powerful performances, plays typically tend to get short shrift at the musical-focused Tonys â€” a foregone conclusion of the ceremony that Harris hopes to change this year. \"I'm really trying this year to figure out a way to get performances by plays somehow in the show,\" Harris tells EW. \"Every year you focus mostly on the musicals, because that's what's easier to put on the stage, like a three-and-a-half-minute number from 'Anything Goes.' But with so many amazing James Earl Joneses and Stockard Channings, we've got some amazing, monologue-talented people that I want to showcase the plays in a legitimate way.\" Does that mean we'll be treated to a brief glimpse of Darth Vader and Rizzo in a monologue mash-up? (Most likely not, as that's an awful idea on my part.) But what we can expect on June 10 is a high-energy telecast that commemorates the best of the year on Broadway and cements Harris as a master master of ceremonies. \"The more content I end up doing, then the less time everyone gets to spend watching performances, and really, in addition to doling out awards, that's the reason you watch,\" says Harris, who last year sang a duet with Hugh Jackman, a group performance with the New York Philharmonic cast of \"Company\" and a full opening and closing number. \"Not to say I won't be around. I'm hoping for the watercooler-y moments when you have to pause and go back and rewatch. There will be a couple surprises!\" As we count down the days until we can see what NPH has up his sleeve at the Tony Awards, we'll just have to make do with his opening number from last year. See full story at EW.com. CLICK HERE to Try 2 RISK FREE issues of Entertainment Weekly . © 2011 Entertainment Weekly and Time Inc. All rights reserved.\n",
      "389\n",
      "(Mental Floss) -- Just hearing the word \"champagne\" conjures up images of sparkling wine, popping corks, and wild celebrations. But mentioning that other Champagne -- as in the northeastern region of France -- evokes a much more complex bouquet. Filled with wars, political clashes, and controversy, the bubbly region and its eponymous drink have produced a rich history worth toasting to. Divine Origins . Today, the region synonymous with sparkling wine is crowded with vineyards -- but that wasn't always the case. In fact, during the 17th century, France's Champagne district was known primarily for its high-quality wool. Then a Benedictine monk named Dom Perignon came along and changed everything. At the age of 29, Perignon was appointed business manager of Champagne's Abbey at Hautvillers. Realizing that the financial health and reputation of the monastery was tied to its vineyards, the Dom set to work resurrecting the beaten-down vines and reconstructing the cellar. In almost no time, the Hautvillers vineyard was up and running. Nowadays, many people credit Dom Perignon with inventing champagne by forcing bubbles into sweet wine. That's a myth, though. In Dom Perignon's day, bubbles were considered a serious wine flaw, and the good monk actually went to considerable lengths to eliminate them during his 47 years as cellar-master. And while he never succeeded on that front, he did succeed in making bubbly wine a whole lot better. For starters, he was the first winemaker in Champagne to use corks, which kept the carbon dioxide from escaping, thus creating the bubbles. He also used a process of gently pressing his grapes, so that it eliminated the dark color that came from the skins -- producing a clearer, less murky wine. He even blended his grapes to make a light white wine, which suited the effervescence far better than the heavy red. Legend has it that upon first tasting his vastly improved beverage, the Dom exclaimed, \"Come quickly, I am tasting the stars!\" Loyal Royals . Dom Perignon brought such nobility and renown to Champagne's sparkling wines that they soon became the preferred libation of royalty -- namely, France's Sun King, Louis XIV. For much of his life, Louis XIV drank champagne almost exclusively -- a habit that made one province very wealthy and another very jealous. Burgundy, to the south, felt the Sun King was giving their fine red wines the shaft. They soon engaged Champagne in a war of words carried out via inflammatory pamphlets and public seminars deriding their wine. The feud was no small affair. In fact, it lasted for more than 130 years, and many times, the two regions seemed to teeter on the brink of a civil war. Of course, the Champenois learned to embrace the long-detested bubbles along the way, and it didn't hurt that doctors began claiming the bubbles cured malaria (a proclamation that caught the attention of everyone with a moat). Louis the Great was hardly the last emperor to take a liking to the region, however. At age 9, Napoleon Bonaparte was sent to study at the Brienne military academy in Champagne, where he developed an early interest in the local brew. In fact, before each of his military campaigns, the self-appointed emperor made a point of passing through Champagne to obtain a supply of bubbly from his good friend Jean-Rémy Moët. After all, Napoleon once claimed of champagne, \"In victory you deserve it, in defeat you need it.\" One can only assume that post-Waterloo was a time of need. Sadly, in the ensuing years, Champagne's ties to royalty did more harm than good. In 1870, Bonaparte's nephew, Napoleon III, declared war on Prussia, and by the time Prussian troops overran Alsace and Lorraine, the only thing standing between them and Paris was a patch of land called Champagne. The Franco-Prussian War was one of the bloodiest of the 19th century, and many of the deaths, according to one observer, occurred in fields \"strewn with fragments of glass from champagne bottles.\" Within a short time, Prussia had won the war, and France was left nearly bankrupt. It was about that time that Louise Pommery decided to introduce a radical new idea to the world: dry champagne. Brut, as it became known, was more expensive and more difficult to make because it required more fully ripened grapes. But the extra effort paid dividends. The world loved brut, and within three years, France's economy was back on track. Along with the cabaret, the cinema, and the cancan, champagne played a large role in the Belle Époque -- the nation's greatest era of peace and prosperity. It's no wonder, then, that the sparkling beverage quickly became a fixed part of France's national character. Trick or Treaty? In order to cement the Champenois' hard-earned contributions to world culture, France forced some specific language into the 1891 Treaty of Madrid. It stated that sparkling wine could only be named champagne if it was produced in Champagne and made with grapes originating there. As happy as this made the Champenois, it also created a confusing problem. Champagne itself didn't have defined borders; thus, when the French government formally declared in 1908 that only those vineyards in the Marne and Aisne districts had the right to call themselves \"Champagne,\" well, it caused quite a ruckus in the neighboring Aube region. (This would be roughly the same thing as Major League Baseball suddenly declaring the Toronto Blue Jays a minor league franchise because it isn't really located in the United States even though they've won the World Series.) What happened next was predictable: protests, riots and 6 million bottles of good champagne destroyed. Of course, the incident was nothing compared to the devastation, confusion, and sheer terror Champagne experienced during World War I. The German toll on the area was horrific. In fact, the destruction of buildings like the Rheims Cathedral (a building that had seen the coronation of many a French monarch, celebrated with many bottles of  -- what else? -- champagne) was so dramatic that among the many stipulations of the post-war Treaty of Versailles was a further, more forceful clarification of the 1891 proclamation that only the Champenois could legally produce a sparkling wine called champagne. That seemingly minor concession in the Treaty of Versailles has become the linchpin of the business in France. The fact that no other nation (nor any other region of France, for that matter) can legally produce champagne gives long-established houses like Moët & Chandon, Veuve Clicquot, Taittinger, and Krug a huge advantage when it comes to sales. Sure, other places produce sparkling wine, but in Italy it's called spumante, in Spain it's called cava, and in Alsace, crémant. Interestingly, American sparkling wine producers have been able to get away with printing the word \"champagne\" on their labels, but only because they've sneakily skirted the system. Even though President Woodrow Wilson signed the Treaty of Versailles, the U.S. Senate never ratified it; therefore, American winemakers are technically not subject to the strict standards of the treaty. (Which is why Korbel sells a bottle of \"California Champagne\" for less than $15.) Champenois of the World . Today, the champagne business in Champagne is as strong as ever. In fact, things are going so well that some insiders worry that the only place for the region's industry to go is down. They warn that small producers are introducing new brands too quickly, and that they might be at risk of overcrowding the market. Of course, the biggest problem seems to be growth. Because Champagne has a finite geographical size, it can only hold so many vineyards, and right now, the region is at its capacity. Not to worry. Even though the Champenois make a wine for the best of times, they've had more than their share of the worst of times. And somehow, that special homemade bubbly always seems to carry them through. For more mental_floss articles, visit mental_floss. © Entire contents of this article copyright, Mental Floss LLC. All rights reserved. E-mail to a friend . For more mental_floss articles, visit mentalfloss.com . Entire contents of this article copyright, Mental Floss LLC. All rights reserved.\n"
     ]
    }
   ],
   "source": [
    "indices = [135, 150, 205, 389]\n",
    "\n",
    "for i in indices:\n",
    "    print(f\"{i}\\n{df.loc[i]['article']}\")"
   ]
  },
  {
   "cell_type": "markdown",
   "metadata": {},
   "source": [
    "It might also happen that the names inside the parentheses are preceded by city and/or country names. We show it for CNN below, but it can be verified also for other names such as Financial Times, Reuters and some others."
   ]
  },
  {
   "cell_type": "code",
   "execution_count": 20,
   "metadata": {},
   "outputs": [
    {
     "data": {
      "text/plain": [
       "0         Canberra, Australia (CNN) -- At first glance, ...\n",
       "20        WASHINGTON (CNN)  -- Terrorists are likely to ...\n",
       "21        CAVITE CITY, Philippines (CNN)  -- At 16, Rhan...\n",
       "30        BERLIN, Germany (CNN) -- A German cruise liner...\n",
       "51        Los Angeles (CNN) -- A Fullerton, California, ...\n",
       "                                ...                        \n",
       "102760    Phoenix, Arizona (CNN)Nearly 12 million parent...\n",
       "103278    Surkhet, Nepal (CNN)Ten years ago, with her hi...\n",
       "103291    New York  (CNN)New York's iconic Statue of Lib...\n",
       "104047    Miami (CNN)Despite the glitz and glamour Miami...\n",
       "104855    Boston (CNN)Now the real Boston Marathon trial...\n",
       "Name: article, Length: 13591, dtype: object"
      ]
     },
     "execution_count": 20,
     "metadata": {},
     "output_type": "execute_result"
    }
   ],
   "source": [
    "df[df['article'].str.contains(r'^\\w+.*?\\(CNN\\)(?:\\s*--)?', regex = True)]['article']  "
   ]
  },
  {
   "cell_type": "markdown",
   "metadata": {},
   "source": [
    "We store all the journal/websites names in the `names` list below and use a regular expression that covers all the cases mentioned above to remove text. Notice that the names in the list can appear with upper or lower case and eventually with .com at the end. We incorporate all these possibilities in the same regular expression."
   ]
  },
  {
   "cell_type": "code",
   "execution_count": 13,
   "metadata": {},
   "outputs": [],
   "source": [
    "# List of the journal/websites names appearing in parentheses, regardless of case and eventually followed by .com\n",
    "names = ['CNN', 'CNN Student News', 'CNN Espanol', 'Rolling Stone', 'RollingStone', 'CNET', 'EW', 'Mental Floss', 'MentalFloss', 'AOL Autos', 'Time', 'Careerbuilder', 'Oprah', 'People', 'Mashable', 'Entertainment Weekly', 'Financial Times', 'The Frisky', 'LifeWire', 'Wired', 'Ars Technica', 'InStyle', 'Real Simple', 'RealSimple', 'Health', 'Parenting', 'Reuters', 'Motor Sport', 'VBS.TV', 'Save The Children', 'Business Insider', 'Upwave', 'Uwire', 'MNN', 'Budget Travel', 'Travel \\+ Leisure', 'HLNtv', 'CNNGo', 'Tribune Media Services', 'Southern Living', 'ESSENCE', 'This Old House', 'RS']\n",
    "\n",
    "for name in names:\n",
    "    # For each name replace the pattern with empty string in the 'article' column to remove the first type of metainformation\n",
    "    pattern = r'^.*?\\(\\s*' + name + r'(?:\\.com)?\\s*\\)(?:\\s*--\\s*)?'\n",
    "    df['article'] = df['article'].str.replace(pattern, '', regex = True, flags = re.IGNORECASE)"
   ]
  },
  {
   "cell_type": "markdown",
   "metadata": {},
   "source": [
    "We check if all the names inside the parentheses have been removed from the beginning of the articles."
   ]
  },
  {
   "cell_type": "code",
   "execution_count": 22,
   "metadata": {},
   "outputs": [
    {
     "data": {
      "text/plain": [
       "26358    (CNN) -- The words \"budget\" and \"compromise\" h...\n",
       "61802    (CNN) -- The hostage standoff in St. Joseph, L...\n",
       "65090    (CNN) -- Two skiers missing after a weekend av...\n",
       "73164    (CNN) -- Malaysia Airlines flight carrying 239...\n",
       "Name: article, dtype: object"
      ]
     },
     "execution_count": 22,
     "metadata": {},
     "output_type": "execute_result"
    }
   ],
   "source": [
    "df[df['article'].str.contains(r'^\\(.*?\\)(?:\\s*--)?', regex = True)]['article']"
   ]
  },
  {
   "cell_type": "markdown",
   "metadata": {},
   "source": [
    "As we can see, there are four articles in which (CNN) -- has not been removed. Therefore, we compare these articles before and after the cleaning to see why the above regular expression didn't work."
   ]
  },
  {
   "cell_type": "code",
   "execution_count": 23,
   "metadata": {},
   "outputs": [
    {
     "name": "stdout",
     "output_type": "stream",
     "text": [
      "26358\n",
      "Washington (CNN) -- (CNN) -- The words \"budget\" and \"compromise\" haven't been connected in Congress in recent years. But legislators stunned observers and perhaps each other this week when Republicans and Democrats proved that they can, indeed, agree on government spending. Republican Rep. Paul Ryan and Democratic Sen. Patty Murray worked out a budget framework to fund the government into 2015. The House approved the compromise agreement Thursday. The measure now goes to the Senate, where it is expected to pass as early as next week. The White House supports the proposal. It was the first full budget agreement by a divided Congress -- in which different parties control the House and Senate -- since 1986, Ryan boasted in announcing the deal. After years of bruising political fights over spending and the federal borrowing limit, dysfunction reigned supreme in October when the government shut down for 16 days. A short-term spending plan got it going again, but a CNN/ORC International poll found that 71% of Americans thought another shutdown would occur when the money ran out in January. Instead, such repeated budget brinksmanship would be put on hold if Congress passes the Ryan-Murray proposal. While neither side loves the compromise legislation, it appears to be on a path to approval. So, what changed this time? Republican leaders stood up . For two years, the most conservative members of the Republican Party, with the help of outside conservative groups, have been driving the agenda in the GOP-led House. House Speaker John Boehner endured humiliating leadership lapses when he was unable to corral sufficient votes from his majority caucus for legislation and agreements opposed by the tea party wing. The government shutdown in October was apparently the last straw. Led by tea party conservatives, Republicans forced a showdown over their demand to dismantle Obamacare. When Democrats balked, the public blamed the GOP for the dysfunction. Plummeting poll numbers emboldened Boehner and other establishment Republicans to assert their leadership this time by defying conservative opposition to the budget agreement. In particular, Boehner has blamed outside conservative groups that exert influence on Republican politics for pushing GOP legislators into the politically disastrous government shutdown in October. \"The day before the government re-opened, one of these groups stood up and said 'well, we never really thought it would work,'\" he told reporters Thursday before animatedly asking: \"Are you kidding me?\" At the same time, Boehner and other GOP leaders want to keep the political focus on problems with Obamacare, such as the botched launch of the HealthCare.gov website and policy cancellations despite President Barack Obama's promise that people could keep coverage they liked. Rep. Paul Ryan: From Republican VP candidate to fiscal deal maker . In defense of defense . In general, members of Congress hated the untargeted forced spending cuts known as sequestration from a 2011 agreement, albeit for different reasons. Democrats disliked the indiscriminate nature of the dramatic spending reductions, with priorities such as education and social programs targeted equally with other less-valued categories. Republicans, meanwhile, opposed the deep cuts to military spending that top generals said weakened America's defense readiness. The budget deal would eliminate $45 billion worth of sequester cuts set to hit in January, as well as another $18 billion scheduled for 2015. Defense Secretary Chuck Hagel praised the agreement Thursday, saying it provided certainty for military planning. \"This agreement does not solve all (Department of Defense) budget problems but it helps address readiness especially in 2014 with putting more money back in training, in particular, and procurement,\" said Hagel, a former Republican senator. \"It also gives us some new certainty, predictability for our planning, for our budgeting over the next two years which is particularly important,\" he added. No one likes Congress . Years of dysfunction have really torpedoed the public's view of Congress. After the October government shutdown, a CNN/ORC International poll showed only 14% of respondents expressed satisfaction with how the government was operating. By comparison, 26% of people were dissatisfied with the government during the Watergate scandal. Congress was under pressure from the public as well as the business community, including the influential Chamber of Commerce, which warned that another manufactured government crisis would harm the economy. Perhaps lawmakers are sick of being the least popular kids in town. Pat Murray emerges as bipartisan figure after budget deal . Democrats don't want to be blamed . Republicans got the most blame for the October shutdown, and Democrats want to make that a permanent association in the mind of the public. House Minority Leader Nancy Pelosi told CNN on Thursday that the anti-government tea party wing had sullied the GOP brand. \"In many ways, those people have hijacked the name Republican, which has been such a valuable contribution to our country, the Republican Party,\" the California Democrat said. \"But they've taken it over the cliff.\" With congressional elections coming up next year, Democrats want to ensure that voters think of Republicans whenever the word shutdown comes up. Agreeing to the budget plan avoids the possibility of another shutdown until at least 2015, preserving the negative connotation for Republicans through the next election cycle. Certainty at last . Actually passing a formal budget for the first time in several years benefits everyone. Congress returns to what leaders call \"regular order\" on the budget, meaning spending proposals are debated and passed instead of the practice in recent years of merely authorizing spending at previous levels. Bureaucrats can develop strategies and plans based on known figures, rather than wallowing in uncertainty over how much money the bickering legislators finally would authorize. Legislators up for re-election next year can campaign on their political and fiscal philosophies and accomplishments -- such as passing a budget -- instead of engaging in spending showdowns that anger voters and hinder economic growth. \"I came here to cut the size of government. That's exactly what this bill does,\" Boehner said Thursday of the budget deal. Meanwhile, Pelosi made sure to point out that passing the budget agreement would require Democratic votes because too many Republicans oppose it for the majority party to push it through on its own. \"They haven't passed anything with their own votes that was any good for the country,\" she said. Opinion: A budget deal that's bad for America . CNN's Paul Steinhauser contributed to this report.\n",
      "(CNN) -- The words \"budget\" and \"compromise\" haven't been connected in Congress in recent years. But legislators stunned observers and perhaps each other this week when Republicans and Democrats proved that they can, indeed, agree on government spending. Republican Rep. Paul Ryan and Democratic Sen. Patty Murray worked out a budget framework to fund the government into 2015. The House approved the compromise agreement Thursday. The measure now goes to the Senate, where it is expected to pass as early as next week. The White House supports the proposal. It was the first full budget agreement by a divided Congress -- in which different parties control the House and Senate -- since 1986, Ryan boasted in announcing the deal. After years of bruising political fights over spending and the federal borrowing limit, dysfunction reigned supreme in October when the government shut down for 16 days. A short-term spending plan got it going again, but a CNN/ORC International poll found that 71% of Americans thought another shutdown would occur when the money ran out in January. Instead, such repeated budget brinksmanship would be put on hold if Congress passes the Ryan-Murray proposal. While neither side loves the compromise legislation, it appears to be on a path to approval. So, what changed this time? Republican leaders stood up . For two years, the most conservative members of the Republican Party, with the help of outside conservative groups, have been driving the agenda in the GOP-led House. House Speaker John Boehner endured humiliating leadership lapses when he was unable to corral sufficient votes from his majority caucus for legislation and agreements opposed by the tea party wing. The government shutdown in October was apparently the last straw. Led by tea party conservatives, Republicans forced a showdown over their demand to dismantle Obamacare. When Democrats balked, the public blamed the GOP for the dysfunction. Plummeting poll numbers emboldened Boehner and other establishment Republicans to assert their leadership this time by defying conservative opposition to the budget agreement. In particular, Boehner has blamed outside conservative groups that exert influence on Republican politics for pushing GOP legislators into the politically disastrous government shutdown in October. \"The day before the government re-opened, one of these groups stood up and said 'well, we never really thought it would work,'\" he told reporters Thursday before animatedly asking: \"Are you kidding me?\" At the same time, Boehner and other GOP leaders want to keep the political focus on problems with Obamacare, such as the botched launch of the HealthCare.gov website and policy cancellations despite President Barack Obama's promise that people could keep coverage they liked. Rep. Paul Ryan: From Republican VP candidate to fiscal deal maker . In defense of defense . In general, members of Congress hated the untargeted forced spending cuts known as sequestration from a 2011 agreement, albeit for different reasons. Democrats disliked the indiscriminate nature of the dramatic spending reductions, with priorities such as education and social programs targeted equally with other less-valued categories. Republicans, meanwhile, opposed the deep cuts to military spending that top generals said weakened America's defense readiness. The budget deal would eliminate $45 billion worth of sequester cuts set to hit in January, as well as another $18 billion scheduled for 2015. Defense Secretary Chuck Hagel praised the agreement Thursday, saying it provided certainty for military planning. \"This agreement does not solve all (Department of Defense) budget problems but it helps address readiness especially in 2014 with putting more money back in training, in particular, and procurement,\" said Hagel, a former Republican senator. \"It also gives us some new certainty, predictability for our planning, for our budgeting over the next two years which is particularly important,\" he added. No one likes Congress . Years of dysfunction have really torpedoed the public's view of Congress. After the October government shutdown, a CNN/ORC International poll showed only 14% of respondents expressed satisfaction with how the government was operating. By comparison, 26% of people were dissatisfied with the government during the Watergate scandal. Congress was under pressure from the public as well as the business community, including the influential Chamber of Commerce, which warned that another manufactured government crisis would harm the economy. Perhaps lawmakers are sick of being the least popular kids in town. Pat Murray emerges as bipartisan figure after budget deal . Democrats don't want to be blamed . Republicans got the most blame for the October shutdown, and Democrats want to make that a permanent association in the mind of the public. House Minority Leader Nancy Pelosi told CNN on Thursday that the anti-government tea party wing had sullied the GOP brand. \"In many ways, those people have hijacked the name Republican, which has been such a valuable contribution to our country, the Republican Party,\" the California Democrat said. \"But they've taken it over the cliff.\" With congressional elections coming up next year, Democrats want to ensure that voters think of Republicans whenever the word shutdown comes up. Agreeing to the budget plan avoids the possibility of another shutdown until at least 2015, preserving the negative connotation for Republicans through the next election cycle. Certainty at last . Actually passing a formal budget for the first time in several years benefits everyone. Congress returns to what leaders call \"regular order\" on the budget, meaning spending proposals are debated and passed instead of the practice in recent years of merely authorizing spending at previous levels. Bureaucrats can develop strategies and plans based on known figures, rather than wallowing in uncertainty over how much money the bickering legislators finally would authorize. Legislators up for re-election next year can campaign on their political and fiscal philosophies and accomplishments -- such as passing a budget -- instead of engaging in spending showdowns that anger voters and hinder economic growth. \"I came here to cut the size of government. That's exactly what this bill does,\" Boehner said Thursday of the budget deal. Meanwhile, Pelosi made sure to point out that passing the budget agreement would require Democratic votes because too many Republicans oppose it for the majority party to push it through on its own. \"They haven't passed anything with their own votes that was any good for the country,\" she said. Opinion: A budget deal that's bad for America . CNN's Paul Steinhauser contributed to this report.\n",
      "61802\n",
      "(CNN) -- (CNN) -- The hostage standoff in St. Joseph, Louisiana, has ended with the hostage-taker and one hostage dead, police said. Louisiana State Police shot and killed Fuaed Abdo Ahmed as they stormed the Tensas State Bank, just before midnight local time, according to Col. Michael Edmonson. He said the gunman had threatened to kill the hostages. The two hostages -- a man and a woman -- were both shot by Ahmed as the police SWAT team entered the bank, Edmonson said. One of the hostages later died, and the condition of the second former hostage remains critical. Police said Ahmed was known to police, and Edmonson described him as a paranoid schizophrenic. Ahmed told hostage negotiators that he heard voices and wanted to have a device removed from his head. Edmonson said authorities believe Ahmed planned the events at the bank. They found a book on hostage negotiations at the bank after he was killed. Earlier in the evening, one bank employee was freed, while two of her colleagues remained held at gunpoint. Born in California, Ahmed moved with his family to northeastern Louisiana, where his family owns a convenience store, Edmonson said. The Mississippi River community of St. Joseph is about 35 miles south of Tallulah, Louisiana, and 35 miles north of Natchez, Mississippi. It is the seat of Tensas Parish, which has about 5,000 people. The incident began around 12:30 p.m., when the 20-year-old man entered the bank branch in St. Joseph with a handgun, taking the three bank employees hostage, according to officials. After word got out about the hostage situation, local, state and federal law enforcement agents descended on the quiet community. Law enforcement agents were able to talk to the hostages. They also spoke with the gunman. Edmonson said he talked to, and prayed with, relatives of the hostages. In 2012: Gunman wounded, ending French hostage incident . CNN's Alina Machado, Greg Botelho and Joe Sutton contributed to this report.\n",
      "(CNN) -- The hostage standoff in St. Joseph, Louisiana, has ended with the hostage-taker and one hostage dead, police said. Louisiana State Police shot and killed Fuaed Abdo Ahmed as they stormed the Tensas State Bank, just before midnight local time, according to Col. Michael Edmonson. He said the gunman had threatened to kill the hostages. The two hostages -- a man and a woman -- were both shot by Ahmed as the police SWAT team entered the bank, Edmonson said. One of the hostages later died, and the condition of the second former hostage remains critical. Police said Ahmed was known to police, and Edmonson described him as a paranoid schizophrenic. Ahmed told hostage negotiators that he heard voices and wanted to have a device removed from his head. Edmonson said authorities believe Ahmed planned the events at the bank. They found a book on hostage negotiations at the bank after he was killed. Earlier in the evening, one bank employee was freed, while two of her colleagues remained held at gunpoint. Born in California, Ahmed moved with his family to northeastern Louisiana, where his family owns a convenience store, Edmonson said. The Mississippi River community of St. Joseph is about 35 miles south of Tallulah, Louisiana, and 35 miles north of Natchez, Mississippi. It is the seat of Tensas Parish, which has about 5,000 people. The incident began around 12:30 p.m., when the 20-year-old man entered the bank branch in St. Joseph with a handgun, taking the three bank employees hostage, according to officials. After word got out about the hostage situation, local, state and federal law enforcement agents descended on the quiet community. Law enforcement agents were able to talk to the hostages. They also spoke with the gunman. Edmonson said he talked to, and prayed with, relatives of the hostages. In 2012: Gunman wounded, ending French hostage incident . CNN's Alina Machado, Greg Botelho and Joe Sutton contributed to this report.\n",
      "65090\n",
      "(CNN) -- (CNN) -- Two skiers missing after a weekend avalanche in the Colorado mountains were found dead Sunday, authorities said. A search and rescue team worked to remove the bodies from the steep terrain Sunday, said Betty Benson, a spokeswoman for the Lake County Office of Emergency Management. Searchers braved \"very, very steep\" terrain and high risks of another snowslide while following signals from the emergency beacons the skiers wore, Susan Matthews, another emergency management spokeswoman said Sunday. A record level of snow this winter and changing wind patterns have combined to create \"very unstable conditions\" on Colorado mountains, Matthews said. \"For those people who are not prepared to be in those backcountry conditions, unfortunate incidents happen.\" The two skiers were part of a group of seven who were caught in the rugged backcountry east of Aspen on Saturday. Officials have not released the names of the skiers. One of the three survivors was released from a hospital Sunday, while two others were transferred to other medical centers and two more were unharmed, Lake County authorities said. The reported injuries included a broken leg, a broken ankle, a possible broken rib and a collapsed lung, county authorities said. Saturday's avalanche follows a string of deadly snowslides that killed six people last week -- two each in Colorado, Utah and Oregon. The Colorado Avalanche Information Center has issued warnings that cover much of the state's ski country throughout the weekend. The center warns of \"unusual conditions\" in the Rocky Mountains -- weak layers beneath the surface of the snowpack, rapid warming and strong winds -- that can lead to \"unusual and surprising avalanches.\" \"We are seeing very dangerous avalanche conditions developing from basically the New Mexico border north to Wyoming,\" the center said in an advisory issued Saturday. \"And the problem list is about as complicated as it can get. We are seeing very large avalanches taking out very old trees, mine buildings that have been around for many decades, and avalanches burying roadways with 20 feet of debris. \"People have been getting caught and killed in avalanches recently. These are glaring, flashing and obvious clues that things are not all good across our backcountry. We are seeing a snowpack that is teetering on the brink of critical mass.\" Avalanches kill 6 in the western United States . Grandson of Vail resort co-founder killed in Colorado avalanche . CNN's Mayra Cuevas and Holly Yan contributed to this report.\n",
      "(CNN) -- Two skiers missing after a weekend avalanche in the Colorado mountains were found dead Sunday, authorities said. A search and rescue team worked to remove the bodies from the steep terrain Sunday, said Betty Benson, a spokeswoman for the Lake County Office of Emergency Management. Searchers braved \"very, very steep\" terrain and high risks of another snowslide while following signals from the emergency beacons the skiers wore, Susan Matthews, another emergency management spokeswoman said Sunday. A record level of snow this winter and changing wind patterns have combined to create \"very unstable conditions\" on Colorado mountains, Matthews said. \"For those people who are not prepared to be in those backcountry conditions, unfortunate incidents happen.\" The two skiers were part of a group of seven who were caught in the rugged backcountry east of Aspen on Saturday. Officials have not released the names of the skiers. One of the three survivors was released from a hospital Sunday, while two others were transferred to other medical centers and two more were unharmed, Lake County authorities said. The reported injuries included a broken leg, a broken ankle, a possible broken rib and a collapsed lung, county authorities said. Saturday's avalanche follows a string of deadly snowslides that killed six people last week -- two each in Colorado, Utah and Oregon. The Colorado Avalanche Information Center has issued warnings that cover much of the state's ski country throughout the weekend. The center warns of \"unusual conditions\" in the Rocky Mountains -- weak layers beneath the surface of the snowpack, rapid warming and strong winds -- that can lead to \"unusual and surprising avalanches.\" \"We are seeing very dangerous avalanche conditions developing from basically the New Mexico border north to Wyoming,\" the center said in an advisory issued Saturday. \"And the problem list is about as complicated as it can get. We are seeing very large avalanches taking out very old trees, mine buildings that have been around for many decades, and avalanches burying roadways with 20 feet of debris. \"People have been getting caught and killed in avalanches recently. These are glaring, flashing and obvious clues that things are not all good across our backcountry. We are seeing a snowpack that is teetering on the brink of critical mass.\" Avalanches kill 6 in the western United States . Grandson of Vail resort co-founder killed in Colorado avalanche . CNN's Mayra Cuevas and Holly Yan contributed to this report.\n",
      "73164\n",
      "(CNN) -- (CNN) -- Malaysia Airlines flight carrying 239 people from Kuala Lumpur to Beijing disappeared Saturday after air traffic controllers lost contact with the plane, the airline said. \"At the moment we have no idea where this aircraft is right now,\" Malaysia Airlines Vice President of Operations Control Fuad Sharuji said on CNN's \"AC360.\" Subang Air Traffic Control lost contact with Flight MH370 at about 2:40 a.m. local time (1:40 p.m. ET Friday), Sharuji said. \"We tried to call this aircraft through various means,\" he said. The airline checked reports that the jet had landed in several places, but determined that none of the reports was true, he said. The Boeing 777-200 departed Kuala Lumpur International Airport at 12:41 a.m. and was expected to land in Beijing at 6:30 a.m., a 2,300-mile (3,700 kilometer) trip. It was carrying 227 passengers, two of them infants, and 12 crew members, the airline said. At the time of its disappearance, the plane was carrying about 7.5 hours of fuel, Sharuji said. The passengers are of 13 nationalities, the airline said. They were from China and Taiwan (154), Malaysia (38), Indonesia (12), Australia (7), France (3), United States (4), New Zealand (2), Ukraine (2), Canada (2), Russia (1), Italy (1), Netherlands (1), Austria (1). One infant from the United States and another from China were included in the tally. By CNN's math, that adds up to 228 passengers, one more than the total cited by the airline. There was no immediate explanation offered. \"Malaysia Airlines is currently working with the authorities who have activated their Search and Rescue team to locate the aircraft,\" the statement said. The public can call +603 7884 1234 for further information. \"We deeply regret that we have lost all contacts\" with the jet, said CEO Ahmad Juahari Yahya in a statement. Efforts to contact the plane in the hours after it disappeared were fruitless. China deployed two rescue ships in the South China Sea to begin a search, state-run broadcaster CCTV said. Family and friends of those missing on the flight gathered at a hotel complex in the Lido district of Beijing. People were being led in through a throng of reporters, with those friends and relatives saying nothing to the media. One woman had her hand to her face. As the door opened, a man inside looked anxious as he talked on a cell phone. The airline's website said the flight was piloted by Cap. Zaharie Ahmad Shah, 53, a Malaysian. He has 18,365 total flying hours and joined Malaysia Airlines in 1981, the website said. The first officer is Fariq Ab.Hamid, 27, a Malaysian with a total of 2,763 flying hours. He joined Malaysia Airlines in 2007. The airline said in a statement that its representatives were contacting the relatives of those aboard. \"Focus of the airline is to work with the emergency responders and authorities and mobilize its full support,\" it said. China's state-run Xinhua News Agency said the flight lost contact and its radar signal as it was flying over the Ho Chi Minh air traffic control area in Vietnam. China's embassy in Malaysia formed an emergency team headed by the Chinese ambassador to deal with the incident, it said. \"We're closely monitoring reports on Malaysia flight MH370,\" Boeing said in a tweet. \"Our thoughts are with everyone on board.\" \"It doesn't sound very good,\" retired American Airlines Capt. Jim Tilmon told CNN's \"AC360.\" He noted that the route is mostly overland, which means that there would be plenty of antennae, radar and radios to contact the plane. \"I've been trying to come up with every scenario that I could just to explain this away, but I haven't been very successful.\" He said the plane is \"about as sophisticated as any commercial airplane could possibly be,\" with an excellent safety record. \"The lack of communications suggests to me that something most unfortunate has happened,\" said Mary Schiavo, former inspector general of the U.S. Department of Transportation, in an interview with CNN International. \"But that, of course, does not mean that there are not many persons that need to be rescued and secured. There's still a very urgent need to find that plane and to render aid.\" There is one recent blemish for the Boeing jet: An Asiana Airlines Boeing 777 carrying 291 passengers struck a seawall at San Francisco International Airport in July 2013, killing three people and wounding dozens more. Malaysia Airlines operates in Southeast Asia, East Asia, South Asia, the Middle East and on the route between Europe and Australasia. It has 15 of the Boeing 777-200 planes in its fleet, CNN's Richard Quest reported. Part of the company is in the private sector, but the government owns most of it. Malayan Airways Limited began flying in 1937 as an air service between Penang and Singapore. A decade later, it began flying commercially as the national airline. In 1963, when Malaysia was formed, the airline was renamed Malaysian Airlines Limited. Within 20 years, it had grown from a single aircraft operator into a company with 2,400 employees and a fleet operator.\n",
      "(CNN) -- Malaysia Airlines flight carrying 239 people from Kuala Lumpur to Beijing disappeared Saturday after air traffic controllers lost contact with the plane, the airline said. \"At the moment we have no idea where this aircraft is right now,\" Malaysia Airlines Vice President of Operations Control Fuad Sharuji said on CNN's \"AC360.\" Subang Air Traffic Control lost contact with Flight MH370 at about 2:40 a.m. local time (1:40 p.m. ET Friday), Sharuji said. \"We tried to call this aircraft through various means,\" he said. The airline checked reports that the jet had landed in several places, but determined that none of the reports was true, he said. The Boeing 777-200 departed Kuala Lumpur International Airport at 12:41 a.m. and was expected to land in Beijing at 6:30 a.m., a 2,300-mile (3,700 kilometer) trip. It was carrying 227 passengers, two of them infants, and 12 crew members, the airline said. At the time of its disappearance, the plane was carrying about 7.5 hours of fuel, Sharuji said. The passengers are of 13 nationalities, the airline said. They were from China and Taiwan (154), Malaysia (38), Indonesia (12), Australia (7), France (3), United States (4), New Zealand (2), Ukraine (2), Canada (2), Russia (1), Italy (1), Netherlands (1), Austria (1). One infant from the United States and another from China were included in the tally. By CNN's math, that adds up to 228 passengers, one more than the total cited by the airline. There was no immediate explanation offered. \"Malaysia Airlines is currently working with the authorities who have activated their Search and Rescue team to locate the aircraft,\" the statement said. The public can call +603 7884 1234 for further information. \"We deeply regret that we have lost all contacts\" with the jet, said CEO Ahmad Juahari Yahya in a statement. Efforts to contact the plane in the hours after it disappeared were fruitless. China deployed two rescue ships in the South China Sea to begin a search, state-run broadcaster CCTV said. Family and friends of those missing on the flight gathered at a hotel complex in the Lido district of Beijing. People were being led in through a throng of reporters, with those friends and relatives saying nothing to the media. One woman had her hand to her face. As the door opened, a man inside looked anxious as he talked on a cell phone. The airline's website said the flight was piloted by Cap. Zaharie Ahmad Shah, 53, a Malaysian. He has 18,365 total flying hours and joined Malaysia Airlines in 1981, the website said. The first officer is Fariq Ab.Hamid, 27, a Malaysian with a total of 2,763 flying hours. He joined Malaysia Airlines in 2007. The airline said in a statement that its representatives were contacting the relatives of those aboard. \"Focus of the airline is to work with the emergency responders and authorities and mobilize its full support,\" it said. China's state-run Xinhua News Agency said the flight lost contact and its radar signal as it was flying over the Ho Chi Minh air traffic control area in Vietnam. China's embassy in Malaysia formed an emergency team headed by the Chinese ambassador to deal with the incident, it said. \"We're closely monitoring reports on Malaysia flight MH370,\" Boeing said in a tweet. \"Our thoughts are with everyone on board.\" \"It doesn't sound very good,\" retired American Airlines Capt. Jim Tilmon told CNN's \"AC360.\" He noted that the route is mostly overland, which means that there would be plenty of antennae, radar and radios to contact the plane. \"I've been trying to come up with every scenario that I could just to explain this away, but I haven't been very successful.\" He said the plane is \"about as sophisticated as any commercial airplane could possibly be,\" with an excellent safety record. \"The lack of communications suggests to me that something most unfortunate has happened,\" said Mary Schiavo, former inspector general of the U.S. Department of Transportation, in an interview with CNN International. \"But that, of course, does not mean that there are not many persons that need to be rescued and secured. There's still a very urgent need to find that plane and to render aid.\" There is one recent blemish for the Boeing jet: An Asiana Airlines Boeing 777 carrying 291 passengers struck a seawall at San Francisco International Airport in July 2013, killing three people and wounding dozens more. Malaysia Airlines operates in Southeast Asia, East Asia, South Asia, the Middle East and on the route between Europe and Australasia. It has 15 of the Boeing 777-200 planes in its fleet, CNN's Richard Quest reported. Part of the company is in the private sector, but the government owns most of it. Malayan Airways Limited began flying in 1937 as an air service between Penang and Singapore. A decade later, it began flying commercially as the national airline. In 1963, when Malaysia was formed, the airline was renamed Malaysian Airlines Limited. Within 20 years, it had grown from a single aircraft operator into a company with 2,400 employees and a fleet operator.\n"
     ]
    }
   ],
   "source": [
    "indices = [26358, 61802, 65090, 73164]\n",
    "\n",
    "for i in indices:\n",
    "    print(f\"{i}\\n{df_original.loc[i]['article']}\")\n",
    "    print(df.loc[i]['article'])"
   ]
  },
  {
   "cell_type": "markdown",
   "metadata": {},
   "source": [
    "The problem here is that (CNN) -- appears twice. So, we need to apply the same regular expression again to remove the second occurrence."
   ]
  },
  {
   "cell_type": "code",
   "execution_count": 14,
   "metadata": {},
   "outputs": [],
   "source": [
    "name = 'CNN'\n",
    "pattern = r'^.*?\\(\\s*' + name + r'(?:\\.com)?\\s*\\)(?:\\s*--\\s*)?'\n",
    "df['article'] = df['article'].str.replace(pattern, '', regex = True, flags = re.IGNORECASE)"
   ]
  },
  {
   "cell_type": "code",
   "execution_count": 25,
   "metadata": {},
   "outputs": [
    {
     "data": {
      "text/html": [
       "<div>\n",
       "<style scoped>\n",
       "    .dataframe tbody tr th:only-of-type {\n",
       "        vertical-align: middle;\n",
       "    }\n",
       "\n",
       "    .dataframe tbody tr th {\n",
       "        vertical-align: top;\n",
       "    }\n",
       "\n",
       "    .dataframe thead th {\n",
       "        text-align: right;\n",
       "    }\n",
       "</style>\n",
       "<table border=\"1\" class=\"dataframe\">\n",
       "  <thead>\n",
       "    <tr style=\"text-align: right;\">\n",
       "      <th></th>\n",
       "      <th>id</th>\n",
       "      <th>article</th>\n",
       "      <th>highlights</th>\n",
       "    </tr>\n",
       "  </thead>\n",
       "  <tbody>\n",
       "  </tbody>\n",
       "</table>\n",
       "</div>"
      ],
      "text/plain": [
       "Empty DataFrame\n",
       "Columns: [id, article, highlights]\n",
       "Index: []"
      ]
     },
     "execution_count": 25,
     "metadata": {},
     "output_type": "execute_result"
    }
   ],
   "source": [
    "# We double check to be sure that this time we eliminated all the occurrencies of (CNN) --\n",
    "df[df['article'].str.contains(r'^\\w+.*?\\(CNN\\)(?:\\s*--)?', regex = True)]"
   ]
  },
  {
   "cell_type": "markdown",
   "metadata": {},
   "source": [
    "2) Articles beginning with CNN −− or names in formats 'City, Country' followed by −−."
   ]
  },
  {
   "cell_type": "code",
   "execution_count": 26,
   "metadata": {},
   "outputs": [
    {
     "data": {
      "text/plain": [
       "3532     CNN  -- As one of the most successful franchis...\n",
       "7523     CNN -- The UN Climate Change Conference in Cop...\n",
       "14679    CNN -- Fernando Alonso insists Ferrari will bo...\n",
       "16494    CNN -- One evening in the spring of 2010, Keit...\n",
       "18255    CNN -- Getting enough rest should be as simple...\n",
       "Name: article, dtype: object"
      ]
     },
     "execution_count": 26,
     "metadata": {},
     "output_type": "execute_result"
    }
   ],
   "source": [
    "df[df['article'].str.contains(r'^CNN\\s*--', regex = True)]['article'].head()"
   ]
  },
  {
   "cell_type": "code",
   "execution_count": 27,
   "metadata": {},
   "outputs": [
    {
     "data": {
      "text/plain": [
       "4535     LONDON, England  -- Models younger than 16 sho...\n",
       "6694     LAGOS, Nigeria -- Incident details: \"Armed pir...\n",
       "8088     CIMA, California  -- Driving along a pockmarke...\n",
       "10763    NAPLES, Italy -- Udinese remained in fifth pla...\n",
       "13924    HOUSTON, Texas -- Six-year-old Valentin Marroq...\n",
       "Name: article, dtype: object"
      ]
     },
     "execution_count": 27,
     "metadata": {},
     "output_type": "execute_result"
    }
   ],
   "source": [
    "df[df['article'].str.contains(r'^\\w+\\s*[.,]+\\s*\\w+\\s*--', regex = True)]['article'].head()"
   ]
  },
  {
   "cell_type": "markdown",
   "metadata": {},
   "source": [
    "$\\textit{Remark}:$ It has been observed that CNN is the only name consistently appearing at the beginning of articles, followed directly by -- without parentheses. Notably, this pattern does not occur for any other name in the `names` list, nor have we identified other names for which this happens. Additionally, we confirm that names formatted as 'City, Country' also appear at the beginning of articles, followed by --. To ensure completeness, we also explored other combinations, including for example cases where city or country names consist of two words, such as 'Los Angeles'."
   ]
  },
  {
   "cell_type": "markdown",
   "metadata": {},
   "source": [
    "3) Articles starting with 'By . [Author Name]’, eventually followed by other metadata beginning with 'PUBLISHED: .', 'UPDATED: .', 'Follow @@', 'CREATED: .', 'Last updated' or other author names (or combinations of these), regardless of case."
   ]
  },
  {
   "cell_type": "code",
   "execution_count": 28,
   "metadata": {},
   "outputs": [
    {
     "data": {
      "text/plain": [
       "16    By . Chris Pleasance . PUBLISHED: . 08:09 EST,...\n",
       "23    By . John Hall . Scam: Patricia Glancy conned ...\n",
       "27    By . Neil Sears . PUBLISHED: . 12:00 EST, 27 D...\n",
       "33    By . Louise Eccles . PUBLISHED: . 07:47 EST, 1...\n",
       "36    By . Oliver Todd . Follow @@oliver_todd . The ...\n",
       "Name: article, dtype: object"
      ]
     },
     "execution_count": 28,
     "metadata": {},
     "output_type": "execute_result"
    }
   ],
   "source": [
    "df[df['article'].str.contains(r'^By\\s*\\.', regex = True)]['article'].head()"
   ]
  },
  {
   "cell_type": "markdown",
   "metadata": {},
   "source": [
    "We show below examples of various possibilities."
   ]
  },
  {
   "cell_type": "code",
   "execution_count": 29,
   "metadata": {},
   "outputs": [
    {
     "name": "stdout",
     "output_type": "stream",
     "text": [
      "16\n",
      "By . Chris Pleasance . PUBLISHED: . 08:09 EST, 15 September 2013 . | . UPDATED: . 06:05 EST, 16 September 2013 . With divorce fast becoming the norm it seems true love is harder and harder to find these days. But as these letters reveal, one smitten couple found a love so strong it was able to endure even while they were separated during World War II. Not only that, it lasted for a total of 70 years of marriage until they both died in 2011, he aged 96 and she aged 92, within just three days of one another. How time passes: Frederick and Elizabeth Noble wed on New Year's Day 1941 while Frederick . was on 48-hour leave from the Royal Tank Corps and stayed married for . the next 70 years . But, as remarkable as their relationship had seemed in life, in death it was about to give up its biggest and most heartwarming surprise. After Frederick and Elizabeth Noble had passed relatives discovered they had kept 250 love letters, telegrams, notes and Valentine's cards from each other. Their grandson, Dr Andrew Rowland, has taken them along to the Antique Roadshow TV program. In one extract read on tonight's show, Frederick writes: 'You are the most wonderful, marvellous, precious, beloved, lovable, . adoring, adorable, charming, divine and loving sweetheart wife that has . ever lived. 'Darling, come a little closer and let me whisper in . your darling ears, all these loving words, because they are meant for . you, my sweetheart.' The pair wrote a series of remarkable and passionate love letters to one another throughout World War II . The amazing collection of 250 letters, telegrams, notes and Valentine's cards was stored in a tea chest . The couple, who shared the same birthday, kept the memories stashed away inside a tea chest in their home in Wingate, County Durham. Speaking about the letters, Fiona Bruce, the show's host, said: 'Theirs was a real love story. What struck me about the . letters was the sheer outpouring of emotion across their pages. 'They . reveal two people who had fallen headlong in love - and that love burned . even more brightly while they were forced apart by war.' Frederick and Elizabeth Noble wed on New Year's Day in 1941 while he was on 48-hour leave from the Royal Tank Corps. He had volunteered for the Army in 1936 despite having been selected . as a professional footballer by Aston Villa and served in Afghanistan, . India, Burma, Ceylon and France. From these war-torn . countries he wrote the tear-jerking telegrams to his wife who was . nursing injured servicemen back home. After the war, . Elizabeth carried on her work as a nurse while Frederick became a miner . in the East Durham coalfield, before rising to the position of colliery overseer. During their long lives the besotted pair built up a large family of two daughters, four grandchildren, and four great-grandchildren and it was grandson who discovered the letters . Perhaps the most heart-wrenching messages were written when Frederick's leave was cancelled. He says: 'I'm very sorry my beloved, I can't get home. That's all I live for, . home and you. In another passage he adds: 'We both feel the same when I have to return from leave. I have to take a . firm hold of myself or I would never come back. 'I hate to see the back . of you as my bus or train pulls out because I know it will be weeks . before I set eyes on you again. It's terrible when we have to part - too . awful for words.' Showing a touch of humour, Frederick writes again to compliment his wife's skill in the kitchen: 'Darling, no matter what you think, I still say that you are a good cook . - so let's not have a small row. You know I wish that today I could . have sat down to one of your dinners.' Elizabeth's communication is more limited, as she was kept in the dark about where her husband was to keep military operations a secret. In the letters she did write she talks about the home front, rationing, and hiding under the kitchen table while bombs fell on the main road near their house. Only a small selection of letter were taken to Antiques Roadshow for filming and the family are keeping the rest secret while they decide what to do with them . While the letters reveal a lot about the couple's marriage, the war and their incredible devotion to one another, only a small selection were taken along to the show's filming in North Yorkshire. The rest are being kept a secret while the family, made up of the couple's two daughters, four grandchildren and four great-grandchildren, decide what to do with them. In an interview with the Sunday Mirror, Dr Rowland revealed that towards the end of their lives the pair talked about not wanting to go on without each other. He said that the family were comforted in their sadness by the thought that, in the end, Elizabeth had only had to endure three days without her beloved other half. Frederick died peacefully on December 4th, 2011, and Elizabeth on December 7th.\n",
      "36\n",
      "By . Oliver Todd . Follow @@oliver_todd . The Bundesliga is just edging out the Premier League as the best in the world - according to the number of players left from each league in the World Cup. England's top division had been storming ahead in these stakes but Germany's progression to the semi finals has helped put the Bundesliga on top heading into the last four. Italy's Serie A trails behind with 14 representatives while Holland's win over Costa Rica has helped boost the Eredivisie numbers to 10. Scroll down to see Premier League players flop in Brazil . Key: There might be less Premier League players left but the likes of Tim Krul have been key . Vital: Chelsea's Oscar will be Brazil's main man in their attacking play following Neymar's injury . Clash: Mesut Ozil helped push fellow Premier League man Mathieu Debuchy out of the World Cup . Two steps from glory: Manchester City's Zabaleta has been ever-present for Argentina . Bayern Munich are still the top club around - with a total of nine men helped by their six starters in the German side, but the likes of Chelsea and Manchester City are not far behind. Most surprisingly, Dutch runners up Feyenoord are the second-best represented with five players - all in Louis van Gaal's Oranje squad . Only 20 sides now have two or more players left in the World Cup, and the Premier League boasts four of those: Chelsea, Arsenal, Manchester City and Swansea. But while there might be more German-owned players left - those from English clubs still have some of the biggest roles to play. Tim Krul came off the bench to inspire Holland's penalty shootout win against Costa Rica - and Oscar and Willian will be the key men in Brazil's attack with Neymar ruled out. In terms of the most successful final for the English sides, a Brazil v Holland showpiece in the Maracana could see as many as 12 Premier League players on show - if the Dutch fielded both Krul and Swansea's Michel Vorm. VIDEO Premier League players flop in Brazil  (1/4 finals) Impact: Andre Schurrle was a substitute this time but scored for Germany in the last-16 . Premier League v Bundesliga: Brazil come up against Germany in Belo Horizonte . Bundesliga v Premier League: And Holland face Argentina in Sao Paulo . Competitors: Demichelis tries to tackle Lukaku in the last round as Argentina faced Belgium .\n",
      "44\n",
      "By . Rob Waugh . UPDATED: . 04:54 EST, 28 September 2011 . Apple has made the launch date of . iPhone official - at last. But the company hasn't said what new models, . if any, it will be launching, instead inviting journalists to a 'Special . Event', with the cryptic invitation 'Let's Talk iPhone'. The company remained typically tight-lipped about what the 'event' might launch - but it seems set to be epic. For . the first time, the event is being held at the company's Cupertino HQ in California - . at the famous address, 1, Infinite Loop, a geeky programming joke. Few . outsiders ever visit the complex - so even seeing the company on its . home turf is sure to ignite a media frenzy. Let's talk iPhone: The Apple invitation, with the date, the time and the location . Every previous event has been held at conference venues nearby. Apple . staff have been 'banned' from holidays in the first two weeks of . October in America, and tech insiders expect products from the launch to . appear in stores shortly after - probably on October 14. All the signs now point towards an early October launch for the gadgets. Tim Cook, chief operating officer of Apple Inc, is expected to launch the iPhone 5 on October 4. The event will be his first big product introduction . 'Having . seen first-hand how Apple packs its staff inside its stores for iPhone . launches does suggest that whatever new product they announce  is . imminent,' says Luke Peters, editor of T3. Tech insiders believe that any new iPad is far off in the distance, and that the current flurry of components, rumours and leaks refer inevitably to new models of iPhone. The idea that there are two models - one sporting the fast A5 processor inside iPad 2, and a cheaper model with lower-tech components, seems likely. Al Gore, a board member of Apple Computer, seemed to give the biggest hint yet of what the tech giant had in store for us in October - referring to 'the new iPhones released next month.' This seemed to confirm two rumours: one, that there would be more than one model, and two, that they would both appear late in October. Mr Gore's statements - at a conference in South Africa - also tied in closely with the most credible of the recent iPhone rumours. Al Gore, a board member of Apple Computer, seemed to give the biggest hint yet of what the tech giant had in store for us in October - referring to 'the new iPhones released next month' While the iPhone 5 is much anticipated, there is more at stake than usual. This is because, since legendary . outgoing CEO and co-founder Steve Jobs announced his departure, it will be newly installed CEO Tim Cook’s first big product . introduction, and the place where the public will experience a new iPhone without Jobs's cultish presentation. People . have wondered whether Apple can continue to compete without its creative . driving force - especially as rivals such as Samsung continue to gain . ground on the tech giant. Apple's new iPhone is now competing with hi-tech touchscreens such as Samsung's Galaxy S II - and the battle has also become the subject of a bitter legal dispute .\n",
      "93\n",
      "By . Amie Keeley . and Rob Cooper . PUBLISHED: . 22:32 EST, 13 January 2014 . | . UPDATED: . 06:05 EST, 14 January 2014 . A Coronation Street actress who is seen in the soap taking a cocktail of drugs to kill herself after being diagnosed with a terminal illness has said that assisted suicide should be legalised. Julie Hesmondhalgh, 43, plays Hayley Cropper who is suffering from incurable pancreatic cancer and decides to end her life to stop the pain. Viewers will see her drink a cocktail of drugs before dying in the arms of her weeping husband Roy, who did not want her to give up her fight against the illness. Scroll down for video . Actress Julie Hesmondhalgh, seen here playing Hayley Cropper alongside her husband, Roy, in Coronation Street, has spoken out in favour of legalising assisted suicide . Hayley, who has been in the programme since 1998, will use a cocktail of drugs to kill herself . The controversial episode will be aired on ITV next week after a series of high-profile so called right to die cases have gone before the courts. Locked-in syndrome sufferer Tony Nicklinson asked the courts for permission to end his own life with a doctor's help. The 58-year-old was left paralysed from the neck down and unable to speak after having a major stroke. Unlike Julie Hesmondhalgh's on-screen character, he was unable to commit suicide unassisted because of his disabilities. He died from ill health last year after the High Court ruled doctors could not help him kill himself - although his case will still go before the Supreme Court so they can rule on the issue. Mrs Hesmondhalgh – a member of the Humanist . Association, which supports assisted suicides – said she could not . imagine how anyone dealing with such an illness in either themselves or a . family member could be against the right to die. Emotional scenes: Hayley Cropper, played by Julie Hesmondhalgh, silently looks out of the flat window holding her husband Roy Cropper's hand before she takes her own life in a controversial episode of Coronation Street to be aired next week . She said: ‘I would like to see it . legalised, very much so. But I have to put the caveat that it has to be . properly done; you have to make sure that people don’t go around killing . elderly people, say, just for the inheritance. ‘But I can’t imagine how anyone can look at the Tony Nicklinson case and see his suffering and be against it,’ she told the Daily Telegraph. ‘It’s quite a simple thing for me – and I understand it isn’t for everybody – but we need to look at this issue seriously.' Official guidance was published which said people who help loved ones end their lives may escape prosecution even if they benefit financially from the death. Cancer battle: Viewers have seen Hayley Cropper (right) struggling to get out of bed as she battles with pancreatic cancer . The rules, set out by the Director for Public Prosecutions, make clear that anyone acting out of 'compassion' is unlikely to face court action. Mrs Hesmondhalgh said there was an ‘almost holy atmosphere’ as she filmed her controversial last scene. The star, who joined Coronation Street in 1998 to play the soap’s first transsexual, won the hearts of viewers with her on-screen romance with cafe owner Roy. Away from the screen, she is married to writer and actor Ian Kershaw, taking time off in 2001 to give birth to her daughter Martha Mo. She has now decided to leave for good to concentrate on theatre roles. Right to die: Hayley Cropper, played by Julie Hesmondhalgh, is seen ending her own life in the controversial episode of Coronation Street which is due to air next week . The star's character, who is suffering from incurable cancer, will kill herself in Monday's episode . She told Radio Times that the scenes were not ‘beautiful’ and were ‘necessarily agonising, because of her steely determination to end her own life’. But she added that the storyline was ‘timely and appropriate’ and that ‘there are no easy answers’. ‘This is a conversation that needs to be had,’ she said. The . actress also said she had no problem being written out in such dramatic . fashion. ‘It would have been more convenient for me as an actor if I . could have come back later on if work wasn’t working out for me, but it . would have been a complete betrayal of everything that we’ve done . because they [Hayley and Roy] are the most steadfast and loyal and . loving couple... they just would not have separated for any other reason . apart from death.’ Keiran . Roberts, Coronation Street’s executive producer, said: ‘We’re not an . issue-based show but sometimes a story will highlight an issue and this . is such a case. ‘Pancreatic cancer is an illness . that people may not know a lot about and the right-to-die issue will . spark a debate, I’m sure, and that’s right and proper.’ The . storyline will reflect the split in opinion in the right-to-die debate . with Roy and Hayley’s friend Fiz Stape struggling to deal with Hayley’s . decision. The actress said: 'I can't imagine how anyone can look at the Tony Nicklinson (right) case [the paralysed stroke victim who lost a case in 2012 to end his life by assisted suicide] and see his  suffering and be against it' Coronation Street producer Stuart Blackburn said: ‘This is a very sensitive issue and we will be exploring the effects of her decision on husband Roy who has a huge emotional and moral dilemma over her choice to die this way. ‘Not everyone will feel Hayley’s decision is the right one and we fully respect this. ‘For that reason we will be exploring both sides of the debate on screen.’ The Samaritans have warned that the storyline could create copycat suicides among vulnerable viewers. The on-screen controversy comes as a YouGov survey found almost three quarters of those questioned supported a change to existing laws regarding assisted suicide.\n",
      "181\n",
      "By . Graham Smith . Last updated at 10:41 PM on 12th October 2011 . Slovakia's main political parties have reached a deal to approve changes to an EU bailout fund this week, the main opposition leader said today -just one day after parliament rejected the proposal, causing the government to fall. Robert Fico, head of Smer-Social Democracy, said that in exchange for his party's votes, three outgoing government party leaders have agreed to hold early general elections on March 10. He said: 'Slovakia will ratify the EU bailout fund without any problems. I believe it will happen on Friday this week at the latest,' Collapsed: In a desperate effort to force a vote in favour of the bailout fund, Prime Minister Iveta Radicova tied it to a confidence vote - the one-year-old government subsequently collapsed . Tuesday's vote on the bail out failed because a junior coalition party, the Freedom and Solidarity party, was against it. In a desperate effort to force that . party to vote in favour of the bailout fund, Prime Minister Iveta . Radicova tied the vote to a confidence vote - but it failed causing her one-year-old government to collapse. With the government defunct - and . with the promise of early elections - Fico said his party will now vote . in favour of the bailout fund, which all 16 other members of the . eurozone have already supported. The leaders of three coalition parties . - Mikulas Dzurinda of the Slovak Democratic and Christian Union, which . Radicova belongs to; Jan Figel of the Christian Democrats and Bela Bugar . of a party of ethnic Hungarians - confirmed the deal. Bugar said. 'We had to pay a political price. And the early election is the price.' Just one day after parliament rejected the proposal causing the government to fall, Slovakia's main political parties have reached a deal to approve changes to an EU bailout . Opposition party leader, and former prime minister, Robert Fico said: 'Slovakia will ratify the EU bailout fund without any problems. I believe it will happen on Friday this week at the latest' The announcement came hours after EU . President Herman Van Rompuy and European Commission President Jose . Manuel Barroso called on Slovak political parties 'to rise above the . positioning of short-term politics, and seize the next occasion to . ensure a swift adoption of the new agreement.' They said the enhancement of the . €44billion Euro European Financial Stability Facility is crucial 'to . preserve financial stability in the euro area. And that is in the . interest of all euro countries, including the Slovak people.' Eurozone leaders had agreed in July to . increase the size and powers of the bailout fund, giving it the ability . to lend quickly to governments in case of market trouble in order to . contain the stubborn financial crisis. Fico's populist leftist party is by . far the strongest political force in Slovakia and stands a good chance . to win the early ballot. It won last year's general elections in June . with 34.8 percent of the vote, taking 62 seats in the 150-seat . Parliament. The senior party of the outgoing . coalition, the Slovak Democratic and Christian Union, was well behind in . second, with 15.4 percent, or 28 seats. Fico's party campaigned on a promise . to maintain the country's welfare state even as other European countries . slash their budgets to deal with the economic crisis. During his term of prime minister . between 2006 and 2010, Slovakia adopted the euro currency in 2009. Despite him taking the largest share of the vote in the 2010 election, . four opposition parties with a majority of 79 parliamentary seats agreed . to form a ruling coalition. Mr Fico and his party had always . supported expanding the fund expansion in principle, but had said it . would vote 'yes' only if the government agreed to call early elections. As major eurozone policies need the . approval of all 17 countries that use the currency, Slovakia's vote - . the last - carried immense weight. For . weeks it appeared certain it would reject boosting the bailout fund, . unnerving financial markets and threatening the future of Europe's plans . to fight the crisis. Experts . said EU officials could possibly find a way around a Slovakian . rejection of the bill to boost the powers and size of the bailout fund, . the European Financial Stability Facility (ESFS), but that doing so . would carry costs to European unity. In . the longer-term, the drama seems sure to add momentum to the push for . nimbler rules to govern the 17-country eurozone, where government . reaction to the unfolding crisis has seemed for many months to be behind . the curve. That push has been gathering momentum for some time. Charts key economic data for Greece . In August, the leaders of France and Germany, President Nicolas Sarkozy and Chancellor Angela Merkel, proposed that the heads of the eurozone countries elect the president of a new 'economic government' who would direct regular summits to respond to the continent's financial crisis. And in September Jose Manuel Barroso. president of the European Commission, decried what he called 'the constraint of unanimity'. Mr Barroso told the European Parliament: 'The pace of our joint endeavour cannot be dictated by the slowest.' At issue now is an agreement reached by the eurozone leaders in July to enlarge the EFSF's capital guarantee from 440billion to 780billion euro. Slovakia would contribute about 1 per cent, or 7.7billion euro. In addition, if the changes are approved, the facility would have new powers and able to prop up government bond markets and help put new capital reserves against losses in banks. Although 16 countries have given the thumbs-up, approval of the changes has found itself in potential jeopardy because of the opposition of a junior member of Slovakia's governing coalition, the Freedom and Solidarity Party. The party's chairman, Richard Sulik, had called the expanded bailout fund 'a road to hell' and vowed to block .\n",
      "1269\n",
      "By . Ryan Gorman . and Ashley Collman . and Paul  Thompson . A third student has come forward to accuse a 29-year-old Florida teacher already facing nearly two dozen charges for sex with teens in her school. Jennifer Fichter now faces 34 separate criminal charges for having sexual relationships with at least three students in separate schools where she taught English. The third student was between the ages of 16 and 17-years-old when his relationship with Fichter turned physical, sources told WKMG. More charges: English teacher Jennifer Fichter is facing more than 30 counts of unlawful sexual activity with a minor after a third student came forward alleging he had a relationship with her. Pictured above in court last month . Fichter and the student are believed by authorities to have had sexual contact from August 2012 to December 2012, the station reported. Detectives had been interviewing the Polk County teen at the time the disgraced teacher was arrested for the previous cases. The second student, now 20, was also 17 in September 2011 when Fichter started inviting him over to her apartment where they would cuddle on the couch and watch TV. He says the relationship turned sexual the next month and they went on to have intercourse about 20 times for seven months - sometimes in the boy's bedroom while his mother was away, according to the arrest report. Allegations: The third student says he had a relationship with Fichter in 2012, when he was just 16 years old . Fichter was initially arrested in April . after the mother of one of Central Florida Aerospace Academy's juniors . found intimate text messages from the teacher on her son's phone. Fichter was charged then with six counts of unlawful sexual activity with a minor, and was charged with 20 more counts on Wednesday after the second student's revelations. Neither teen has been identified. The new charges come just one day after the Polk County School Board voted unanimously to fire Fichter after an investigation into the affair she had with the current student. According to The Tampa Tribune, police said the abuse with the current student began in November 2011 when the pair had sex in the early morning hours in Fichter's Toyota pickup truck. The teen told detectives he and Fichter met for sex three times in the parking lot of a Lakeland apartment complex and three times near New Tampa Highway. He also said they had sex four times outside the city in Polk and Hillsborough. Lakeland police said those counties are investigating those incidents. The illegal meetings were discovered by the teen's suspicious mother on January 27. When she noticed her son was not home at 5am and lied about his whereabouts, she looked through his cell phone and found texts from two names. One discussed an 'age difference'. Police said the mom confronted her son, who admitted both names were used by Fichter. Scene: The first two students to come forward with accusations attended Central Florida Aerospace Academy, where Fichter taught English. The school fired her last month . The mother reported Fichter to police, however it is not clear why she waited so long. The mother also agreed to speak to the teacher and record the conversation for investigators. During . the call, Fichter allegedly admitted she became pregnant with the . teen's child and had an abortion. The woman also said she was in love with . the student and wanted to continue seeing him. 'The victim's mother discovered this relationship after reviewing text messages from her son and she asked that Fichter respond to her residence to talk,' a Lakeland police statement said, according to Orlando Sentinel. 'According to the victim's mother, Fichter admitted to the sexual encounters and professed her love for him,' authorities said. Fichter was arrested at her Davenport home soon after the conversation, and booked at the Polk County Jail. And the two students at the space academy aren't the only boys Fichter is accused of abusing. Fichter resigned from her job at Robinswood Middle School in Orange County in 2008 after it was reported she had feelings for an eighth-grade student. Fichter is now in jail after being accused of having sex with at least one minor as many as 30 times in the backseat of her truck . A 40-page report on the English teacher revealed that she told another teacher she had feelings for the boy, and hinted to another student that she wanted to have sex with him. She reportedly said ‘he makes me melt into a puddle with those eyes.’ Her co-worker told investigators that she told her she even dreamed about the boy one night. When asked what it was about, she said, ‘Oh my goodness, it was a goooood dream!’ The report said Fichter and her colleague joked that the remark could get her jailed if ever revealed. An investigation was launched into her feelings for the 14 year old boy. No charges were ever filed in relation to that incident. Video: Teacher arrested for sex with student left job six years ago for similar reasons .\n",
      "51656\n",
      "By . Chris Parsons . CREATED: . 00:04 EST, 26 June 2012 . A 'wretched and wicked' primary school teacher used a hidden camera to film young boys changing before posting the images online for other paedophiles. Matthew Ross, 32, hid a tiny camera under his T-shirt to capture the footage of the innocent youngsters. The depraved teacher then posted the footage of the eight and nine-year-old boys on the internet for other pedophiles. 'Wicked': Paedophile Matthew Ross was jailed for three years for filming the young boys . Ross, previously sacked from a teaching job after turning up at school having taken ecstasy, was yesterday jailed for three years for the 'gross abuse of trust'. A court heard his actions only came to light in July last year when police investigated his ex-boyfriend for similar offences. Police who swooped to arrest him even found extreme pornography involving animals and more than 700 indecent images of youngster, ranging from babies to ten-year-olds. The images he filmed of children changing after swimming lessons were of eight and nine-year-old boys. Judge John Lodge, sentencing, said: 'What makes this case so serious is that you grossly abused your position of trust. 'It is a blessing, albeit a small blessing, that children did not know they were abused in this way. Jailed: Ross was jailed at Basildon Crown Court and placed on the Sex Offenders Register for life . 'But the footage of them has been spread all over the internet thanks to your wretched and wicked behaviour.' The school where Ross carried out the filming cannot be named for legal reasons, but parents were informed of the teacher’s actions. Andrew Bagnall, mitigating, said: 'This will follow him for the rest of his life. 'He is very regretful and deeply ashamed. 'If he could turn back time and change what he has done, he would.' Ross admitted a charge of voyeurism, as well as three counts of making, possessing and distributing indecent images of children. He also pleaded guilty to two counts of possessing extreme pornography. The court heard that Ross had been fired from his job six months before his eventual arrest after turning up to work on a Monday morning having taken ecstasy. Staff became concerned about his erratic behaviour and Ross, of Station Avenue, Southend, was sent home for the safety of his pupils. He was then sacked after a General Teaching Council disciplinary hearing found him guilty of unacceptable professional conduct in January 2011. His depraved filming only came to light after he was no longer a teacher and pupils and his colleagues had no idea of what he had been doing. Sue Cook, Southend Council’s corporate director for children and learning, said: 'Naturally, everyone connected to the school was shocked and the past few months have been very difficult and challenging for the school community. 'Despite admitting a total of six offences, the indecent images of children do not feature any pupils from the Southend school and they were only affected by the voyeurism charge. 'However, quite properly, those safeguarding arrangements have been reviewed in light of what occurred to ensure that they are as rigorous and robust as they need to be. 'The school has offered support to its staff, parents and pupils throughout and will continue to do so.'\n"
     ]
    }
   ],
   "source": [
    "indices = [16, 36, 44, 93, 181, 1269, 51656]\n",
    "\n",
    "for i in indices:\n",
    "    print(f\"{i}\\n{df.loc[i]['article']}\")"
   ]
  },
  {
   "cell_type": "markdown",
   "metadata": {},
   "source": [
    "Some articles start directly with 'CREATED: .', 'UPDATED: .', 'PUBLISHED: .' or 'Last updated', regardless of case. These sentences will be removed."
   ]
  },
  {
   "cell_type": "code",
   "execution_count": 30,
   "metadata": {},
   "outputs": [
    {
     "data": {
      "text/plain": [
       "13119    Created: . 09:14 EST, 26 April 2014 . Should u...\n",
       "37456    Created: . 09:17 EST, 8 August 2014 . A mother...\n",
       "37602    Created: . 04:08 EST, 19 March 2014 . A Cambri...\n",
       "48762    Created: . 23:04 EST, 26 February 2015 . This ...\n",
       "57944    Created: . 08:22 EST, 6 June 2014 . The sun sh...\n",
       "Name: article, dtype: object"
      ]
     },
     "execution_count": 30,
     "metadata": {},
     "output_type": "execute_result"
    }
   ],
   "source": [
    "df[df['article'].str.contains(r'^CREATED: \\.', regex = True, flags = re.IGNORECASE)]['article'].head()"
   ]
  },
  {
   "cell_type": "code",
   "execution_count": 31,
   "metadata": {},
   "outputs": [
    {
     "data": {
      "text/plain": [
       "13242    UPDATED: . 07:52 EST, 5 October 2011 . The rel...\n",
       "Name: article, dtype: object"
      ]
     },
     "execution_count": 31,
     "metadata": {},
     "output_type": "execute_result"
    }
   ],
   "source": [
    "df[df['article'].str.contains(r'^UPDATED: \\.', regex = True, flags = re.IGNORECASE)]['article']"
   ]
  },
  {
   "cell_type": "code",
   "execution_count": 32,
   "metadata": {},
   "outputs": [
    {
     "data": {
      "text/plain": [
       "156     PUBLISHED: . 12:00 EST, 20 September 2012 . | ...\n",
       "679     PUBLISHED: . 22:58 EST, 21 December 2013 . | ....\n",
       "974     PUBLISHED: . 10:56 EST, 7 March 2013 . | . UPD...\n",
       "1562    PUBLISHED: . 10:45 EST, 7 May 2013 . | . UPDAT...\n",
       "1920    PUBLISHED: . 09:35 EST, 12 September 2013 . | ...\n",
       "Name: article, dtype: object"
      ]
     },
     "execution_count": 32,
     "metadata": {},
     "output_type": "execute_result"
    }
   ],
   "source": [
    "df[df['article'].str.contains(r'^PUBLISHED: \\.', regex = True, flags = re.IGNORECASE)]['article'].head()"
   ]
  },
  {
   "cell_type": "code",
   "execution_count": 33,
   "metadata": {},
   "outputs": [
    {
     "data": {
      "text/plain": [
       "4        Last updated at 3:31 PM on 19th July 2011 . Ch...\n",
       "43308    Last updated at 2:59 PM on 5th December 2011 ....\n",
       "49939    Last updated at 5:51 PM on 6th October 2011 . ...\n",
       "50380    Last updated at 1:31 PM on 4th March 2012 . Th...\n",
       "68264    Last updated at 3:50 PM on 2nd December 2011 ....\n",
       "Name: article, dtype: object"
      ]
     },
     "execution_count": 33,
     "metadata": {},
     "output_type": "execute_result"
    }
   ],
   "source": [
    "df[df['article'].str.contains(r'^Last updated ', regex = True)]['article'].head()"
   ]
  },
  {
   "cell_type": "markdown",
   "metadata": {},
   "source": [
    "4) Articles beginning with a note from the editor introduced by the expression 'Editor’s note:'. All the notes are made of a single sentence, which will be removed."
   ]
  },
  {
   "cell_type": "code",
   "execution_count": 34,
   "metadata": {},
   "outputs": [
    {
     "data": {
      "text/plain": [
       "2134    Editor's note: CNN has a business partnership ...\n",
       "4311    Editor's Note: Christina Blanch is a comics sc...\n",
       "4520    Editor's note: Below is an excerpt from Larry ...\n",
       "4522    Editor's note: Below is an excerpt from Nancy ...\n",
       "6938    Editor's note: In 1994, the American Psychiatr...\n",
       "Name: article, dtype: object"
      ]
     },
     "execution_count": 34,
     "metadata": {},
     "output_type": "execute_result"
    }
   ],
   "source": [
    "df[df['article'].str.contains(r'^Editor\\'s note:', regex = True, flags = re.IGNORECASE)]['article'].head()"
   ]
  },
  {
   "cell_type": "markdown",
   "metadata": {},
   "source": [
    "5) Expressions such as (left), (right) or (pictured) indicating images will be removed."
   ]
  },
  {
   "cell_type": "code",
   "execution_count": 35,
   "metadata": {},
   "outputs": [
    {
     "data": {
      "text/plain": [
       "2     A woman has been charged with reckless manslau...\n",
       "13    It is one of the key bonding experiences for a...\n",
       "22    Four police officers involved in the fatal pur...\n",
       "23    By . John Hall . Scam: Patricia Glancy conned ...\n",
       "24    The secret to staying slim could be in saliva....\n",
       "Name: article, dtype: object"
      ]
     },
     "execution_count": 35,
     "metadata": {},
     "output_type": "execute_result"
    }
   ],
   "source": [
    "df[df['article'].str.contains(r'\\((?:left|right|pictured)\\)', regex = True)]['article'].head()"
   ]
  },
  {
   "cell_type": "markdown",
   "metadata": {},
   "source": [
    "6. Articles starting with 'Click here', regardless of case."
   ]
  },
  {
   "cell_type": "code",
   "execution_count": 36,
   "metadata": {},
   "outputs": [
    {
     "data": {
      "text/plain": [
       "246     CLICK HERE to read how the German plans to pip...\n",
       "433     Click here to find out more from our brilliant...\n",
       "1329    Click here for your ultimate stats guide to th...\n",
       "1467    Click here to see more from our brilliant Matc...\n",
       "1646    Click here for Martin Samuel's match report fr...\n",
       "Name: article, dtype: object"
      ]
     },
     "execution_count": 36,
     "metadata": {},
     "output_type": "execute_result"
    }
   ],
   "source": [
    "df[df['article'].str.contains(r'^Click here', regex = True, flags = re.IGNORECASE)]['article'].head()"
   ]
  },
  {
   "cell_type": "markdown",
   "metadata": {},
   "source": [
    "7. Articles beginning with dates in formats 'Month day, year'. We show examples for April and December."
   ]
  },
  {
   "cell_type": "code",
   "execution_count": 37,
   "metadata": {},
   "outputs": [
    {
     "data": {
      "text/plain": [
       "2369     April 16, 2014 . A city pays tribute to the me...\n",
       "3603     April 30, 2014 . Another round of severe weath...\n",
       "4150     April 28, 2014 . Headlines from South Korea, V...\n",
       "10010    April 30, 2010 . Arbor Day is awesome! Especia...\n",
       "10552    April 21, 2014 . Monday's show is global in sc...\n",
       "Name: article, dtype: object"
      ]
     },
     "execution_count": 37,
     "metadata": {},
     "output_type": "execute_result"
    }
   ],
   "source": [
    "df[df['article'].str.contains(r'^April ', regex = True)]['article'].head()"
   ]
  },
  {
   "cell_type": "code",
   "execution_count": 38,
   "metadata": {},
   "outputs": [
    {
     "data": {
      "text/plain": [
       "7104     December 13, 2010 . Hi, I'm Carl Azuz. This is...\n",
       "7678     December 10, 2013 . The official start of wint...\n",
       "8752     December 19, 2013 . In our penultimate program...\n",
       "16092    December 1, 2014 . Preliminary sales from Blac...\n",
       "16304    December 18, 2013 . As technology executives m...\n",
       "Name: article, dtype: object"
      ]
     },
     "execution_count": 38,
     "metadata": {},
     "output_type": "execute_result"
    }
   ],
   "source": [
    "df[df['article'].str.contains(r'^December', regex = True)]['article'].head()"
   ]
  },
  {
   "cell_type": "markdown",
   "metadata": {},
   "source": [
    "We remove metainformation of type $2$-$6$ using the following regular expressions."
   ]
  },
  {
   "cell_type": "code",
   "execution_count": 15,
   "metadata": {},
   "outputs": [],
   "source": [
    "# Define a list of regular expression patterns to remove all metainformation except for type 7\n",
    "patterns = [\n",
    "    r'^CNN\\s*--\\s*', # Reg expr 1\n",
    "    r'^\\w+\\s*[.,]+\\s*\\w+\\s*--\\s*', # Reg expr 2\n",
    "    r'^.*?CREATED: \\..*?\\.\\s*', # Reg expr 3\n",
    "    r'^.*?UPDATED: \\..*?\\.\\s*', # Reg expr 4\n",
    "    r'^.*?PUBLISHED: \\..*?\\.\\s*', # Reg expr 5\n",
    "    r'^.*?Last updated at .*?\\.\\s*', # Reg expr 6\n",
    "    r'^(By\\s*\\.\\s*.*?\\s*\\.\\s*)(?:((Follow|and)\\b.*?\\.\\s*))?(?:(and\\b.*?\\.\\s*))?', # Reg expr 7\n",
    "    r'^Editor\\'s note:.*?\\.\\s*', # Reg expr 8\n",
    "    r'\\((left|right|pictured)\\)\\s*', # Reg expr 9\n",
    "    r'^Click here.*?\\.\\s*' # Reg expr 10\n",
    "]\n",
    "\n",
    "for pattern in patterns:\n",
    "    # Replace occurrences of the pattern in the 'article' column with an empty string\n",
    "    df['article'] = df['article'].str.replace(pattern, '', regex = True, flags = re.IGNORECASE)"
   ]
  },
  {
   "cell_type": "markdown",
   "metadata": {},
   "source": [
    "Specifically:\n",
    "1. Regular expression n.1 matches text that starts with CNN, followed by zero or more whitespace characters, then --, and optionally followed by more whitespace characters;\n",
    "2. Regular expression n.2 matches patterns where a word is followed by punctuation (period or comma), another word, and a -- with optional spaces around it;\n",
    "3. Regular expression n. 3 matches everything from the start of the string up to and including a phrase that begins with 'CREATED: .' and ends with the next period;\n",
    "4. Regular expression n. 4 is similar to the previous one, but for phrases that start with 'UPDATED: .';\n",
    "5. Regular expression n. 5 is similar to the previous two patterns but for phrases that start with 'PUBLISHED: .';\n",
    "6. Regular expression n. 6 is similar to the previous three patterns but for phrases that start with 'Last updated at';\n",
    "7. Regular expression n. 7 matches sections of text that start with 'By . Author name/Journal name .', optionally followed by phrases starting with specific words like 'Follow' or 'and'. It also accounts for cases where the 'and' might appear again after the initial phrase;\n",
    "8. Regular expression n. 8 matches any text starting with 'Editor's note:' up to and including the first period;\n",
    "9. Regular expression n.9 matches text enclosed in parentheses with the specific words 'left', 'right', or 'pictured' inside, and optional whitespace after the closing parenthesis;\n",
    "10. Regular expression n.10 matches text that starts with 'Click here' up to and including the first period."
   ]
  },
  {
   "cell_type": "markdown",
   "metadata": {},
   "source": [
    "Finally, we remove any inital phrase starting with dates in formats 'Month day, year' (type 7 metainformation)."
   ]
  },
  {
   "cell_type": "code",
   "execution_count": 16,
   "metadata": {},
   "outputs": [],
   "source": [
    "# List of months\n",
    "months = ['Jenuary', 'February', 'March', 'April', 'May', 'June', 'July', 'August', 'September', 'October', 'November', 'December']\n",
    "for month in months:\n",
    "    # For each month replace the pattern with empty string in the 'article' column to remove the last type of metainformation\n",
    "    pattern = r'^' + month + r' \\d{1,2}\\s*, \\d{4}\\s*\\.\\s*'\n",
    "    df['article'] = df['article'].str.replace(pattern, '', regex = True)"
   ]
  },
  {
   "cell_type": "markdown",
   "metadata": {},
   "source": [
    "At this point, the `df` DataFrame contains the cleaned data with the above patterns removed. We now double-check the results in `df` before proceding with the reindexing of the DataFrame."
   ]
  },
  {
   "cell_type": "code",
   "execution_count": 41,
   "metadata": {},
   "outputs": [
    {
     "data": {
      "text/html": [
       "<div>\n",
       "<style scoped>\n",
       "    .dataframe tbody tr th:only-of-type {\n",
       "        vertical-align: middle;\n",
       "    }\n",
       "\n",
       "    .dataframe tbody tr th {\n",
       "        vertical-align: top;\n",
       "    }\n",
       "\n",
       "    .dataframe thead th {\n",
       "        text-align: right;\n",
       "    }\n",
       "</style>\n",
       "<table border=\"1\" class=\"dataframe\">\n",
       "  <thead>\n",
       "    <tr style=\"text-align: right;\">\n",
       "      <th></th>\n",
       "      <th>id</th>\n",
       "      <th>article</th>\n",
       "      <th>highlights</th>\n",
       "    </tr>\n",
       "  </thead>\n",
       "  <tbody>\n",
       "  </tbody>\n",
       "</table>\n",
       "</div>"
      ],
      "text/plain": [
       "Empty DataFrame\n",
       "Columns: [id, article, highlights]\n",
       "Index: []"
      ]
     },
     "metadata": {},
     "output_type": "display_data"
    },
    {
     "data": {
      "text/html": [
       "<div>\n",
       "<style scoped>\n",
       "    .dataframe tbody tr th:only-of-type {\n",
       "        vertical-align: middle;\n",
       "    }\n",
       "\n",
       "    .dataframe tbody tr th {\n",
       "        vertical-align: top;\n",
       "    }\n",
       "\n",
       "    .dataframe thead th {\n",
       "        text-align: right;\n",
       "    }\n",
       "</style>\n",
       "<table border=\"1\" class=\"dataframe\">\n",
       "  <thead>\n",
       "    <tr style=\"text-align: right;\">\n",
       "      <th></th>\n",
       "      <th>id</th>\n",
       "      <th>article</th>\n",
       "      <th>highlights</th>\n",
       "    </tr>\n",
       "  </thead>\n",
       "  <tbody>\n",
       "  </tbody>\n",
       "</table>\n",
       "</div>"
      ],
      "text/plain": [
       "Empty DataFrame\n",
       "Columns: [id, article, highlights]\n",
       "Index: []"
      ]
     },
     "metadata": {},
     "output_type": "display_data"
    },
    {
     "data": {
      "text/html": [
       "<div>\n",
       "<style scoped>\n",
       "    .dataframe tbody tr th:only-of-type {\n",
       "        vertical-align: middle;\n",
       "    }\n",
       "\n",
       "    .dataframe tbody tr th {\n",
       "        vertical-align: top;\n",
       "    }\n",
       "\n",
       "    .dataframe thead th {\n",
       "        text-align: right;\n",
       "    }\n",
       "</style>\n",
       "<table border=\"1\" class=\"dataframe\">\n",
       "  <thead>\n",
       "    <tr style=\"text-align: right;\">\n",
       "      <th></th>\n",
       "      <th>id</th>\n",
       "      <th>article</th>\n",
       "      <th>highlights</th>\n",
       "    </tr>\n",
       "  </thead>\n",
       "  <tbody>\n",
       "  </tbody>\n",
       "</table>\n",
       "</div>"
      ],
      "text/plain": [
       "Empty DataFrame\n",
       "Columns: [id, article, highlights]\n",
       "Index: []"
      ]
     },
     "metadata": {},
     "output_type": "display_data"
    },
    {
     "data": {
      "text/html": [
       "<div>\n",
       "<style scoped>\n",
       "    .dataframe tbody tr th:only-of-type {\n",
       "        vertical-align: middle;\n",
       "    }\n",
       "\n",
       "    .dataframe tbody tr th {\n",
       "        vertical-align: top;\n",
       "    }\n",
       "\n",
       "    .dataframe thead th {\n",
       "        text-align: right;\n",
       "    }\n",
       "</style>\n",
       "<table border=\"1\" class=\"dataframe\">\n",
       "  <thead>\n",
       "    <tr style=\"text-align: right;\">\n",
       "      <th></th>\n",
       "      <th>id</th>\n",
       "      <th>article</th>\n",
       "      <th>highlights</th>\n",
       "    </tr>\n",
       "  </thead>\n",
       "  <tbody>\n",
       "  </tbody>\n",
       "</table>\n",
       "</div>"
      ],
      "text/plain": [
       "Empty DataFrame\n",
       "Columns: [id, article, highlights]\n",
       "Index: []"
      ]
     },
     "metadata": {},
     "output_type": "display_data"
    },
    {
     "data": {
      "text/html": [
       "<div>\n",
       "<style scoped>\n",
       "    .dataframe tbody tr th:only-of-type {\n",
       "        vertical-align: middle;\n",
       "    }\n",
       "\n",
       "    .dataframe tbody tr th {\n",
       "        vertical-align: top;\n",
       "    }\n",
       "\n",
       "    .dataframe thead th {\n",
       "        text-align: right;\n",
       "    }\n",
       "</style>\n",
       "<table border=\"1\" class=\"dataframe\">\n",
       "  <thead>\n",
       "    <tr style=\"text-align: right;\">\n",
       "      <th></th>\n",
       "      <th>id</th>\n",
       "      <th>article</th>\n",
       "      <th>highlights</th>\n",
       "    </tr>\n",
       "  </thead>\n",
       "  <tbody>\n",
       "  </tbody>\n",
       "</table>\n",
       "</div>"
      ],
      "text/plain": [
       "Empty DataFrame\n",
       "Columns: [id, article, highlights]\n",
       "Index: []"
      ]
     },
     "metadata": {},
     "output_type": "display_data"
    },
    {
     "data": {
      "text/html": [
       "<div>\n",
       "<style scoped>\n",
       "    .dataframe tbody tr th:only-of-type {\n",
       "        vertical-align: middle;\n",
       "    }\n",
       "\n",
       "    .dataframe tbody tr th {\n",
       "        vertical-align: top;\n",
       "    }\n",
       "\n",
       "    .dataframe thead th {\n",
       "        text-align: right;\n",
       "    }\n",
       "</style>\n",
       "<table border=\"1\" class=\"dataframe\">\n",
       "  <thead>\n",
       "    <tr style=\"text-align: right;\">\n",
       "      <th></th>\n",
       "      <th>id</th>\n",
       "      <th>article</th>\n",
       "      <th>highlights</th>\n",
       "    </tr>\n",
       "  </thead>\n",
       "  <tbody>\n",
       "  </tbody>\n",
       "</table>\n",
       "</div>"
      ],
      "text/plain": [
       "Empty DataFrame\n",
       "Columns: [id, article, highlights]\n",
       "Index: []"
      ]
     },
     "metadata": {},
     "output_type": "display_data"
    },
    {
     "data": {
      "text/html": [
       "<div>\n",
       "<style scoped>\n",
       "    .dataframe tbody tr th:only-of-type {\n",
       "        vertical-align: middle;\n",
       "    }\n",
       "\n",
       "    .dataframe tbody tr th {\n",
       "        vertical-align: top;\n",
       "    }\n",
       "\n",
       "    .dataframe thead th {\n",
       "        text-align: right;\n",
       "    }\n",
       "</style>\n",
       "<table border=\"1\" class=\"dataframe\">\n",
       "  <thead>\n",
       "    <tr style=\"text-align: right;\">\n",
       "      <th></th>\n",
       "      <th>id</th>\n",
       "      <th>article</th>\n",
       "      <th>highlights</th>\n",
       "    </tr>\n",
       "  </thead>\n",
       "  <tbody>\n",
       "  </tbody>\n",
       "</table>\n",
       "</div>"
      ],
      "text/plain": [
       "Empty DataFrame\n",
       "Columns: [id, article, highlights]\n",
       "Index: []"
      ]
     },
     "metadata": {},
     "output_type": "display_data"
    },
    {
     "data": {
      "text/html": [
       "<div>\n",
       "<style scoped>\n",
       "    .dataframe tbody tr th:only-of-type {\n",
       "        vertical-align: middle;\n",
       "    }\n",
       "\n",
       "    .dataframe tbody tr th {\n",
       "        vertical-align: top;\n",
       "    }\n",
       "\n",
       "    .dataframe thead th {\n",
       "        text-align: right;\n",
       "    }\n",
       "</style>\n",
       "<table border=\"1\" class=\"dataframe\">\n",
       "  <thead>\n",
       "    <tr style=\"text-align: right;\">\n",
       "      <th></th>\n",
       "      <th>id</th>\n",
       "      <th>article</th>\n",
       "      <th>highlights</th>\n",
       "    </tr>\n",
       "  </thead>\n",
       "  <tbody>\n",
       "  </tbody>\n",
       "</table>\n",
       "</div>"
      ],
      "text/plain": [
       "Empty DataFrame\n",
       "Columns: [id, article, highlights]\n",
       "Index: []"
      ]
     },
     "metadata": {},
     "output_type": "display_data"
    },
    {
     "data": {
      "text/html": [
       "<div>\n",
       "<style scoped>\n",
       "    .dataframe tbody tr th:only-of-type {\n",
       "        vertical-align: middle;\n",
       "    }\n",
       "\n",
       "    .dataframe tbody tr th {\n",
       "        vertical-align: top;\n",
       "    }\n",
       "\n",
       "    .dataframe thead th {\n",
       "        text-align: right;\n",
       "    }\n",
       "</style>\n",
       "<table border=\"1\" class=\"dataframe\">\n",
       "  <thead>\n",
       "    <tr style=\"text-align: right;\">\n",
       "      <th></th>\n",
       "      <th>id</th>\n",
       "      <th>article</th>\n",
       "      <th>highlights</th>\n",
       "    </tr>\n",
       "  </thead>\n",
       "  <tbody>\n",
       "  </tbody>\n",
       "</table>\n",
       "</div>"
      ],
      "text/plain": [
       "Empty DataFrame\n",
       "Columns: [id, article, highlights]\n",
       "Index: []"
      ]
     },
     "metadata": {},
     "output_type": "display_data"
    },
    {
     "data": {
      "text/html": [
       "<div>\n",
       "<style scoped>\n",
       "    .dataframe tbody tr th:only-of-type {\n",
       "        vertical-align: middle;\n",
       "    }\n",
       "\n",
       "    .dataframe tbody tr th {\n",
       "        vertical-align: top;\n",
       "    }\n",
       "\n",
       "    .dataframe thead th {\n",
       "        text-align: right;\n",
       "    }\n",
       "</style>\n",
       "<table border=\"1\" class=\"dataframe\">\n",
       "  <thead>\n",
       "    <tr style=\"text-align: right;\">\n",
       "      <th></th>\n",
       "      <th>id</th>\n",
       "      <th>article</th>\n",
       "      <th>highlights</th>\n",
       "    </tr>\n",
       "  </thead>\n",
       "  <tbody>\n",
       "  </tbody>\n",
       "</table>\n",
       "</div>"
      ],
      "text/plain": [
       "Empty DataFrame\n",
       "Columns: [id, article, highlights]\n",
       "Index: []"
      ]
     },
     "metadata": {},
     "output_type": "display_data"
    },
    {
     "data": {
      "text/html": [
       "<div>\n",
       "<style scoped>\n",
       "    .dataframe tbody tr th:only-of-type {\n",
       "        vertical-align: middle;\n",
       "    }\n",
       "\n",
       "    .dataframe tbody tr th {\n",
       "        vertical-align: top;\n",
       "    }\n",
       "\n",
       "    .dataframe thead th {\n",
       "        text-align: right;\n",
       "    }\n",
       "</style>\n",
       "<table border=\"1\" class=\"dataframe\">\n",
       "  <thead>\n",
       "    <tr style=\"text-align: right;\">\n",
       "      <th></th>\n",
       "      <th>id</th>\n",
       "      <th>article</th>\n",
       "      <th>highlights</th>\n",
       "    </tr>\n",
       "  </thead>\n",
       "  <tbody>\n",
       "  </tbody>\n",
       "</table>\n",
       "</div>"
      ],
      "text/plain": [
       "Empty DataFrame\n",
       "Columns: [id, article, highlights]\n",
       "Index: []"
      ]
     },
     "metadata": {},
     "output_type": "display_data"
    }
   ],
   "source": [
    "patterns_check = [\n",
    "    r'^CNN\\s*--',\n",
    "    r'^\\w+\\s*[.,]+\\s*\\w+\\s*--',\n",
    "    r'^By\\s*\\.',\n",
    "    r'^CREATED: \\.',\n",
    "    r'^UPDATED: \\.',\n",
    "    r'^PUBLISHED: \\.',\n",
    "    r'^Last updated at .*?\\.',\n",
    "    r'^Editor\\'s note:',\n",
    "    r'\\((?:left|right|pictured)\\)',\n",
    "    r'^Click here.*?\\.',\n",
    "    r'^(?:December|April) \\d{1,2}\\s*, \\d{4}\\s*\\.'\n",
    "]\n",
    "\n",
    "for pattern in patterns_check:\n",
    "    display(df[df['article'].str.contains(pattern, regex = True, flags = re.IGNORECASE)])"
   ]
  },
  {
   "cell_type": "markdown",
   "metadata": {},
   "source": [
    "Below are some examples of articles in their original and cleaned forms. Notice that these are the examples we included in the report."
   ]
  },
  {
   "cell_type": "code",
   "execution_count": 42,
   "metadata": {},
   "outputs": [
    {
     "name": "stdout",
     "output_type": "stream",
     "text": [
      "104942\n",
      "(CNN)That's some rich \"American Pie.\" The lyrics to the famed Don McLean song sold for $1.2 million Tuesday morning at an auction held by Christie's. \"Don McLean's manuscript of 'American Pie' achieved the 3rd highest auction price for an American literary manuscript, a fitting tribute to one the foremost singer-songwriters of his generation,\" Christie's Tom Lecky said in a statement. McLean told Rolling Stone that it was time to part with the manuscript. \"I'm going to be 70 this year,\" the singer and songwriter said in February. \"I have two children and a wife, and none of them seem to have the mercantile instinct. I want to get the best deal that I can for them. It's time.\" Over the years, \"American Pie\" has become one of the most dissected and argued-about songs in the pop music canon. McLean has said that the opening lines were inspired by the death of Buddy Holly, but after that, it's all been conjecture -- which hasn't stopped a marching band's worth of analysts from trying to parse the symbols in the 8-minute, 33-second opus. Is the jester Bob Dylan? The football game Vietnam? The \"girl who sang the blues\" Janis Joplin? (One thing's certain: Buddy Holly's plane was NOT named \"American Pie.\") \"Over the years I've dealt with all these stupid questions of 'Who's that?' and 'Who's that?' \" McLean said. \"These are things I never had in my head for a second when I wrote the song. I was trying to capture something very ephemeral and I did, but it took a long time.\" The song catapulted the former folk singer to headliner status. The song hit No. 1 in early 1972, despite its length. (The 45-rpm single split the song in half on its A and B sides.) The draft that was auctioned is 16 pages: 237 lines of manuscript and 26 lines of typed text, according to Christie's. It includes lines that didn't make the final version as well as extensive notes -- all of which should be revealing, McLean said. The record for a popular music manuscript is held by Bob Dylan's \"Like a Rolling Stone,\" which sold for $2 million in June. Opinion: What's so great about 'American Pie'?\n",
      "That's some rich \"American Pie.\" The lyrics to the famed Don McLean song sold for $1.2 million Tuesday morning at an auction held by Christie's. \"Don McLean's manuscript of 'American Pie' achieved the 3rd highest auction price for an American literary manuscript, a fitting tribute to one the foremost singer-songwriters of his generation,\" Christie's Tom Lecky said in a statement. McLean told Rolling Stone that it was time to part with the manuscript. \"I'm going to be 70 this year,\" the singer and songwriter said in February. \"I have two children and a wife, and none of them seem to have the mercantile instinct. I want to get the best deal that I can for them. It's time.\" Over the years, \"American Pie\" has become one of the most dissected and argued-about songs in the pop music canon. McLean has said that the opening lines were inspired by the death of Buddy Holly, but after that, it's all been conjecture -- which hasn't stopped a marching band's worth of analysts from trying to parse the symbols in the 8-minute, 33-second opus. Is the jester Bob Dylan? The football game Vietnam? The \"girl who sang the blues\" Janis Joplin? (One thing's certain: Buddy Holly's plane was NOT named \"American Pie.\") \"Over the years I've dealt with all these stupid questions of 'Who's that?' and 'Who's that?' \" McLean said. \"These are things I never had in my head for a second when I wrote the song. I was trying to capture something very ephemeral and I did, but it took a long time.\" The song catapulted the former folk singer to headliner status. The song hit No. 1 in early 1972, despite its length. (The 45-rpm single split the song in half on its A and B sides.) The draft that was auctioned is 16 pages: 237 lines of manuscript and 26 lines of typed text, according to Christie's. It includes lines that didn't make the final version as well as extensive notes -- all of which should be revealing, McLean said. The record for a popular music manuscript is held by Bob Dylan's \"Like a Rolling Stone,\" which sold for $2 million in June. Opinion: What's so great about 'American Pie'?\n",
      "135\n",
      "(Rolling Stone) -- The digital archivist who restored the singles catalogs of the Smiths, Joy Division and New Order in a series of blog projects is being strongly discouraged from starting a similar project collecting R.E.M.'s earliest work. In a blog post on the nascent R.E.M.cycle site, the blogger known as Analog Loyalist explained that Universal, the record company that owns the band's IRS Records catalog, issued a Digital Millennium Copyright Act (DMCA) takedown notice for an R.E.M. post on the writer's sister site The Power of Independent Trucking featuring a restored version of the band's first cassette demo, with early renditions of \"Radio Free Europe,\" \"Sitting Still\" and \"White Tornado.\" \"Tell me, what role does the IFPI (of which Universal is obviously a member) have to do with unreleased material recorded when the band had no record contract?,\" Analog Loyalist writes, referring to the International Federation of the Phonographic Industry. \"These were demos freely given away by the band. On low-fi C45 cassettes. And the IFPI thinks it's their business how?\" The blogger is now reconsidering the wisdom of pursuing the project. \"So you can see why I'm very hesitant to move forward with this blog, only because I don't want to see my efforts as a writer/archivist/engineer wasted,\" he writes. The site would in fact be a very labor-intensive process. As explained in the sidebar for the R.E.M., Smiths and Joy Division/New Order sites, the tracks used are \"taken from the best/earliest possible sources to avoid modern mastering techniques which crush the dynamics,\" and the artwork is \"scanned at the highest possible resolution and the type was reset when possible using the original fonts.\" All works featured in these projects are from out-of-print sources, and some tracks have never been commercially released or reissued. See the full story at RollingStone.com. Copyright © 2011 Rolling Stone.\n",
      "The digital archivist who restored the singles catalogs of the Smiths, Joy Division and New Order in a series of blog projects is being strongly discouraged from starting a similar project collecting R.E.M.'s earliest work. In a blog post on the nascent R.E.M.cycle site, the blogger known as Analog Loyalist explained that Universal, the record company that owns the band's IRS Records catalog, issued a Digital Millennium Copyright Act (DMCA) takedown notice for an R.E.M. post on the writer's sister site The Power of Independent Trucking featuring a restored version of the band's first cassette demo, with early renditions of \"Radio Free Europe,\" \"Sitting Still\" and \"White Tornado.\" \"Tell me, what role does the IFPI (of which Universal is obviously a member) have to do with unreleased material recorded when the band had no record contract?,\" Analog Loyalist writes, referring to the International Federation of the Phonographic Industry. \"These were demos freely given away by the band. On low-fi C45 cassettes. And the IFPI thinks it's their business how?\" The blogger is now reconsidering the wisdom of pursuing the project. \"So you can see why I'm very hesitant to move forward with this blog, only because I don't want to see my efforts as a writer/archivist/engineer wasted,\" he writes. The site would in fact be a very labor-intensive process. As explained in the sidebar for the R.E.M., Smiths and Joy Division/New Order sites, the tracks used are \"taken from the best/earliest possible sources to avoid modern mastering techniques which crush the dynamics,\" and the artwork is \"scanned at the highest possible resolution and the type was reset when possible using the original fonts.\" All works featured in these projects are from out-of-print sources, and some tracks have never been commercially released or reissued. See the full story at RollingStone.com. Copyright © 2011 Rolling Stone.\n",
      "0\n",
      "Canberra, Australia (CNN) -- At first glance, it doesn't look like much. Hidden behind an unmarked door, in a nondescript government office building in the Australian capital, it could be mistaken for a high school science classroom with work benches, slightly outdated computer monitors, and the odd microscope sitting in the corner. But what happens in this room is anything but amateur. We're inside the Australian Transport Safety Bureau's accident investigation lab, the place where the black boxes from Malaysian Airlines flight MH370 could be brought if and when they're recovered from the bottom of the southern Indian Ocean. The place that may play a critical role in solving the mystery of what happened to the Boeing 777 and the 239 passengers and crew on board. Our guide today is Senior Transport Safety Investigator Neil Campbell. An engineer by trade, he's been taking apart flight data recorders and recovering the data from them for over two decades. Campbell says he thrives on the technical challenge of accident investigation, but there's another factor that attracts him to his chosen line of work. \"Anything you can do to improve safety, improve the safety of the traveling public -- that's rewarding,\" he says. Just a handful of countries have the capability and technical know-how to decipher what's inside a black box. And if the Malaysians, who by international convention are in charge of the investigation into MH370, select Australia to take the lead, the devices will be brought here. 'Object of interest' found . Retrieving the memory board . We start by the sink. Once the flight data recorder or cockpit voice recorder is retrieved from more than 4500 meters below the surface of the Indian Ocean, it will be packed in water in a plastic bin to stop any salt or chemicals from solidifying and damaging the memory board, says Campbell. When the recorder arrives at the lab, Campbell or another investigator will rinse the recorder with distilled water, then begin the process of taking it apart. Sometimes getting the data is simple. \"A lot of our work is with undamaged recorders and it's very easy to download them, much as you would a USB memory stick,\" Campbell says, as he flips open a slot on the end of the recorder. But the process becomes much more technical if the recorders are damaged by fire or water. On the shelves of the lab's main room are examples of black boxes that have survived some of the worst conditions. Their metal casing is warped and torn, or their bright orange exterior charred black. But even with these recorders, Campbell still has options to tackle what some might consider an impossible task. That's because the only part of the flight data recorder that investigators really need intact is a small rectangular box called the Crash Survivable Memory Unit (CSMU). Campbell unscrews a couple of bolts. Wearing gloves and grounded to an anti-static mat, he begins peeling off layer upon layer of housing and protective insulation. In the center, is a memory board with eight flash memory chips, no bigger than the palm of his hand. This is where the vital data, and potentially the answers, live. In the case of the Boeing 777, Campbell says, the flight data recorder captures about 2,000 parameters for up to 25 hours. Those include everything from altitude and airspeed, to flap settings, engine performance, even cabin temperature and pressure. Campbell says some of the key parameters are recorded as often as eight times per second. The cockpit voice recorder captures four audio channels for a maximum of two hours before overwriting. One of the most challenging scenarios is when the board itself is damaged: \"We could take each individual chip off the circuit board, read those out individually, and then with the help of the manufacturer, piece all that information together,\" Campbell explains. If there's water damage, Campbell says he will rinse the board very carefully, then use a water displacement liquid, before drying out the circuit board in an oven. That process can take a couple of days. Decoding the data . When the raw data is downloaded from the recorder, it comes out as binary computer code, a slew of zeros and ones. Using a document provided by the aircraft manufacturer, investigators are able to decode each piece of data, and begin the process of getting a clearer picture of what happened and when. To illustrate the point of just what the information gathered from a flight data recorder can show, Campbell takes us through a heavy door into the soundproof audio analysis lab and pulls up an animation on a monitor. For the next 90 seconds we watch an animated representation of a 2010 twin propeller plane crash in Darwin, Australia, when a simulated engine failure went wrong after takeoff, tragically ending in the death of both pilots on board. Campbell says having this visual representation is a vital tool in helping the public understand an accident: \"There's a satisfaction in working out what happened with the accident and the conclusions, and the closure that that brings.\" Closure that any investigator, wherever the black boxes from MH370 end up, might hope to bring to the loved ones of those on board the missing Malaysian Airlines flight. CNN's Michael Holmes contributed to this report.\n",
      "At first glance, it doesn't look like much. Hidden behind an unmarked door, in a nondescript government office building in the Australian capital, it could be mistaken for a high school science classroom with work benches, slightly outdated computer monitors, and the odd microscope sitting in the corner. But what happens in this room is anything but amateur. We're inside the Australian Transport Safety Bureau's accident investigation lab, the place where the black boxes from Malaysian Airlines flight MH370 could be brought if and when they're recovered from the bottom of the southern Indian Ocean. The place that may play a critical role in solving the mystery of what happened to the Boeing 777 and the 239 passengers and crew on board. Our guide today is Senior Transport Safety Investigator Neil Campbell. An engineer by trade, he's been taking apart flight data recorders and recovering the data from them for over two decades. Campbell says he thrives on the technical challenge of accident investigation, but there's another factor that attracts him to his chosen line of work. \"Anything you can do to improve safety, improve the safety of the traveling public -- that's rewarding,\" he says. Just a handful of countries have the capability and technical know-how to decipher what's inside a black box. And if the Malaysians, who by international convention are in charge of the investigation into MH370, select Australia to take the lead, the devices will be brought here. 'Object of interest' found . Retrieving the memory board . We start by the sink. Once the flight data recorder or cockpit voice recorder is retrieved from more than 4500 meters below the surface of the Indian Ocean, it will be packed in water in a plastic bin to stop any salt or chemicals from solidifying and damaging the memory board, says Campbell. When the recorder arrives at the lab, Campbell or another investigator will rinse the recorder with distilled water, then begin the process of taking it apart. Sometimes getting the data is simple. \"A lot of our work is with undamaged recorders and it's very easy to download them, much as you would a USB memory stick,\" Campbell says, as he flips open a slot on the end of the recorder. But the process becomes much more technical if the recorders are damaged by fire or water. On the shelves of the lab's main room are examples of black boxes that have survived some of the worst conditions. Their metal casing is warped and torn, or their bright orange exterior charred black. But even with these recorders, Campbell still has options to tackle what some might consider an impossible task. That's because the only part of the flight data recorder that investigators really need intact is a small rectangular box called the Crash Survivable Memory Unit (CSMU). Campbell unscrews a couple of bolts. Wearing gloves and grounded to an anti-static mat, he begins peeling off layer upon layer of housing and protective insulation. In the center, is a memory board with eight flash memory chips, no bigger than the palm of his hand. This is where the vital data, and potentially the answers, live. In the case of the Boeing 777, Campbell says, the flight data recorder captures about 2,000 parameters for up to 25 hours. Those include everything from altitude and airspeed, to flap settings, engine performance, even cabin temperature and pressure. Campbell says some of the key parameters are recorded as often as eight times per second. The cockpit voice recorder captures four audio channels for a maximum of two hours before overwriting. One of the most challenging scenarios is when the board itself is damaged: \"We could take each individual chip off the circuit board, read those out individually, and then with the help of the manufacturer, piece all that information together,\" Campbell explains. If there's water damage, Campbell says he will rinse the board very carefully, then use a water displacement liquid, before drying out the circuit board in an oven. That process can take a couple of days. Decoding the data . When the raw data is downloaded from the recorder, it comes out as binary computer code, a slew of zeros and ones. Using a document provided by the aircraft manufacturer, investigators are able to decode each piece of data, and begin the process of getting a clearer picture of what happened and when. To illustrate the point of just what the information gathered from a flight data recorder can show, Campbell takes us through a heavy door into the soundproof audio analysis lab and pulls up an animation on a monitor. For the next 90 seconds we watch an animated representation of a 2010 twin propeller plane crash in Darwin, Australia, when a simulated engine failure went wrong after takeoff, tragically ending in the death of both pilots on board. Campbell says having this visual representation is a vital tool in helping the public understand an accident: \"There's a satisfaction in working out what happened with the accident and the conclusions, and the closure that that brings.\" Closure that any investigator, wherever the black boxes from MH370 end up, might hope to bring to the loved ones of those on board the missing Malaysian Airlines flight. CNN's Michael Holmes contributed to this report.\n",
      "3532\n",
      "CNN  -- As one of the most successful franchises in Major League  Baseball history, the Los Angeles Dodgers opened the 2011 season with a victory over the World Champion San Francisco Giants. The nationally televised game was nearly sold out with a seating capacity of 56,000 fans. The franchise with six World Series championships was considered a strong contender for a pennant with new manager Don Mattingly, who succeeded Joe Torre. Since owner Frank McCourt acquired the team in 2004, the Dodgers have reached the post-season four times, following a decade-long drought. But a vicious post-game attack on Giants fan Bryan Stow and McCourt's bitter divorce proceeding have changed the landscape at one of baseball's most picturesque parks. Equally disturbing is how fan attendance has declined dramatically, with many sections of the stadium now empty on game days. The renowned team that nurtured icons such as Sandy Koufax, Jackie Robinson, Tommy Lasorda and Fernando Valenzuela is unmistakably troubled, said Nelson Gayton, executive director of the Anderson Center for Managing Enterprises in Media, Entertainment and Sports at the University of California at Los Angeles. \"Here you have a team that is not only America's darling but truly one of the crown jewels of Major League Baseball,\" Gayton said. \"In many ways, what has happened is that the brand luster has been tarnished. I would say this has been happening precipitously over the last few years. And not winning couldn't have helped. What you have is a turnaround that is much needed,\" Gayton added. \"It's a sad state of affairs.\" But all's not lost, Gayton said. \"If you're going to ask me whether the value of the brand is diminished significantly, I wouldn't say that,\" Gayton stated. That brand is partly founded in how the then-Brooklyn Dodgers broke baseball's color line in the 1940s with the signing of Robinson, a former UCLA star who eventually became the first African-American elected to the Hall of Fame. The team debuted in Brooklyn in 1890 as the \"Bridgegrooms\" and won the National League championship -- the first of 21 pennants that the club would win during the following 100 years. \"Trolley Dodgers\" was later attached to the team because of the maze of trolley cars in the New York City borough of Brooklyn, and the nickname was shortened to its current form. In 1955, the Dodgers won their first World Series, during the Robinson era. Then in 1958, the team moved to Los Angeles, where it won the World Series again in 1959. In another landmark, mellifluous broadcaster Vin Scully this year entered an unprecedented 62nd season announcing Dodgers baseball. Still, the attack of Stow on March 31 -- the season's opener -- has cast a pall over the team: he was beaten nearly to death in the parking lot, supposedly by two Dodger fans, and he's still hospitalized. The Stow assault left an indelible sense of concern over safety, in spite of increased security, according to interviews with fans and season ticket holders. Police have yet to solve the case. In a recently filed lawsuit, Stow's family alleges that security officers and managers at Dodger Stadium have been apprised of a history of aggressive, violent behavior. The suit asserts the presence of criminal gang activity in some crowds at the stadium and inadequate safety -- both factors in the attack, according to the lawsuit. While overall league attendance is down this season, the Dodgers are taking an especially hard hit: there are 7,000 fewer fans attending home games -- amounting to an attendance loss of 200,000 so far this year, Dodgers officials say. In addition, McCourt's financial turmoil led Major League Baseball commissioner Bud Selig to take over day-to-day operations as the league conducts an investigation into his finances. McCourt declined to be interviewed. The nation's struggling economic recovery and the team's below-.500 winning percentage may have played a role in attendance declines. \"It's a number of factors,\" Josh Rawitch, Dodger's vice president of communications, said in explaining the loss of the faithful. Robert Watkin, who has been attending Dodger games for 31 years, says he feels disenchanted. \"Since the McCourts took over he's made it his priority to take care of personal business besides making this organization the successful organization it's always been,\" he said. Watkin said the feeling of a family atmosphere has dissipated, and he blames McCourt. \"People have lost trust. You used to come here, and it wouldn't matter if the team was winning. It was fun. It just doesn't feel that way anymore, and I think in essence people are boycotting until something turns around,\" he said. If a California judge overseeing the divorce of Frank and Jamie McCourt orders that the Dodgers be put up for sale, Los Angeles Councilwoman Janice Hahn is prepared: she has already introduced legislation calling on Major League Baseball to give fans an opportunity to buy the team. \"Watching the ongoing custody trial over the team has been painful for all Dodger fans. The truth is that this team belongs to the fans; and we should have a chance at purchasing the Dodgers if they are sold,\" said Hahn, who added that her late father, Supervisor Kenneth Hahn, was responsible for bringing the team to Los Angeles in the 1950s. Her proposal is a long shot. In 1961, Major League Baseball passed a resolution forbidding public ownership of teams. Congressional legislation is needed to remove the restriction and make it possible for fans to join together to purchase the team, said Hahn. Meanwhile, a consortium of investors led by Beverly Hills-based real estate developer Stanley Stalford has launched an effort to purchase the Dodgers similar to the way the NFL's Green Bay Packers became a publicly owned franchise. Andre Hannie is a season ticket holder who says he also feels betrayed by the lavish personal spending of McCourt. But he remains a die-hard fan. \"I am bitter over what he's done over the years, but it's not going to stop me from supporting the team. There could be 12 people here and I would still come out every night,\" Hannie said. Hannie, who attended opening day with his 15-year-old son, has some concerns about safety, especially how the Stow attack has damaged the image of fans. \"People have labeled us as like some fans being gang bangers that come here and get kind of rowdy, which I have seen, but this is a family game. I personally feel safe, but security does what it can to make sure it's safe,\" Hannie said. Hannie wants to see the team go from loser to winner. \"We need an owner here who's committed to the team, the fans and most importantly winning. It's been (almost) 25 years since we've won a World Series,\" said the Dodger fan.\n",
      "As one of the most successful franchises in Major League  Baseball history, the Los Angeles Dodgers opened the 2011 season with a victory over the World Champion San Francisco Giants. The nationally televised game was nearly sold out with a seating capacity of 56,000 fans. The franchise with six World Series championships was considered a strong contender for a pennant with new manager Don Mattingly, who succeeded Joe Torre. Since owner Frank McCourt acquired the team in 2004, the Dodgers have reached the post-season four times, following a decade-long drought. But a vicious post-game attack on Giants fan Bryan Stow and McCourt's bitter divorce proceeding have changed the landscape at one of baseball's most picturesque parks. Equally disturbing is how fan attendance has declined dramatically, with many sections of the stadium now empty on game days. The renowned team that nurtured icons such as Sandy Koufax, Jackie Robinson, Tommy Lasorda and Fernando Valenzuela is unmistakably troubled, said Nelson Gayton, executive director of the Anderson Center for Managing Enterprises in Media, Entertainment and Sports at the University of California at Los Angeles. \"Here you have a team that is not only America's darling but truly one of the crown jewels of Major League Baseball,\" Gayton said. \"In many ways, what has happened is that the brand luster has been tarnished. I would say this has been happening precipitously over the last few years. And not winning couldn't have helped. What you have is a turnaround that is much needed,\" Gayton added. \"It's a sad state of affairs.\" But all's not lost, Gayton said. \"If you're going to ask me whether the value of the brand is diminished significantly, I wouldn't say that,\" Gayton stated. That brand is partly founded in how the then-Brooklyn Dodgers broke baseball's color line in the 1940s with the signing of Robinson, a former UCLA star who eventually became the first African-American elected to the Hall of Fame. The team debuted in Brooklyn in 1890 as the \"Bridgegrooms\" and won the National League championship -- the first of 21 pennants that the club would win during the following 100 years. \"Trolley Dodgers\" was later attached to the team because of the maze of trolley cars in the New York City borough of Brooklyn, and the nickname was shortened to its current form. In 1955, the Dodgers won their first World Series, during the Robinson era. Then in 1958, the team moved to Los Angeles, where it won the World Series again in 1959. In another landmark, mellifluous broadcaster Vin Scully this year entered an unprecedented 62nd season announcing Dodgers baseball. Still, the attack of Stow on March 31 -- the season's opener -- has cast a pall over the team: he was beaten nearly to death in the parking lot, supposedly by two Dodger fans, and he's still hospitalized. The Stow assault left an indelible sense of concern over safety, in spite of increased security, according to interviews with fans and season ticket holders. Police have yet to solve the case. In a recently filed lawsuit, Stow's family alleges that security officers and managers at Dodger Stadium have been apprised of a history of aggressive, violent behavior. The suit asserts the presence of criminal gang activity in some crowds at the stadium and inadequate safety -- both factors in the attack, according to the lawsuit. While overall league attendance is down this season, the Dodgers are taking an especially hard hit: there are 7,000 fewer fans attending home games -- amounting to an attendance loss of 200,000 so far this year, Dodgers officials say. In addition, McCourt's financial turmoil led Major League Baseball commissioner Bud Selig to take over day-to-day operations as the league conducts an investigation into his finances. McCourt declined to be interviewed. The nation's struggling economic recovery and the team's below-.500 winning percentage may have played a role in attendance declines. \"It's a number of factors,\" Josh Rawitch, Dodger's vice president of communications, said in explaining the loss of the faithful. Robert Watkin, who has been attending Dodger games for 31 years, says he feels disenchanted. \"Since the McCourts took over he's made it his priority to take care of personal business besides making this organization the successful organization it's always been,\" he said. Watkin said the feeling of a family atmosphere has dissipated, and he blames McCourt. \"People have lost trust. You used to come here, and it wouldn't matter if the team was winning. It was fun. It just doesn't feel that way anymore, and I think in essence people are boycotting until something turns around,\" he said. If a California judge overseeing the divorce of Frank and Jamie McCourt orders that the Dodgers be put up for sale, Los Angeles Councilwoman Janice Hahn is prepared: she has already introduced legislation calling on Major League Baseball to give fans an opportunity to buy the team. \"Watching the ongoing custody trial over the team has been painful for all Dodger fans. The truth is that this team belongs to the fans; and we should have a chance at purchasing the Dodgers if they are sold,\" said Hahn, who added that her late father, Supervisor Kenneth Hahn, was responsible for bringing the team to Los Angeles in the 1950s. Her proposal is a long shot. In 1961, Major League Baseball passed a resolution forbidding public ownership of teams. Congressional legislation is needed to remove the restriction and make it possible for fans to join together to purchase the team, said Hahn. Meanwhile, a consortium of investors led by Beverly Hills-based real estate developer Stanley Stalford has launched an effort to purchase the Dodgers similar to the way the NFL's Green Bay Packers became a publicly owned franchise. Andre Hannie is a season ticket holder who says he also feels betrayed by the lavish personal spending of McCourt. But he remains a die-hard fan. \"I am bitter over what he's done over the years, but it's not going to stop me from supporting the team. There could be 12 people here and I would still come out every night,\" Hannie said. Hannie, who attended opening day with his 15-year-old son, has some concerns about safety, especially how the Stow attack has damaged the image of fans. \"People have labeled us as like some fans being gang bangers that come here and get kind of rowdy, which I have seen, but this is a family game. I personally feel safe, but security does what it can to make sure it's safe,\" Hannie said. Hannie wants to see the team go from loser to winner. \"We need an owner here who's committed to the team, the fans and most importantly winning. It's been (almost) 25 years since we've won a World Series,\" said the Dodger fan.\n",
      "4535\n",
      "LONDON, England  -- Models younger than 16 should be banned from catwalks during London Fashion Week over fears that some girls are developing eating disorders because of their work in the industry, fashion experts have recommended. British model Lily Cole, now 19, shot to fame in 2003 at the age of 15. She attracted attention for her thin build. The new rules were proposed after a panel of experts in the UK began investigating health problems among models in the wake of the size zero debate. However, the guidelines fall short of banning stick-thin girls from the catwalk. The independent Model Health Inquiry said Wednesday in its interim report into models' working conditions that a greater level of protection for 17- and 18 year-olds was needed, including chaperoning at shows. The panel said models under 16 were particularly vulnerable. It mentioned the risk of children being sexually exploited when they were made to represent adult women. It also called for a rigorous scientific study into the prevalence of eating disorders among fashion models and outlined a positive case for setting up a union for the modeling profession. During the inquiry, panel members heard from many models who described the fear of not being selected for work because they were not thin enough, according to Panel chairwoman Baroness Kingsmill, the UK's Press Associated reported. \"The panel has set out an approach designed to protect vulnerable young workers in an industry which appears to be glamorous but which has hidden risks and that for all practical purposes is largely unregulated and unmonitored,\" Kingsmill said. \"During our investigations members of the panel became increasingly concerned as we heard more details about the working conditions faced by many models and the vulnerability of young women working in an unregulated and scarcely-monitored work environment. \"We have been given startling medical evidence about the prevalence and impact of eating disorders in certain high-risk industries. Working conditions for models are far from transparent and there is a worrying lack of information about the overall profession.\" The panel ruled out weighing all models because it had been ineffective in other countries, PA said. However, they want more information on whether a minimum body mass index (BMI) requirement of 18.5 should be introduced for London Fashion Week models. This approach has already been adopted by Madrid fashion week. It called on the British Fashion Council which owns and runs London Fashion Week to develop new best-practice standards for model agencies. After gathering responses to its interim report, the inquiry will publish its final report in September, along with a final set of recommendations, ahead of the next London Fashion Week. Agencies should arrange medical checks including screening for eating disorders when they first put a model on their books. This should be followed by annual check-ups, the panel said. The College of Psychiatrists told the panel that models with a BMI of below 18.5 -- which means they are underweight -- should be banned from the catwalk, but other respondents said BMI did not help identify the eating disorder bulimia nervosa. Last year, models with a BMI of less than 18 were banned from taking part in Madrid Fashion Week. Doctors use the index, which is a ratio of height to weight, to calculate the healthy size for an individual. Recent controversy over skinny models was sparked in August 2006, when Uruguayan model Luisel Ramos, 22, died of heart failure after not eating for several days. Her death was followed in November by that of Ana Carolina Reston, a Brazilian model who suffered from anorexia. The debate about the U.S. size zero was caused by celebrities dieting down to the super-thin size. E-mail to a friend .\n",
      "Models younger than 16 should be banned from catwalks during London Fashion Week over fears that some girls are developing eating disorders because of their work in the industry, fashion experts have recommended. British model Lily Cole, now 19, shot to fame in 2003 at the age of 15. She attracted attention for her thin build. The new rules were proposed after a panel of experts in the UK began investigating health problems among models in the wake of the size zero debate. However, the guidelines fall short of banning stick-thin girls from the catwalk. The independent Model Health Inquiry said Wednesday in its interim report into models' working conditions that a greater level of protection for 17- and 18 year-olds was needed, including chaperoning at shows. The panel said models under 16 were particularly vulnerable. It mentioned the risk of children being sexually exploited when they were made to represent adult women. It also called for a rigorous scientific study into the prevalence of eating disorders among fashion models and outlined a positive case for setting up a union for the modeling profession. During the inquiry, panel members heard from many models who described the fear of not being selected for work because they were not thin enough, according to Panel chairwoman Baroness Kingsmill, the UK's Press Associated reported. \"The panel has set out an approach designed to protect vulnerable young workers in an industry which appears to be glamorous but which has hidden risks and that for all practical purposes is largely unregulated and unmonitored,\" Kingsmill said. \"During our investigations members of the panel became increasingly concerned as we heard more details about the working conditions faced by many models and the vulnerability of young women working in an unregulated and scarcely-monitored work environment. \"We have been given startling medical evidence about the prevalence and impact of eating disorders in certain high-risk industries. Working conditions for models are far from transparent and there is a worrying lack of information about the overall profession.\" The panel ruled out weighing all models because it had been ineffective in other countries, PA said. However, they want more information on whether a minimum body mass index (BMI) requirement of 18.5 should be introduced for London Fashion Week models. This approach has already been adopted by Madrid fashion week. It called on the British Fashion Council which owns and runs London Fashion Week to develop new best-practice standards for model agencies. After gathering responses to its interim report, the inquiry will publish its final report in September, along with a final set of recommendations, ahead of the next London Fashion Week. Agencies should arrange medical checks including screening for eating disorders when they first put a model on their books. This should be followed by annual check-ups, the panel said. The College of Psychiatrists told the panel that models with a BMI of below 18.5 -- which means they are underweight -- should be banned from the catwalk, but other respondents said BMI did not help identify the eating disorder bulimia nervosa. Last year, models with a BMI of less than 18 were banned from taking part in Madrid Fashion Week. Doctors use the index, which is a ratio of height to weight, to calculate the healthy size for an individual. Recent controversy over skinny models was sparked in August 2006, when Uruguayan model Luisel Ramos, 22, died of heart failure after not eating for several days. Her death was followed in November by that of Ana Carolina Reston, a Brazilian model who suffered from anorexia. The debate about the U.S. size zero was caused by celebrities dieting down to the super-thin size. E-mail to a friend .\n",
      "36\n",
      "By . Oliver Todd . Follow @@oliver_todd . The Bundesliga is just edging out the Premier League as the best in the world - according to the number of players left from each league in the World Cup. England's top division had been storming ahead in these stakes but Germany's progression to the semi finals has helped put the Bundesliga on top heading into the last four. Italy's Serie A trails behind with 14 representatives while Holland's win over Costa Rica has helped boost the Eredivisie numbers to 10. Scroll down to see Premier League players flop in Brazil . Key: There might be less Premier League players left but the likes of Tim Krul have been key . Vital: Chelsea's Oscar will be Brazil's main man in their attacking play following Neymar's injury . Clash: Mesut Ozil helped push fellow Premier League man Mathieu Debuchy out of the World Cup . Two steps from glory: Manchester City's Zabaleta has been ever-present for Argentina . Bayern Munich are still the top club around - with a total of nine men helped by their six starters in the German side, but the likes of Chelsea and Manchester City are not far behind. Most surprisingly, Dutch runners up Feyenoord are the second-best represented with five players - all in Louis van Gaal's Oranje squad . Only 20 sides now have two or more players left in the World Cup, and the Premier League boasts four of those: Chelsea, Arsenal, Manchester City and Swansea. But while there might be more German-owned players left - those from English clubs still have some of the biggest roles to play. Tim Krul came off the bench to inspire Holland's penalty shootout win against Costa Rica - and Oscar and Willian will be the key men in Brazil's attack with Neymar ruled out. In terms of the most successful final for the English sides, a Brazil v Holland showpiece in the Maracana could see as many as 12 Premier League players on show - if the Dutch fielded both Krul and Swansea's Michel Vorm. VIDEO Premier League players flop in Brazil  (1/4 finals) Impact: Andre Schurrle was a substitute this time but scored for Germany in the last-16 . Premier League v Bundesliga: Brazil come up against Germany in Belo Horizonte . Bundesliga v Premier League: And Holland face Argentina in Sao Paulo . Competitors: Demichelis tries to tackle Lukaku in the last round as Argentina faced Belgium .\n",
      "The Bundesliga is just edging out the Premier League as the best in the world - according to the number of players left from each league in the World Cup. England's top division had been storming ahead in these stakes but Germany's progression to the semi finals has helped put the Bundesliga on top heading into the last four. Italy's Serie A trails behind with 14 representatives while Holland's win over Costa Rica has helped boost the Eredivisie numbers to 10. Scroll down to see Premier League players flop in Brazil . Key: There might be less Premier League players left but the likes of Tim Krul have been key . Vital: Chelsea's Oscar will be Brazil's main man in their attacking play following Neymar's injury . Clash: Mesut Ozil helped push fellow Premier League man Mathieu Debuchy out of the World Cup . Two steps from glory: Manchester City's Zabaleta has been ever-present for Argentina . Bayern Munich are still the top club around - with a total of nine men helped by their six starters in the German side, but the likes of Chelsea and Manchester City are not far behind. Most surprisingly, Dutch runners up Feyenoord are the second-best represented with five players - all in Louis van Gaal's Oranje squad . Only 20 sides now have two or more players left in the World Cup, and the Premier League boasts four of those: Chelsea, Arsenal, Manchester City and Swansea. But while there might be more German-owned players left - those from English clubs still have some of the biggest roles to play. Tim Krul came off the bench to inspire Holland's penalty shootout win against Costa Rica - and Oscar and Willian will be the key men in Brazil's attack with Neymar ruled out. In terms of the most successful final for the English sides, a Brazil v Holland showpiece in the Maracana could see as many as 12 Premier League players on show - if the Dutch fielded both Krul and Swansea's Michel Vorm. VIDEO Premier League players flop in Brazil  (1/4 finals) Impact: Andre Schurrle was a substitute this time but scored for Germany in the last-16 . Premier League v Bundesliga: Brazil come up against Germany in Belo Horizonte . Bundesliga v Premier League: And Holland face Argentina in Sao Paulo . Competitors: Demichelis tries to tackle Lukaku in the last round as Argentina faced Belgium .\n",
      "44\n",
      "By . Rob Waugh . UPDATED: . 04:54 EST, 28 September 2011 . Apple has made the launch date of . iPhone official - at last. But the company hasn't said what new models, . if any, it will be launching, instead inviting journalists to a 'Special . Event', with the cryptic invitation 'Let's Talk iPhone'. The company remained typically tight-lipped about what the 'event' might launch - but it seems set to be epic. For . the first time, the event is being held at the company's Cupertino HQ in California - . at the famous address, 1, Infinite Loop, a geeky programming joke. Few . outsiders ever visit the complex - so even seeing the company on its . home turf is sure to ignite a media frenzy. Let's talk iPhone: The Apple invitation, with the date, the time and the location . Every previous event has been held at conference venues nearby. Apple . staff have been 'banned' from holidays in the first two weeks of . October in America, and tech insiders expect products from the launch to . appear in stores shortly after - probably on October 14. All the signs now point towards an early October launch for the gadgets. Tim Cook, chief operating officer of Apple Inc, is expected to launch the iPhone 5 on October 4. The event will be his first big product introduction . 'Having . seen first-hand how Apple packs its staff inside its stores for iPhone . launches does suggest that whatever new product they announce  is . imminent,' says Luke Peters, editor of T3. Tech insiders believe that any new iPad is far off in the distance, and that the current flurry of components, rumours and leaks refer inevitably to new models of iPhone. The idea that there are two models - one sporting the fast A5 processor inside iPad 2, and a cheaper model with lower-tech components, seems likely. Al Gore, a board member of Apple Computer, seemed to give the biggest hint yet of what the tech giant had in store for us in October - referring to 'the new iPhones released next month.' This seemed to confirm two rumours: one, that there would be more than one model, and two, that they would both appear late in October. Mr Gore's statements - at a conference in South Africa - also tied in closely with the most credible of the recent iPhone rumours. Al Gore, a board member of Apple Computer, seemed to give the biggest hint yet of what the tech giant had in store for us in October - referring to 'the new iPhones released next month' While the iPhone 5 is much anticipated, there is more at stake than usual. This is because, since legendary . outgoing CEO and co-founder Steve Jobs announced his departure, it will be newly installed CEO Tim Cook’s first big product . introduction, and the place where the public will experience a new iPhone without Jobs's cultish presentation. People . have wondered whether Apple can continue to compete without its creative . driving force - especially as rivals such as Samsung continue to gain . ground on the tech giant. Apple's new iPhone is now competing with hi-tech touchscreens such as Samsung's Galaxy S II - and the battle has also become the subject of a bitter legal dispute .\n",
      "Apple has made the launch date of . iPhone official - at last. But the company hasn't said what new models, . if any, it will be launching, instead inviting journalists to a 'Special . Event', with the cryptic invitation 'Let's Talk iPhone'. The company remained typically tight-lipped about what the 'event' might launch - but it seems set to be epic. For . the first time, the event is being held at the company's Cupertino HQ in California - . at the famous address, 1, Infinite Loop, a geeky programming joke. Few . outsiders ever visit the complex - so even seeing the company on its . home turf is sure to ignite a media frenzy. Let's talk iPhone: The Apple invitation, with the date, the time and the location . Every previous event has been held at conference venues nearby. Apple . staff have been 'banned' from holidays in the first two weeks of . October in America, and tech insiders expect products from the launch to . appear in stores shortly after - probably on October 14. All the signs now point towards an early October launch for the gadgets. Tim Cook, chief operating officer of Apple Inc, is expected to launch the iPhone 5 on October 4. The event will be his first big product introduction . 'Having . seen first-hand how Apple packs its staff inside its stores for iPhone . launches does suggest that whatever new product they announce  is . imminent,' says Luke Peters, editor of T3. Tech insiders believe that any new iPad is far off in the distance, and that the current flurry of components, rumours and leaks refer inevitably to new models of iPhone. The idea that there are two models - one sporting the fast A5 processor inside iPad 2, and a cheaper model with lower-tech components, seems likely. Al Gore, a board member of Apple Computer, seemed to give the biggest hint yet of what the tech giant had in store for us in October - referring to 'the new iPhones released next month.' This seemed to confirm two rumours: one, that there would be more than one model, and two, that they would both appear late in October. Mr Gore's statements - at a conference in South Africa - also tied in closely with the most credible of the recent iPhone rumours. Al Gore, a board member of Apple Computer, seemed to give the biggest hint yet of what the tech giant had in store for us in October - referring to 'the new iPhones released next month' While the iPhone 5 is much anticipated, there is more at stake than usual. This is because, since legendary . outgoing CEO and co-founder Steve Jobs announced his departure, it will be newly installed CEO Tim Cook’s first big product . introduction, and the place where the public will experience a new iPhone without Jobs's cultish presentation. People . have wondered whether Apple can continue to compete without its creative . driving force - especially as rivals such as Samsung continue to gain . ground on the tech giant. Apple's new iPhone is now competing with hi-tech touchscreens such as Samsung's Galaxy S II - and the battle has also become the subject of a bitter legal dispute .\n",
      "51656\n",
      "By . Chris Parsons . CREATED: . 00:04 EST, 26 June 2012 . A 'wretched and wicked' primary school teacher used a hidden camera to film young boys changing before posting the images online for other paedophiles. Matthew Ross, 32, hid a tiny camera under his T-shirt to capture the footage of the innocent youngsters. The depraved teacher then posted the footage of the eight and nine-year-old boys on the internet for other pedophiles. 'Wicked': Paedophile Matthew Ross was jailed for three years for filming the young boys . Ross, previously sacked from a teaching job after turning up at school having taken ecstasy, was yesterday jailed for three years for the 'gross abuse of trust'. A court heard his actions only came to light in July last year when police investigated his ex-boyfriend for similar offences. Police who swooped to arrest him even found extreme pornography involving animals and more than 700 indecent images of youngster, ranging from babies to ten-year-olds. The images he filmed of children changing after swimming lessons were of eight and nine-year-old boys. Judge John Lodge, sentencing, said: 'What makes this case so serious is that you grossly abused your position of trust. 'It is a blessing, albeit a small blessing, that children did not know they were abused in this way. Jailed: Ross was jailed at Basildon Crown Court and placed on the Sex Offenders Register for life . 'But the footage of them has been spread all over the internet thanks to your wretched and wicked behaviour.' The school where Ross carried out the filming cannot be named for legal reasons, but parents were informed of the teacher’s actions. Andrew Bagnall, mitigating, said: 'This will follow him for the rest of his life. 'He is very regretful and deeply ashamed. 'If he could turn back time and change what he has done, he would.' Ross admitted a charge of voyeurism, as well as three counts of making, possessing and distributing indecent images of children. He also pleaded guilty to two counts of possessing extreme pornography. The court heard that Ross had been fired from his job six months before his eventual arrest after turning up to work on a Monday morning having taken ecstasy. Staff became concerned about his erratic behaviour and Ross, of Station Avenue, Southend, was sent home for the safety of his pupils. He was then sacked after a General Teaching Council disciplinary hearing found him guilty of unacceptable professional conduct in January 2011. His depraved filming only came to light after he was no longer a teacher and pupils and his colleagues had no idea of what he had been doing. Sue Cook, Southend Council’s corporate director for children and learning, said: 'Naturally, everyone connected to the school was shocked and the past few months have been very difficult and challenging for the school community. 'Despite admitting a total of six offences, the indecent images of children do not feature any pupils from the Southend school and they were only affected by the voyeurism charge. 'However, quite properly, those safeguarding arrangements have been reviewed in light of what occurred to ensure that they are as rigorous and robust as they need to be. 'The school has offered support to its staff, parents and pupils throughout and will continue to do so.'\n",
      "A 'wretched and wicked' primary school teacher used a hidden camera to film young boys changing before posting the images online for other paedophiles. Matthew Ross, 32, hid a tiny camera under his T-shirt to capture the footage of the innocent youngsters. The depraved teacher then posted the footage of the eight and nine-year-old boys on the internet for other pedophiles. 'Wicked': Paedophile Matthew Ross was jailed for three years for filming the young boys . Ross, previously sacked from a teaching job after turning up at school having taken ecstasy, was yesterday jailed for three years for the 'gross abuse of trust'. A court heard his actions only came to light in July last year when police investigated his ex-boyfriend for similar offences. Police who swooped to arrest him even found extreme pornography involving animals and more than 700 indecent images of youngster, ranging from babies to ten-year-olds. The images he filmed of children changing after swimming lessons were of eight and nine-year-old boys. Judge John Lodge, sentencing, said: 'What makes this case so serious is that you grossly abused your position of trust. 'It is a blessing, albeit a small blessing, that children did not know they were abused in this way. Jailed: Ross was jailed at Basildon Crown Court and placed on the Sex Offenders Register for life . 'But the footage of them has been spread all over the internet thanks to your wretched and wicked behaviour.' The school where Ross carried out the filming cannot be named for legal reasons, but parents were informed of the teacher’s actions. Andrew Bagnall, mitigating, said: 'This will follow him for the rest of his life. 'He is very regretful and deeply ashamed. 'If he could turn back time and change what he has done, he would.' Ross admitted a charge of voyeurism, as well as three counts of making, possessing and distributing indecent images of children. He also pleaded guilty to two counts of possessing extreme pornography. The court heard that Ross had been fired from his job six months before his eventual arrest after turning up to work on a Monday morning having taken ecstasy. Staff became concerned about his erratic behaviour and Ross, of Station Avenue, Southend, was sent home for the safety of his pupils. He was then sacked after a General Teaching Council disciplinary hearing found him guilty of unacceptable professional conduct in January 2011. His depraved filming only came to light after he was no longer a teacher and pupils and his colleagues had no idea of what he had been doing. Sue Cook, Southend Council’s corporate director for children and learning, said: 'Naturally, everyone connected to the school was shocked and the past few months have been very difficult and challenging for the school community. 'Despite admitting a total of six offences, the indecent images of children do not feature any pupils from the Southend school and they were only affected by the voyeurism charge. 'However, quite properly, those safeguarding arrangements have been reviewed in light of what occurred to ensure that they are as rigorous and robust as they need to be. 'The school has offered support to its staff, parents and pupils throughout and will continue to do so.'\n",
      "246\n",
      "CLICK HERE to read how the German plans to pip Lewis Hamilton to the post in Abu Dhabi . Nico Rosberg believes he can force Lewis Hamilton into making a crucial mistake in their Formula One title showdown on Sunday. Rosberg, who trails the British driver by 17 points, said: ‘I need some help from Lewis to clinch the title, and I am going to try to put as much pressure on him as I can. ‘He has been making some mistakes recently so maybe there is a chance.’ Nico Rosberg (right) believes he can beat Lewis Hamilton to the championship at the final race in Abu Dhabi . Rosberg claims that his Mercedes team-mate has been 'making some mistakes' recently . 1. Lewis Hamilton - 334 points . 2. Nico Rosberg - 317 points . Lewis Hamilton will be crowned world champion if he finishes second in the season-ending Abu Dhabi Grand Prix, even if Nico Rosberg wins the race. If the final race was a ‘normal’ race with 25 points for the winner, rather than the double points on offer, Hamilton would be able to claim his second drivers’ title with a sixth-place finish. The Brit must finish first or second at Yas Marina, where the final grand prix carries double points, to be certain of taking the title. Hamilton, who was slow to shake Rosberg’s hand at their press conference, insisted he would not use dirty games to win. He said: ‘We’re not children. We should know what is wrong and right.’ 'This is an extremely exciting moment for my career. 'I am fighting for the world championship at the last race, I have a good chance to win, and this is what I have been working towards since I began racing as a small child. VIDEO Stewart backs Hamilton to clinch title . Rosberg takes his place on the podium after beating Hamilton to victory at the Brazilian Grand Prix . The two Mercedes drivers, pictured in Belgium, will be fighting for double points at Abu Dhabi .\n",
      "Nico Rosberg believes he can force Lewis Hamilton into making a crucial mistake in their Formula One title showdown on Sunday. Rosberg, who trails the British driver by 17 points, said: ‘I need some help from Lewis to clinch the title, and I am going to try to put as much pressure on him as I can. ‘He has been making some mistakes recently so maybe there is a chance.’ Nico Rosberg believes he can beat Lewis Hamilton to the championship at the final race in Abu Dhabi . Rosberg claims that his Mercedes team-mate has been 'making some mistakes' recently . 1. Lewis Hamilton - 334 points . 2. Nico Rosberg - 317 points . Lewis Hamilton will be crowned world champion if he finishes second in the season-ending Abu Dhabi Grand Prix, even if Nico Rosberg wins the race. If the final race was a ‘normal’ race with 25 points for the winner, rather than the double points on offer, Hamilton would be able to claim his second drivers’ title with a sixth-place finish. The Brit must finish first or second at Yas Marina, where the final grand prix carries double points, to be certain of taking the title. Hamilton, who was slow to shake Rosberg’s hand at their press conference, insisted he would not use dirty games to win. He said: ‘We’re not children. We should know what is wrong and right.’ 'This is an extremely exciting moment for my career. 'I am fighting for the world championship at the last race, I have a good chance to win, and this is what I have been working towards since I began racing as a small child. VIDEO Stewart backs Hamilton to clinch title . Rosberg takes his place on the podium after beating Hamilton to victory at the Brazilian Grand Prix . The two Mercedes drivers, pictured in Belgium, will be fighting for double points at Abu Dhabi .\n",
      "2369\n",
      "April 16, 2014 . A city pays tribute to the men and women who embody the phrase \"Boston Strong\" on the first anniversary of the Boston Marathon terrorist bombings. Dr. Sanjay Gupta shows us how scientists testing for Ebola have to protect themselves against the deadly virus. And a week-long event celebrates the value and contributions of America's libraries. On this page you will find today's show Transcript, the Daily Curriculum, and a place for you to leave feedback. TRANSCRIPT . Click here to access the transcript of today's CNN Student News program. Please note that there may be a delay between the time when the video is available and when the transcript is published. DAILY CURRICULUM . Click here for a printable version of the Daily Curriculum (PDF). Media Literacy Question of the Day: . How might news coverage of the anniversary of a tragedy impact viewers? Key Concepts: Identify or explain these subjects you heard about in today's show: . 1. vaccine . 2. FAFSA . 3. National Library Week . Fast Facts: How well were you listening to today's program? 1. What city's marathon was struck by terrorist bombings one year ago? How did some there observe the one-year anniversary of this tragedy? 2. What are some precautions that scientists take when handling blood samples that could contain the Ebola virus? Why do they have to go to these lengths to protect themselves? Where would the samples have to be tested a few years ago? What were some of the problems associated with transporting the samples so far away? 3. What is a FAFSA? What institutions use this information, and for what purpose? 4. What is an AUV? How is the AUV \"Bluefin-21\" helping investigators who are searching for Malaysia Airlines Flight 370? How are oceanographers benefitting from this search? Why haven't they been able to do this kind of research on their own? According to the video: What is one potential obstacle to those looking for the plane? How does this obstacle present an opportunity for scientists? Discussion Questions: . 1. In your opinion, what are some ways to honor the memory of victims of a terrorist attack? 2. What kinds of information do you think that oceanographers may be able to learn as a result of the search for Malaysia Airlines Flight 370? If you were a scientist, what questions would you like to see answered? How might scientists use the search to make a case for greater ocean exploration? 3. In the video, we hear that a recent survey indicated that 94 percent of respondents said that having a library in their community improves their lives, yet just over half of those polled said people don't need libraries as much as they used to. Is there a public library in your community? If so, how often do you go there? Do you think having a public library improves your community's quality of life? State your rationale. CNN Student News is created by a team of journalists and educators who consider the Common Core State Standards, national standards in different subject areas, and state standards when producing the show and curriculum. We hope you use our free daily materials along with the program, and we welcome your feedback on them. FEEDBACK . We're looking for your feedback about CNN Student News. Please use this page to leave us comments about today's program, including what you think about our stories and our resources. Also, feel free to tell us how you use them in your classroom. The educators on our staff will monitor this page and may respond to your comments as well. Thank you for using CNN Student News! Click here to submit your Roll Call request.\n",
      "A city pays tribute to the men and women who embody the phrase \"Boston Strong\" on the first anniversary of the Boston Marathon terrorist bombings. Dr. Sanjay Gupta shows us how scientists testing for Ebola have to protect themselves against the deadly virus. And a week-long event celebrates the value and contributions of America's libraries. On this page you will find today's show Transcript, the Daily Curriculum, and a place for you to leave feedback. TRANSCRIPT . Click here to access the transcript of today's CNN Student News program. Please note that there may be a delay between the time when the video is available and when the transcript is published. DAILY CURRICULUM . Click here for a printable version of the Daily Curriculum (PDF). Media Literacy Question of the Day: . How might news coverage of the anniversary of a tragedy impact viewers? Key Concepts: Identify or explain these subjects you heard about in today's show: . 1. vaccine . 2. FAFSA . 3. National Library Week . Fast Facts: How well were you listening to today's program? 1. What city's marathon was struck by terrorist bombings one year ago? How did some there observe the one-year anniversary of this tragedy? 2. What are some precautions that scientists take when handling blood samples that could contain the Ebola virus? Why do they have to go to these lengths to protect themselves? Where would the samples have to be tested a few years ago? What were some of the problems associated with transporting the samples so far away? 3. What is a FAFSA? What institutions use this information, and for what purpose? 4. What is an AUV? How is the AUV \"Bluefin-21\" helping investigators who are searching for Malaysia Airlines Flight 370? How are oceanographers benefitting from this search? Why haven't they been able to do this kind of research on their own? According to the video: What is one potential obstacle to those looking for the plane? How does this obstacle present an opportunity for scientists? Discussion Questions: . 1. In your opinion, what are some ways to honor the memory of victims of a terrorist attack? 2. What kinds of information do you think that oceanographers may be able to learn as a result of the search for Malaysia Airlines Flight 370? If you were a scientist, what questions would you like to see answered? How might scientists use the search to make a case for greater ocean exploration? 3. In the video, we hear that a recent survey indicated that 94 percent of respondents said that having a library in their community improves their lives, yet just over half of those polled said people don't need libraries as much as they used to. Is there a public library in your community? If so, how often do you go there? Do you think having a public library improves your community's quality of life? State your rationale. CNN Student News is created by a team of journalists and educators who consider the Common Core State Standards, national standards in different subject areas, and state standards when producing the show and curriculum. We hope you use our free daily materials along with the program, and we welcome your feedback on them. FEEDBACK . We're looking for your feedback about CNN Student News. Please use this page to leave us comments about today's program, including what you think about our stories and our resources. Also, feel free to tell us how you use them in your classroom. The educators on our staff will monitor this page and may respond to your comments as well. Thank you for using CNN Student News! Click here to submit your Roll Call request.\n",
      "7678\n",
      "December 10, 2013 . The official start of winter is more than a week away, but severe winter weather is cutting a path of damage and disruption across the U.S. Get the details in Tuesday's show. We also report on unrest in Ukraine and the Central African Republic. Plus, we examine the effects of drowsy driving, and we put a tough tongue twister to the test. On this page you will find today's show Transcript, the Daily Curriculum, Maps pertaining to today's show, and a place for you to leave feedback. TRANSCRIPT . Click here to access the transcript of today's CNN Student News program. Please note that there may be a delay between the time when the video is available and when the transcript is published. DAILY CURRICULUM . Click here for a printable version of the Daily Curriculum (PDF). Media Literacy Question of the Day: . How can a video effectively communicate safe driving practices to young people? What should this video include, and what should it leave out? Key Concepts: Identify or explain these subjects you heard about in today's show: . 1. wind chill . 2. Central African Republic . 3. tongue twister . Fast Facts: How well were you listening to today's program? 1. When does winter officially begin? What impact did recent winter storms have around the U.S.? 2. What has led to violence in the Central African Republic recently? How is the international community getting involved in this conflict? 3. According to the report: What effects does being drowsy have on a driver's body? What impact do drowsy drivers have on America's roads each year? Discussion Questions: . 1. How might an early winter storm have a different impact than one that occurs later in the season? What do you think might be the challenges of playing professional sports in inclement weather? What are some reasons why some sports events are canceled due to weather, while others are not? 2. Why do you think that the toppling of a Vladimir Lenin statue in Ukraine is described as \"a symbolic act of defiance\"? What do you think that people who support the Ukrainian government might say about this act? Do you think that the video of this toppling could have an impact on the situation in Ukraine? If so, how? If not, why not? 3. Do news reports effectively raise awareness about the impact of drowsy drivers? If so, how? If not, do you think other actions should be taken to address this issue? Explain. CNN Student News is created by a team of journalists and educators who consider the Common Core State Standards, national standards in different subject areas, and state standards when producing the show and curriculum. We hope you use our free daily materials along with the program, and we welcome your feedback on them. MAPS . Download PDF maps related to today's show: . EuropeUkraine . AfricaCentral African Republic . FEEDBACK . We're looking for your feedback about CNN Student News. Please use this page to leave us comments about today's program, including what you think about our stories and our resources. Also, feel free to tell us how you use them in your classroom. The educators on our staff will monitor this page and may respond to your comments as well. Thank you for using CNN Student News! Click here to submit your Roll Call request.\n",
      "The official start of winter is more than a week away, but severe winter weather is cutting a path of damage and disruption across the U.S. Get the details in Tuesday's show. We also report on unrest in Ukraine and the Central African Republic. Plus, we examine the effects of drowsy driving, and we put a tough tongue twister to the test. On this page you will find today's show Transcript, the Daily Curriculum, Maps pertaining to today's show, and a place for you to leave feedback. TRANSCRIPT . Click here to access the transcript of today's CNN Student News program. Please note that there may be a delay between the time when the video is available and when the transcript is published. DAILY CURRICULUM . Click here for a printable version of the Daily Curriculum (PDF). Media Literacy Question of the Day: . How can a video effectively communicate safe driving practices to young people? What should this video include, and what should it leave out? Key Concepts: Identify or explain these subjects you heard about in today's show: . 1. wind chill . 2. Central African Republic . 3. tongue twister . Fast Facts: How well were you listening to today's program? 1. When does winter officially begin? What impact did recent winter storms have around the U.S.? 2. What has led to violence in the Central African Republic recently? How is the international community getting involved in this conflict? 3. According to the report: What effects does being drowsy have on a driver's body? What impact do drowsy drivers have on America's roads each year? Discussion Questions: . 1. How might an early winter storm have a different impact than one that occurs later in the season? What do you think might be the challenges of playing professional sports in inclement weather? What are some reasons why some sports events are canceled due to weather, while others are not? 2. Why do you think that the toppling of a Vladimir Lenin statue in Ukraine is described as \"a symbolic act of defiance\"? What do you think that people who support the Ukrainian government might say about this act? Do you think that the video of this toppling could have an impact on the situation in Ukraine? If so, how? If not, why not? 3. Do news reports effectively raise awareness about the impact of drowsy drivers? If so, how? If not, do you think other actions should be taken to address this issue? Explain. CNN Student News is created by a team of journalists and educators who consider the Common Core State Standards, national standards in different subject areas, and state standards when producing the show and curriculum. We hope you use our free daily materials along with the program, and we welcome your feedback on them. MAPS . Download PDF maps related to today's show: . EuropeUkraine . AfricaCentral African Republic . FEEDBACK . We're looking for your feedback about CNN Student News. Please use this page to leave us comments about today's program, including what you think about our stories and our resources. Also, feel free to tell us how you use them in your classroom. The educators on our staff will monitor this page and may respond to your comments as well. Thank you for using CNN Student News! Click here to submit your Roll Call request.\n"
     ]
    }
   ],
   "source": [
    "indices = [104942, 135, 0, 3532, 4535, 36, 44, 51656, 246, 2369, 7678]\n",
    "\n",
    "for i in indices:\n",
    "    print(f\"{i}\\n{df_original.loc[i]['article']}\")\n",
    "    print(df.loc[i]['article'])"
   ]
  },
  {
   "cell_type": "code",
   "execution_count": 17,
   "metadata": {},
   "outputs": [],
   "source": [
    "# We reindex the DataFrame after cleaning\n",
    "df = df.reset_index(drop = True)"
   ]
  },
  {
   "cell_type": "markdown",
   "metadata": {},
   "source": [
    "## Sample generation"
   ]
  },
  {
   "cell_type": "markdown",
   "metadata": {},
   "source": [
    "To optimize the TextRank algorithm, we will use a representative sample of the dataset. Specifically, we will determine the optimal convergence threshold and the maximum number of iterations for the power method, which are critical for the algorithm’s efficiency and accuracy. Additionally, we will decide between stemming and lemmatization, as these text preprocessing choices can significantly affect the results. Hence, a representative sample is essential because applying the algorithm repeatedly to the entire dataset would be computationally too expensive due to its large size. Hence, by conducting these experiments on a smaller yet representative subset, we ensure computational feasibility while maintaining reliable and generalizable results.\n",
    "\n",
    "In order to find a representative sample, we use the following key features:\n",
    "1) Number of sentences per article;\n",
    "2) Number of words per article;\n",
    "3) Average number of words per sentence.\n",
    "\n",
    "We compute these features for all instances of the `df` DataFrame."
   ]
  },
  {
   "cell_type": "code",
   "execution_count": 18,
   "metadata": {},
   "outputs": [],
   "source": [
    "def compute_text_statistics(text):\n",
    "    \"\"\"\n",
    "    Compute various statistics about the given text:\n",
    "    - Number of sentences\n",
    "    - Number of words\n",
    "    - Average number of words per sentence\n",
    "    \n",
    "    Parameters:\n",
    "    text (str): The input text to analyze\n",
    "    \n",
    "    Returns:\n",
    "    tuple: (sentences, num_sentences, num_words, avg_words_per_sentence)\n",
    "    \"\"\"\n",
    "    # Tokenize the text into sentences\n",
    "    sentences = nltk.sent_tokenize(text)\n",
    "    \n",
    "    # Tokenize the text into words\n",
    "    words = nltk.word_tokenize(text)\n",
    "    \n",
    "    # Calculate the number of sentences\n",
    "    num_sentences = len(sentences)\n",
    "    \n",
    "    # Calculate the number of words\n",
    "    num_words = len(words)\n",
    "    \n",
    "    # Calculate the average number of words per sentence\n",
    "    # Avoid division by zero by checking if num_sentences is greater than 0\n",
    "    avg_words_per_sentence = round(num_words / num_sentences, 1) if num_sentences > 0 else 0\n",
    "    \n",
    "    return sentences, num_sentences, num_words, avg_words_per_sentence\n",
    "\n",
    "# Compute statistics for each article\n",
    "df[['article_sent', 'num_sentences', 'num_words', 'avg_words_per_sentence']] = df['article'].apply(\n",
    "    lambda x: pd.Series(compute_text_statistics(x))\n",
    ")\n"
   ]
  },
  {
   "cell_type": "markdown",
   "metadata": {},
   "source": [
    "Before proceding with the sample generation, we check if there are articles less or equal than $4$ sentences long. If this is the case, we remove them from the dataset, as applying the TextRank algorithm to create summaries of exactly $4$ sentences would not be meaningful."
   ]
  },
  {
   "cell_type": "code",
   "execution_count": 45,
   "metadata": {},
   "outputs": [
    {
     "data": {
      "text/html": [
       "<div>\n",
       "<style scoped>\n",
       "    .dataframe tbody tr th:only-of-type {\n",
       "        vertical-align: middle;\n",
       "    }\n",
       "\n",
       "    .dataframe tbody tr th {\n",
       "        vertical-align: top;\n",
       "    }\n",
       "\n",
       "    .dataframe thead th {\n",
       "        text-align: right;\n",
       "    }\n",
       "</style>\n",
       "<table border=\"1\" class=\"dataframe\">\n",
       "  <thead>\n",
       "    <tr style=\"text-align: right;\">\n",
       "      <th></th>\n",
       "      <th>id</th>\n",
       "      <th>article</th>\n",
       "      <th>highlights</th>\n",
       "      <th>article_sent</th>\n",
       "      <th>num_sentences</th>\n",
       "      <th>num_words</th>\n",
       "      <th>avg_words_per_sentence</th>\n",
       "    </tr>\n",
       "  </thead>\n",
       "  <tbody>\n",
       "    <tr>\n",
       "      <th>6177</th>\n",
       "      <td>334451e97bf86691a25814b4be946896913936eb</td>\n",
       "      <td>With the European leg of the Alpine Skiing Wor...</td>\n",
       "      <td>CNN's Alpine Edge will showcase five Alpine Sk...</td>\n",
       "      <td>[With the European leg of the Alpine Skiing Wo...</td>\n",
       "      <td>3</td>\n",
       "      <td>95</td>\n",
       "      <td>31.7</td>\n",
       "    </tr>\n",
       "    <tr>\n",
       "      <th>11433</th>\n",
       "      <td>5fe1eee735be601e19ef8c1472fdd686a99d6335</td>\n",
       "      <td>In celebration of International Day of the Gir...</td>\n",
       "      <td>Leading Women hosts Twitter Chat celebrating g...</td>\n",
       "      <td>[In celebration of International Day of the Gi...</td>\n",
       "      <td>1</td>\n",
       "      <td>44</td>\n",
       "      <td>44.0</td>\n",
       "    </tr>\n",
       "    <tr>\n",
       "      <th>19601</th>\n",
       "      <td>a44488e3e0d34e1af534a4fab076ed0cafde0a16</td>\n",
       "      <td>While most green-fingered folk may list their ...</td>\n",
       "      <td>On display at the Chelsea flower show will be ...</td>\n",
       "      <td>[While most green-fingered folk may list their...</td>\n",
       "      <td>4</td>\n",
       "      <td>132</td>\n",
       "      <td>33.0</td>\n",
       "    </tr>\n",
       "    <tr>\n",
       "      <th>20525</th>\n",
       "      <td>ac75e3534232e42c255d9c14c406bbd496443e67</td>\n",
       "      <td>Tyson Fury and Dereck Chisora meet at London's...</td>\n",
       "      <td>Tyson Fury faces Dereck Chisora at London's Ex...</td>\n",
       "      <td>[Tyson Fury and Dereck Chisora meet at London'...</td>\n",
       "      <td>3</td>\n",
       "      <td>67</td>\n",
       "      <td>22.3</td>\n",
       "    </tr>\n",
       "    <tr>\n",
       "      <th>27028</th>\n",
       "      <td>e279d7497f739292eb1d5141349747710550e0a9</td>\n",
       "      <td>Joran van der Sloot, the suspect in a young wo...</td>\n",
       "      <td>Extradition to Peru arranged, interior ministe...</td>\n",
       "      <td>[Joran van der Sloot, the suspect in a young w...</td>\n",
       "      <td>4</td>\n",
       "      <td>118</td>\n",
       "      <td>29.5</td>\n",
       "    </tr>\n",
       "  </tbody>\n",
       "</table>\n",
       "</div>"
      ],
      "text/plain": [
       "                                             id  \\\n",
       "6177   334451e97bf86691a25814b4be946896913936eb   \n",
       "11433  5fe1eee735be601e19ef8c1472fdd686a99d6335   \n",
       "19601  a44488e3e0d34e1af534a4fab076ed0cafde0a16   \n",
       "20525  ac75e3534232e42c255d9c14c406bbd496443e67   \n",
       "27028  e279d7497f739292eb1d5141349747710550e0a9   \n",
       "\n",
       "                                                 article  \\\n",
       "6177   With the European leg of the Alpine Skiing Wor...   \n",
       "11433  In celebration of International Day of the Gir...   \n",
       "19601  While most green-fingered folk may list their ...   \n",
       "20525  Tyson Fury and Dereck Chisora meet at London's...   \n",
       "27028  Joran van der Sloot, the suspect in a young wo...   \n",
       "\n",
       "                                              highlights  \\\n",
       "6177   CNN's Alpine Edge will showcase five Alpine Sk...   \n",
       "11433  Leading Women hosts Twitter Chat celebrating g...   \n",
       "19601  On display at the Chelsea flower show will be ...   \n",
       "20525  Tyson Fury faces Dereck Chisora at London's Ex...   \n",
       "27028  Extradition to Peru arranged, interior ministe...   \n",
       "\n",
       "                                            article_sent  num_sentences  \\\n",
       "6177   [With the European leg of the Alpine Skiing Wo...              3   \n",
       "11433  [In celebration of International Day of the Gi...              1   \n",
       "19601  [While most green-fingered folk may list their...              4   \n",
       "20525  [Tyson Fury and Dereck Chisora meet at London'...              3   \n",
       "27028  [Joran van der Sloot, the suspect in a young w...              4   \n",
       "\n",
       "       num_words  avg_words_per_sentence  \n",
       "6177          95                    31.7  \n",
       "11433         44                    44.0  \n",
       "19601        132                    33.0  \n",
       "20525         67                    22.3  \n",
       "27028        118                    29.5  "
      ]
     },
     "execution_count": 45,
     "metadata": {},
     "output_type": "execute_result"
    }
   ],
   "source": [
    "df[df['num_sentences'] <= 4].head()"
   ]
  },
  {
   "cell_type": "code",
   "execution_count": 19,
   "metadata": {},
   "outputs": [],
   "source": [
    "# Remove articles with number of sentences <= 4 \n",
    "df = df[df['num_sentences'] > 4].reset_index(drop = True)\n",
    "# Store the new DataFrame length\n",
    "len_df = len(df)"
   ]
  },
  {
   "cell_type": "markdown",
   "metadata": {},
   "source": [
    "To create the sample, we use $\\textit{stratified sampling}$ based on the number of sentences in each article. This method ensures that the sample's proportions of articles with specific sentence counts match those in the full dataset. We choose a stratification fraction of $0.3$, meaning that the $30\\%$ of the articles from each sentence-count stratum are included in the sample. The resulting sample, `sample_df`, contains $31,108$ articles."
   ]
  },
  {
   "cell_type": "code",
   "execution_count": 20,
   "metadata": {},
   "outputs": [
    {
     "data": {
      "text/plain": [
       "31108"
      ]
     },
     "execution_count": 20,
     "metadata": {},
     "output_type": "execute_result"
    }
   ],
   "source": [
    "# Stratified sampling based on the number of sentences\n",
    "sample_df = df.groupby('num_sentences', group_keys = False).apply(\n",
    "    lambda x: x.sample(frac = 0.3, random_state = 52))\n",
    "sample_df = sample_df.reset_index()\n",
    "# Store the sample length\n",
    "len_sample_df = len(sample_df)\n",
    "len_sample_df"
   ]
  },
  {
   "cell_type": "markdown",
   "metadata": {},
   "source": [
    "To confirm that the sample is representative of the entire dataset, we compare the distributions of the above key features (number of sentences per article, number of words per article, average number of words per sentence) between the full dataset and the sample."
   ]
  },
  {
   "cell_type": "code",
   "execution_count": 48,
   "metadata": {},
   "outputs": [
    {
     "data": {
      "image/png": "[encoded data removed]",
      "text/plain": [
       "<Figure size 640x480 with 1 Axes>"
      ]
     },
     "metadata": {},
     "output_type": "display_data"
    },
    {
     "data": {
      "image/png": "[encoded data removed]",
      "text/plain": [
       "<Figure size 640x480 with 1 Axes>"
      ]
     },
     "metadata": {},
     "output_type": "display_data"
    }
   ],
   "source": [
    "# Compute the mean number of sentences per article for both the full dataset and the sample\n",
    "mean_sentences = df['num_sentences'].mean()\n",
    "mean_sentences_sample = sample_df['num_sentences'].mean()\n",
    "\n",
    "# Plot 1: Number of Sentences per Article (full dataset and sample)\n",
    "sns.histplot(df[df['num_sentences'] < 160]['num_sentences'], kde = False, color = 'skyblue', alpha = 0.5, bins = 25)\n",
    "plt.axvline(mean_sentences, color = 'blue', linestyle = 'dashed', linewidth = 1, label = f'Mean: {mean_sentences:.2f}')\n",
    "plt.title('Number of Sentences per Article')\n",
    "plt.xlabel('Number of Sentences')\n",
    "plt.ylabel('Frequency')\n",
    "plt.legend()\n",
    "plt.show()\n",
    "\n",
    "sns.histplot(sample_df[sample_df['num_sentences'] < 160]['num_sentences'], kde = False, color = 'salmon', alpha = 0.5, bins = 25)\n",
    "plt.axvline(mean_sentences_sample, color = 'red', linestyle = 'dashed', linewidth = 1, label=f'Mean: {mean_sentences_sample:.2f}')\n",
    "plt.title('Number of Sentences per Article')\n",
    "plt.xlabel('Number of Sentences')\n",
    "plt.ylabel('Frequency')\n",
    "plt.legend()\n",
    "plt.show()"
   ]
  },
  {
   "cell_type": "code",
   "execution_count": 49,
   "metadata": {},
   "outputs": [
    {
     "data": {
      "image/png": "[encoded data removed]",
      "text/plain": [
       "<Figure size 640x480 with 1 Axes>"
      ]
     },
     "metadata": {},
     "output_type": "display_data"
    },
    {
     "data": {
      "image/png": "[encoded data removed]",
      "text/plain": [
       "<Figure size 640x480 with 1 Axes>"
      ]
     },
     "metadata": {},
     "output_type": "display_data"
    }
   ],
   "source": [
    "# Compute the mean number of words per article for both the full dataset and the sample\n",
    "mean_words = df['num_words'].mean()\n",
    "mean_words_sample = sample_df['num_words'].mean()\n",
    "\n",
    "# Plot 2: Number of Words per Article (both full dataset and sample)\n",
    "sns.histplot(df[df['num_words'] < 2000]['num_words'], kde = False, color = 'skyblue', alpha = 0.5, bins = 25)\n",
    "plt.axvline(mean_words, color = 'blue', linestyle = 'dashed', linewidth = 1, label = f'Mean: {mean_words:.2f}')\n",
    "plt.title('Number of Words per Article')\n",
    "plt.xlabel('Number of Words')\n",
    "plt.ylabel('Frequency')\n",
    "plt.legend()\n",
    "plt.show()\n",
    "\n",
    "sns.histplot(sample_df[sample_df['num_words'] < 2000]['num_words'], kde = False, color = 'salmon', alpha = 0.5, bins = 25)\n",
    "plt.axvline(mean_words_sample, color = 'red', linestyle = 'dashed', linewidth = 1, label=f'Mean: {mean_words_sample:.2f}')\n",
    "plt.title('Number of Words per Article')\n",
    "plt.xlabel('Number of Words')\n",
    "plt.ylabel('Frequency')\n",
    "plt.legend()\n",
    "plt.show()"
   ]
  },
  {
   "cell_type": "code",
   "execution_count": 50,
   "metadata": {},
   "outputs": [
    {
     "data": {
      "image/png": "[encoded data removed]",
      "text/plain": [
       "<Figure size 640x480 with 1 Axes>"
      ]
     },
     "metadata": {},
     "output_type": "display_data"
    },
    {
     "data": {
      "image/png": "[encoded data removed]",
      "text/plain": [
       "<Figure size 640x480 with 1 Axes>"
      ]
     },
     "metadata": {},
     "output_type": "display_data"
    }
   ],
   "source": [
    "# Compute the mean average number of words per sentence for both the full dataset and the sample\n",
    "mean_avg_words = df['avg_words_per_sentence'].mean()\n",
    "mean_avg_words_sample = sample_df['avg_words_per_sentence'].mean()\n",
    "\n",
    "# Plot 3: Average Number of Words per Sentence (both full dataset and sample)\n",
    "sns.histplot(df[df['avg_words_per_sentence'] < 50]['avg_words_per_sentence'] , kde = False, color = 'skyblue', alpha = 0.5, bins = 25)\n",
    "plt.axvline(mean_avg_words, color = 'blue', linestyle = 'dashed', linewidth = 1, label = f'Mean: {mean_avg_words:.2f}')\n",
    "plt.title('Average Number of Words per Sentence')\n",
    "plt.xlabel('Average Words per Sentence')\n",
    "plt.ylabel('Frequency')\n",
    "plt.legend()\n",
    "plt.show()\n",
    "\n",
    "sns.histplot(sample_df[sample_df['avg_words_per_sentence'] < 50]['avg_words_per_sentence'], kde = False, color = 'salmon', alpha = 0.5, bins = 25)\n",
    "plt.axvline(mean_avg_words_sample, color = 'red', linestyle = 'dashed', linewidth = 1, label=f'Mean: {mean_avg_words_sample:.2f}')\n",
    "plt.xlim(left = 0)\n",
    "plt.title('Average Number of Words per Sentence')\n",
    "plt.xlabel('Average Words per Sentence')\n",
    "plt.ylabel('Frequency')\n",
    "plt.legend()\n",
    "plt.show()"
   ]
  },
  {
   "cell_type": "markdown",
   "metadata": {},
   "source": [
    "As we can see, the above histograms demonstrate that the sample’s distributions align closely with those of the full dataset. This ensures that the conclusions drawn from the sample are applicable to the entire dataset."
   ]
  },
  {
   "cell_type": "markdown",
   "metadata": {},
   "source": [
    "# TextRank algorithm"
   ]
  },
  {
   "cell_type": "markdown",
   "metadata": {},
   "source": [
    "## Text preprocessing"
   ]
  },
  {
   "cell_type": "markdown",
   "metadata": {},
   "source": [
    "Text preprocessing is essential when working with text data, as it transforms raw text into a clean and structured format, enhancing the effectiveness of algorithms like TextRank. Proper preprocessing helps to eliminate noise, standardize the data, and improve the overall quality of the analysis. The preprocessing steps implemented in this project include lowercasing, stopwords removal, punctuation removal and stemming/lemmatization.\n",
    "\n",
    "We report below the Python function, `preprocess_function`, created to implement these preprocessing steps."
   ]
  },
  {
   "cell_type": "code",
   "execution_count": 21,
   "metadata": {},
   "outputs": [],
   "source": [
    "# Initialize stemmer/lemmatizer and stopwords\n",
    "stemmer = PorterStemmer()\n",
    "lemmatizer = WordNetLemmatizer()\n",
    "stop_words = set(stopwords.words('english'))\n",
    "\n",
    "def get_wordnet_pos(treebank_tag):\n",
    "    \"\"\"\n",
    "    Convert Treebank POS tags to WordNet POS tags.\n",
    "\n",
    "     Parameters:\n",
    "    - treebank_tag: str\n",
    "        A POS tag from the Treebank format.\n",
    "        \n",
    "    Returns:\n",
    "    - WordNet POS tag corresponding to the input POS tag.\n",
    "    \"\"\"\n",
    "    if treebank_tag.startswith('J'):\n",
    "        return wordnet.ADJ\n",
    "    elif treebank_tag.startswith('V'):\n",
    "        return wordnet.VERB\n",
    "    elif treebank_tag.startswith('N'):\n",
    "        return wordnet.NOUN\n",
    "    elif treebank_tag.startswith('R'):\n",
    "        return wordnet.ADV\n",
    "    else:\n",
    "        return wordnet.NOUN\n",
    "\n",
    "def preprocess_function(sentences, stemming = True):\n",
    "    \"\"\"\n",
    "    Preprocess the list of sentences by tokenizing, removing punctuation,\n",
    "    converting to lowercase, and applying either stemming or lemmatization.\n",
    "\n",
    "    Parameters:\n",
    "    - sentences: list of str\n",
    "        List of sentences to preprocess.\n",
    "    - stemming: bool, optional (default = True)\n",
    "        If True, apply stemming; otherwise, apply lemmatization.\n",
    "    \n",
    "    Returns:\n",
    "    - list of list of str\n",
    "        Preprocessed sentences where each sentence is tokenized into words.\n",
    "    \"\"\"\n",
    "\n",
    "    # Regular expression pattern to remove punctuation\n",
    "    pattern = re.compile(r'[^\\w\\s]')\n",
    "    # Initialization of the list that will contain the preprocessed sentences\n",
    "    preprocessed_sentences = []\n",
    "\n",
    "    for sent in sentences:\n",
    "        # Tokenize the sentence into words\n",
    "        words = nltk.word_tokenize(sent)\n",
    "        # Remove punctuation, convert to lowercase, and filter out empty strings\n",
    "        processed_words = [pattern.sub('', word).lower() for word in words if pattern.sub('', word).strip()]\n",
    "        \n",
    "        if stemming:\n",
    "            # Apply stemming while removing stopwords\n",
    "            preprocessed_sentences.append([\n",
    "                stemmer.stem(word) \n",
    "                for word in processed_words \n",
    "                if word not in stop_words\n",
    "            ])\n",
    "        else:\n",
    "            # Apply lemmatization with POS tagging while removing stopwords\n",
    "            tagged_words = nltk.pos_tag(processed_words)\n",
    "            preprocessed_sentences.append([\n",
    "                lemmatizer.lemmatize(word, get_wordnet_pos(tag))\n",
    "                for word, tag in tagged_words\n",
    "                if word not in stop_words\n",
    "            ])\n",
    "\n",
    "    return preprocessed_sentences"
   ]
  },
  {
   "cell_type": "markdown",
   "metadata": {},
   "source": [
    "Before applying TextRank algorithm, we preprocess twice the articles in the `sample_df` DataFrame using first stemming and then lemmatization. We also compute the average preprocessing times to compare the two techniques."
   ]
  },
  {
   "cell_type": "code",
   "execution_count": 22,
   "metadata": {},
   "outputs": [
    {
     "name": "stderr",
     "output_type": "stream",
     "text": [
      "100%|██████████| 31108/31108 [06:30<00:00, 79.63it/s] "
     ]
    },
    {
     "name": "stdout",
     "output_type": "stream",
     "text": [
      "The average preprocessing time using stemming is 0.0125 seconds.\n"
     ]
    },
    {
     "name": "stderr",
     "output_type": "stream",
     "text": [
      "\n"
     ]
    }
   ],
   "source": [
    "# Initialize an array to store preprocessing times\n",
    "preproc_times_stem = np.zeros(len_sample_df)\n",
    "# Initialize a list to store preprocessed sentences for each article\n",
    "preproc_sentences_list = []\n",
    "\n",
    "# Iterate over each article in the sample_df DataFrame\n",
    "for i in tqdm(range(len_sample_df)):\n",
    "    \n",
    "    sentences = sample_df.loc[i, 'article_sent']\n",
    "\n",
    "    # Measure the time taken for preprocessing\n",
    "    start_time = time.time()\n",
    "    # Preprocess the sentences using stemming\n",
    "    preproc_sentences = preprocess_function(sentences, stemming = True)\n",
    "    preproc_times_stem[i] = time.time() - start_time\n",
    "    \n",
    "    # Append the preprocessed sentences to the list\n",
    "    preproc_sentences_list.append(preproc_sentences)\n",
    "\n",
    "# Assign the list of preprocessed sentences as a new column in the DataFrame\n",
    "sample_df['preproc_stem'] = preproc_sentences_list\n",
    "\n",
    "# Compute the average preprocessing time\n",
    "mean_preproc_time_stem = np.mean(preproc_times_stem)\n",
    "print(f\"The average preprocessing time using stemming is {mean_preproc_time_stem:.4f} seconds.\")"
   ]
  },
  {
   "cell_type": "code",
   "execution_count": 53,
   "metadata": {},
   "outputs": [
    {
     "name": "stderr",
     "output_type": "stream",
     "text": [
      "100%|██████████| 31108/31108 [31:47<00:00, 16.31it/s]"
     ]
    },
    {
     "name": "stdout",
     "output_type": "stream",
     "text": [
      "The average preprocessing time using lemmatization is 0.0610 seconds.\n"
     ]
    },
    {
     "name": "stderr",
     "output_type": "stream",
     "text": [
      "\n"
     ]
    }
   ],
   "source": [
    "# Initialize an array to store preprocessing times\n",
    "preproc_times_lem = np.zeros(len_sample_df)\n",
    "# Initialize a list to store preprocessed sentences for each article\n",
    "preproc_sentences_list = []\n",
    "\n",
    "# Iterate over each article in the sample_df DataFrame\n",
    "for i in tqdm(range(len_sample_df)):\n",
    "    \n",
    "    sentences = sample_df.loc[i, 'article_sent']\n",
    "\n",
    "    # Measure the time taken for preprocessing\n",
    "    start_time = time.time()\n",
    "    # Preprocess the sentences using lemmatization\n",
    "    preproc_sentences = preprocess_function(sentences, stemming = False)\n",
    "    preproc_times_lem[i] = time.time() - start_time\n",
    "    \n",
    "    # Append the preprocessed sentences to the list\n",
    "    preproc_sentences_list.append(preproc_sentences)\n",
    "\n",
    "# Assign the list of preprocessed sentences as a new column in the DataFrame\n",
    "sample_df['preproc_lem'] = preproc_sentences_list\n",
    "\n",
    "# Compute the average preprocessing time\n",
    "mean_preproc_time_lem = np.mean(preproc_times_lem)\n",
    "print(f\"The average preprocessing time using lemmatization is {mean_preproc_time_lem:.4f} seconds.\")"
   ]
  },
  {
   "cell_type": "markdown",
   "metadata": {},
   "source": [
    "As expected, the average execution time for text preprocessing is significantly lower for stemming ($0.0125s$) compared to lemmatization ($0.0610s$)."
   ]
  },
  {
   "cell_type": "markdown",
   "metadata": {},
   "source": [
    "## TextRank implementation"
   ]
  },
  {
   "cell_type": "markdown",
   "metadata": {},
   "source": [
    "We implement the TextRank algorithm using two functions: the primary function, `textrank`, performs the TextRank algorithm, ranking sentences based on similarity; the helper function, `sentence_similarity`, calculates the normalized word overlap similarity between any two sentences."
   ]
  },
  {
   "cell_type": "code",
   "execution_count": 23,
   "metadata": {},
   "outputs": [],
   "source": [
    "def sentence_similarity(words1, words2):\n",
    "    \"\"\"\n",
    "    Calculate similarity between two sentences based on word overlap.\n",
    "\n",
    "    Parameters:\n",
    "    - words1: list of str\n",
    "        List of words in the first sentence.\n",
    "    - words2: list of str\n",
    "        List of words in the second sentence.\n",
    "        \n",
    "    Returns:\n",
    "    - float\n",
    "        Normalized word overlap similarity score between the two sentences.\n",
    "    \"\"\"\n",
    "    # Create word frequency counters for both sentences\n",
    "    counter1 = Counter(words1)\n",
    "    counter2 = Counter(words2)\n",
    "    # Calculate the number of common words\n",
    "    common_words = sum((counter1 & counter2).values())\n",
    "\n",
    "    if common_words == 0:\n",
    "        return 0.0\n",
    "\n",
    "    # Calculate the denominator for similarity score\n",
    "    den = math.log(len(words1)) + math.log(len(words2))\n",
    "\n",
    "    if np.isclose(den, 0.):\n",
    "        # This should only happen when words1 and words2 only have a single word.\n",
    "        # Thus, num can only be 0 or 1.\n",
    "        return float(common_words)\n",
    "    else:\n",
    "        return common_words / den\n",
    "\n",
    "def textrank(sentences_as_words, damping, threshold, max_iter = float('inf')):\n",
    "    \"\"\"\n",
    "    Apply the TextRank algorithm using adjacency matrices to rank sentences based on their similarity.\n",
    "\n",
    "    Parameters:\n",
    "    - sentences_as_words: list of list of str\n",
    "        Preprocessed sentences, each sentence is a list of words.\n",
    "    - damping: float\n",
    "        The damping factor (typically set between 0.85 and 0.95), controlling the probability of randomly jumping to another sentence.\n",
    "    - threshold: float\n",
    "        Threshold value for convergence.\n",
    "    - max_iter: int, optional\n",
    "        Maximum number of iterations for the power method. Default is float('inf') (no limit).\n",
    "    \n",
    "    Returns:\n",
    "    - list of tuple\n",
    "        A ranked list of sentences based on their TextRank score, where each tuple contains\n",
    "        the index of the sentence and its corresponding rank score.\n",
    "    - int\n",
    "        The number of iterations it takes for the power method to converge within the given threshold.\n",
    "    \"\"\"\n",
    "    \n",
    "    # Compute the number of sentences\n",
    "    n_sentences = len(sentences_as_words)\n",
    "\n",
    "    # Initialize the adjacency matrix\n",
    "    similarity_matrix = np.zeros((n_sentences, n_sentences))\n",
    "\n",
    "    # Fill the adjacency matrix with similarity scores\n",
    "    for i, words_i in enumerate(sentences_as_words):\n",
    "        for j in range(i, n_sentences):\n",
    "            similarity_ij = sentence_similarity(words_i, sentences_as_words[j])\n",
    "            # The matrix is symmetric, so similarity_matrix[i, j] is equal to similarity_matrix[j, i]\n",
    "            similarity_matrix[i, j] = similarity_ij\n",
    "            similarity_matrix[j, i] = similarity_ij\n",
    "       \n",
    "    # Normalize similarity_matrix to make it a stochastic matrix\n",
    "    row_sums = similarity_matrix.sum(axis = 1) + 1e-8  # Add a constant to prevent division by 0\n",
    "    similarity_matrix = np.divide(similarity_matrix, row_sums[:, np.newaxis])\n",
    "    # Apply the damping factor to get the transition matrix\n",
    "    similarity_matrix = np.full((n_sentences, n_sentences), (1. - damping) / n_sentences) + damping * similarity_matrix\n",
    "    \n",
    "    # Apply the power method\n",
    "    transposed_matrix = similarity_matrix.T\n",
    "    # Initialize the PageRank vector (all sentences have equal probability initially)\n",
    "    p_vector = np.ones(n_sentences) / n_sentences\n",
    "    # Initialize the convergence value\n",
    "    lambda_val = float('inf')\n",
    "\n",
    "    iter_count = 0\n",
    "    while lambda_val > threshold and iter_count < max_iter:\n",
    "        next_p = np.dot(transposed_matrix, p_vector)\n",
    "        lambda_val = np.linalg.norm(next_p - p_vector)\n",
    "        # Update the PageRank vector for the next iteration\n",
    "        p_vector = next_p\n",
    "        iter_count += 1\n",
    "\n",
    "    # Rank the sentences based on their PageRank scores\n",
    "    ranked_sentences = sorted(enumerate(p_vector), key = lambda x: x[1], reverse = True)\n",
    "\n",
    "    return ranked_sentences, iter_count"
   ]
  },
  {
   "cell_type": "markdown",
   "metadata": {},
   "source": [
    "$\\textit{Remark:}$ Notice that we chose not to include the preprocessing step within the `textrank` function because this function is called multiple times in our simulations, and repeating preprocessing each time would significantly slow down execution."
   ]
  },
  {
   "cell_type": "markdown",
   "metadata": {},
   "source": [
    "Below is the `textrank_metrics` function, which is used to apply Textrank on a whole dataset of texts and evaluate its performance. The performance metrics include: mean execution time, mean ROUGE-1, ROUGE-2 and ROUGE-L scores, and eventually iteration-related metrics (mean, median, maximum and percentiles)."
   ]
  },
  {
   "cell_type": "code",
   "execution_count": 24,
   "metadata": {},
   "outputs": [],
   "source": [
    "def textrank_metrics(df, num_sent_summary, damping, thresh_conv, max_iter = float('inf'), stemming = True, iter_metrics = False):\n",
    "   '''\n",
    "   This function applies the Textrank algorithm on a dataset of articles and evaluates its performance, including execution times and ROUGE scores.\n",
    "\n",
    "   Parameters:\n",
    "   - df: pandas.DataFrame \n",
    "      DataFrame containing articles and reference summaries. Must include preprocessed sentences.\n",
    "   - num_sent_summary: int\n",
    "      Number of sentences to include in the generated summary.\n",
    "   - damping: float\n",
    "      Damping factor for the Textrank algorithm.\n",
    "   - thresh_conv: float\n",
    "      Convergence threshold for Textrank.\n",
    "   - max_iter: int, optional\n",
    "      Maximum number of iterations for Textrank. Default is float('inf') (no limit).\n",
    "   - stemming: bool, optional\n",
    "      Flag to choose between stemming and lemmatization. Default is True (stemming).\n",
    "   - iter_metrics: bool, optional\n",
    "      If True, computes and includes iteration-related metrics (mean, median, maximum, and percentiles) in the results.\n",
    "\n",
    "   Returns:\n",
    "   - results_metrics: pandas.DataFrame\n",
    "      Pandas DataFrame with aggregated metrics including mean execution time, ROUGE scores and eventually iteration-related metrics.\n",
    "   '''\n",
    "\n",
    "   len_df = len(df)\n",
    "\n",
    "   # Initialize numpy arrays to store metrics for each article\n",
    "   num_iterations = np.zeros(len_df)  # Number of iterations needed for convergence\n",
    "   textrank_times = np.zeros(len_df)  # Textrank execution times\n",
    "   rouge_1 = np.zeros(len_df)  # ROUGE-1 F1 scores\n",
    "   rouge_2 = np.zeros(len_df)  # ROUGE-2 F1 scores\n",
    "   rouge_l = np.zeros(len_df)  # ROUGE-L F1 scores\n",
    "\n",
    "   # Initialize the ROUGE metric for evaluating summaries\n",
    "   rouge = Rouge()\n",
    "\n",
    "   # Iterate over each article in the df DataFrame\n",
    "   for i, row in tqdm(df.iterrows(), total = len_df):\n",
    "      \n",
    "      # Extract article sentences and reference summary\n",
    "      sentences = row['article_sent']\n",
    "      reference_summary = row['highlights']\n",
    "      # Use preprocessed sentences based on the stemming flag\n",
    "      preprocessed_sentences = row['preproc_stem'] if stemming else row['preproc_lem']\n",
    "\n",
    "      # Start measuring execution time\n",
    "      start_time = time.time()\n",
    "      # Apply Textrank and store the number of iterations\n",
    "      ranked_sentences, num_iter = textrank(preprocessed_sentences, damping, thresh_conv, max_iter)\n",
    "      # Measure execution time and store the results\n",
    "      textrank_times[i] = time.time() - start_time\n",
    "      num_iterations[i] = num_iter\n",
    "\n",
    "      # Generate the summary based on the top-ranked sentences\n",
    "      summary_indices = [index for index, _ in ranked_sentences[:num_sent_summary]]\n",
    "      candidate_summary = \" \".join([sentences[index] for index in sorted(summary_indices)])\n",
    "\n",
    "      # Calculate ROUGE scores for the generated summary\n",
    "      rouge_scores = rouge.get_scores(candidate_summary, reference_summary)[0]\n",
    "      rouge_1[i] = rouge_scores['rouge-1']['f']\n",
    "      rouge_2[i] = rouge_scores['rouge-2']['f']\n",
    "      rouge_l[i] = rouge_scores['rouge-l']['f']\n",
    "\n",
    "   # Aggregate results across all articles\n",
    "   results_metrics = {\n",
    "      'mean_exec_time': np.mean(textrank_times),  # Mean execution time of Textrank\n",
    "      'rouge_1_mean': np.mean(rouge_1),  # Mean ROUGE-1 F1 score\n",
    "      'rouge_2_mean': np.mean(rouge_2),  # Mean ROUGE-2 F1 score\n",
    "      'rouge_l_mean': np.mean(rouge_l)  # Mean ROUGE-L F1 score\n",
    "   }\n",
    "\n",
    "   # If the iteration metrics are included\n",
    "   if iter_metrics:\n",
    "      # Calculate 90,95,99th percentiles of num_iterations\n",
    "      percentiles = np.percentile(num_iterations, [90, 95, 99])\n",
    "\n",
    "      # Add to results_metrics the metrics related to the iterations\n",
    "      results_metrics.update({\n",
    "         'mean_n_iter': np.mean(num_iterations),\n",
    "         'median_n_iter': np.median(num_iterations),\n",
    "         'max_n_iter': np.max(num_iterations),\n",
    "         '90th_perc_n_iter': percentiles[0],\n",
    "         '95th_perc_n_iter': percentiles[1],\n",
    "         '99th_perc_n_iter': percentiles[2]\n",
    "      })\n",
    "   \n",
    "   results_metrics = pd.DataFrame({k: [round(v, 4)] for k, v in results_metrics.items()})\n",
    "   \n",
    "   return results_metrics     "
   ]
  },
  {
   "cell_type": "markdown",
   "metadata": {},
   "source": [
    "## Parameter selection"
   ]
  },
  {
   "cell_type": "markdown",
   "metadata": {},
   "source": [
    "We now tune the parameters of the TextRank algorithm to ensure optimal performance. Specifically, we optimize two key parameters: the convergence threshold and the maximum number of iterations for the power method. Additionally, we compare stemming and lemmatization as text preprocessing techniques to determine which provides a better trade-off between computational efficiency and output quality.\n",
    "\n",
    "The damping factor for the power method is fixed at $0.85$, which is a common choice for this parameter, as suggested by the original PageRank algorithm. To tune these parameters and compare stemming vs. lemmatization, we repeatedly apply the TextRank algorithm to `sample_df`.\n",
    "The process is divided into two steps: \n",
    "1) First, we optimize the convergence threshold and choose between stemming and lemmatization;\n",
    "2) Then, we fine-tune the maximum number of iterations."
   ]
  },
  {
   "cell_type": "markdown",
   "metadata": {},
   "source": [
    "To optimize the convergence threshold and select between stemming and lemmatization, we apply to `sample_df` the TextRank algorithm for different values of the convergence threshold ($10^{-1}, 10^{-2}, 10^{-3}$ and $10^{-4}$), and analyze the following metrics: mean execution time per article, mean ROUGE-1, ROUGE-2, and ROUGE-L scores and statistics on the number of iterations required for convergence (mean, median, maximum, 90th, 95th, and 99th percentiles). This process is repeated twice, first with stemming and then with lemmatization applied during text preprocessing. Additionally, to ensure the algorithm’s convergence for all thresholds, the maximum number of iterations is set to $10,000$, as if there is no limit."
   ]
  },
  {
   "cell_type": "markdown",
   "metadata": {},
   "source": [
    "Stemming:"
   ]
  },
  {
   "cell_type": "code",
   "execution_count": 25,
   "metadata": {},
   "outputs": [
    {
     "name": "stderr",
     "output_type": "stream",
     "text": [
      "100%|██████████| 31108/31108 [10:32<00:00, 49.17it/s]\n",
      "100%|██████████| 31108/31108 [10:29<00:00, 49.40it/s]\n",
      "100%|██████████| 31108/31108 [10:32<00:00, 49.17it/s]\n",
      "100%|██████████| 31108/31108 [10:55<00:00, 47.44it/s]\n"
     ]
    },
    {
     "data": {
      "text/html": [
       "<div>\n",
       "<style scoped>\n",
       "    .dataframe tbody tr th:only-of-type {\n",
       "        vertical-align: middle;\n",
       "    }\n",
       "\n",
       "    .dataframe tbody tr th {\n",
       "        vertical-align: top;\n",
       "    }\n",
       "\n",
       "    .dataframe thead th {\n",
       "        text-align: right;\n",
       "    }\n",
       "</style>\n",
       "<table border=\"1\" class=\"dataframe\">\n",
       "  <thead>\n",
       "    <tr style=\"text-align: right;\">\n",
       "      <th></th>\n",
       "      <th>mean_exec_time</th>\n",
       "      <th>rouge_1_mean</th>\n",
       "      <th>rouge_2_mean</th>\n",
       "      <th>rouge_l_mean</th>\n",
       "      <th>mean_n_iter</th>\n",
       "      <th>median_n_iter</th>\n",
       "      <th>max_n_iter</th>\n",
       "      <th>90th_perc_n_iter</th>\n",
       "      <th>95th_perc_n_iter</th>\n",
       "      <th>99th_perc_n_iter</th>\n",
       "    </tr>\n",
       "  </thead>\n",
       "  <tbody>\n",
       "    <tr>\n",
       "      <th>0</th>\n",
       "      <td>0.0151</td>\n",
       "      <td>0.2940</td>\n",
       "      <td>0.0986</td>\n",
       "      <td>0.2708</td>\n",
       "      <td>1.0001</td>\n",
       "      <td>1.0</td>\n",
       "      <td>2.0</td>\n",
       "      <td>1.0</td>\n",
       "      <td>1.0</td>\n",
       "      <td>1.0</td>\n",
       "    </tr>\n",
       "    <tr>\n",
       "      <th>1</th>\n",
       "      <td>0.0151</td>\n",
       "      <td>0.2943</td>\n",
       "      <td>0.0991</td>\n",
       "      <td>0.2713</td>\n",
       "      <td>2.4327</td>\n",
       "      <td>2.0</td>\n",
       "      <td>5.0</td>\n",
       "      <td>3.0</td>\n",
       "      <td>3.0</td>\n",
       "      <td>3.0</td>\n",
       "    </tr>\n",
       "    <tr>\n",
       "      <th>2</th>\n",
       "      <td>0.0152</td>\n",
       "      <td>0.2952</td>\n",
       "      <td>0.0999</td>\n",
       "      <td>0.2722</td>\n",
       "      <td>7.6881</td>\n",
       "      <td>7.0</td>\n",
       "      <td>109.0</td>\n",
       "      <td>8.0</td>\n",
       "      <td>8.0</td>\n",
       "      <td>50.0</td>\n",
       "    </tr>\n",
       "    <tr>\n",
       "      <th>3</th>\n",
       "      <td>0.0159</td>\n",
       "      <td>0.2954</td>\n",
       "      <td>0.1001</td>\n",
       "      <td>0.2724</td>\n",
       "      <td>75.0784</td>\n",
       "      <td>13.0</td>\n",
       "      <td>544.0</td>\n",
       "      <td>375.0</td>\n",
       "      <td>490.0</td>\n",
       "      <td>521.0</td>\n",
       "    </tr>\n",
       "  </tbody>\n",
       "</table>\n",
       "</div>"
      ],
      "text/plain": [
       "   mean_exec_time  rouge_1_mean  rouge_2_mean  rouge_l_mean  mean_n_iter  \\\n",
       "0          0.0151        0.2940        0.0986        0.2708       1.0001   \n",
       "1          0.0151        0.2943        0.0991        0.2713       2.4327   \n",
       "2          0.0152        0.2952        0.0999        0.2722       7.6881   \n",
       "3          0.0159        0.2954        0.1001        0.2724      75.0784   \n",
       "\n",
       "   median_n_iter  max_n_iter  90th_perc_n_iter  95th_perc_n_iter  \\\n",
       "0            1.0         2.0               1.0               1.0   \n",
       "1            2.0         5.0               3.0               3.0   \n",
       "2            7.0       109.0               8.0               8.0   \n",
       "3           13.0       544.0             375.0             490.0   \n",
       "\n",
       "   99th_perc_n_iter  \n",
       "0               1.0  \n",
       "1               3.0  \n",
       "2              50.0  \n",
       "3             521.0  "
      ]
     },
     "execution_count": 25,
     "metadata": {},
     "output_type": "execute_result"
    }
   ],
   "source": [
    "# Number of sentences to include in the summary, damping factor and max. number of iterations\n",
    "num_sent_summary = 4\n",
    "damping = 0.85\n",
    "max_iter = 10000\n",
    "# Define convergence thresholds to test\n",
    "thresholds = [1e-1, 1e-2, 1e-3, 1e-4]\n",
    "\n",
    "# Iterate over each threshold and store the results in a DataFrame (stemming)\n",
    "results_stem = pd.DataFrame()\n",
    "for thresh_conv in thresholds:\n",
    "    results_metrics = textrank_metrics(sample_df, num_sent_summary, damping, thresh_conv, max_iter, \n",
    "                                       stemming = True, iter_metrics = True)\n",
    "    results_stem = pd.concat([results_stem, results_metrics], ignore_index = True)\n",
    "\n",
    "results_stem"
   ]
  },
  {
   "cell_type": "markdown",
   "metadata": {},
   "source": [
    "Lemmatization:"
   ]
  },
  {
   "cell_type": "code",
   "execution_count": 57,
   "metadata": {},
   "outputs": [
    {
     "name": "stderr",
     "output_type": "stream",
     "text": [
      "100%|██████████| 31108/31108 [10:18<00:00, 50.29it/s]\n",
      "100%|██████████| 31108/31108 [10:16<00:00, 50.43it/s]\n",
      "100%|██████████| 31108/31108 [10:23<00:00, 49.89it/s]\n",
      "100%|██████████| 31108/31108 [10:42<00:00, 48.42it/s]\n"
     ]
    },
    {
     "data": {
      "text/html": [
       "<div>\n",
       "<style scoped>\n",
       "    .dataframe tbody tr th:only-of-type {\n",
       "        vertical-align: middle;\n",
       "    }\n",
       "\n",
       "    .dataframe tbody tr th {\n",
       "        vertical-align: top;\n",
       "    }\n",
       "\n",
       "    .dataframe thead th {\n",
       "        text-align: right;\n",
       "    }\n",
       "</style>\n",
       "<table border=\"1\" class=\"dataframe\">\n",
       "  <thead>\n",
       "    <tr style=\"text-align: right;\">\n",
       "      <th></th>\n",
       "      <th>mean_exec_time</th>\n",
       "      <th>rouge_1_mean</th>\n",
       "      <th>rouge_2_mean</th>\n",
       "      <th>rouge_l_mean</th>\n",
       "      <th>mean_n_iter</th>\n",
       "      <th>median_n_iter</th>\n",
       "      <th>max_n_iter</th>\n",
       "      <th>90th_perc_n_iter</th>\n",
       "      <th>95th_perc_n_iter</th>\n",
       "      <th>99th_perc_n_iter</th>\n",
       "    </tr>\n",
       "  </thead>\n",
       "  <tbody>\n",
       "    <tr>\n",
       "      <th>0</th>\n",
       "      <td>0.0148</td>\n",
       "      <td>0.2932</td>\n",
       "      <td>0.0981</td>\n",
       "      <td>0.2700</td>\n",
       "      <td>1.0001</td>\n",
       "      <td>1.0</td>\n",
       "      <td>2.0</td>\n",
       "      <td>1.0</td>\n",
       "      <td>1.00</td>\n",
       "      <td>1.0</td>\n",
       "    </tr>\n",
       "    <tr>\n",
       "      <th>1</th>\n",
       "      <td>0.0147</td>\n",
       "      <td>0.2934</td>\n",
       "      <td>0.0985</td>\n",
       "      <td>0.2704</td>\n",
       "      <td>2.4205</td>\n",
       "      <td>2.0</td>\n",
       "      <td>5.0</td>\n",
       "      <td>3.0</td>\n",
       "      <td>3.00</td>\n",
       "      <td>3.0</td>\n",
       "    </tr>\n",
       "    <tr>\n",
       "      <th>2</th>\n",
       "      <td>0.0148</td>\n",
       "      <td>0.2941</td>\n",
       "      <td>0.0992</td>\n",
       "      <td>0.2711</td>\n",
       "      <td>7.6796</td>\n",
       "      <td>7.0</td>\n",
       "      <td>109.0</td>\n",
       "      <td>8.0</td>\n",
       "      <td>8.00</td>\n",
       "      <td>50.0</td>\n",
       "    </tr>\n",
       "    <tr>\n",
       "      <th>3</th>\n",
       "      <td>0.0155</td>\n",
       "      <td>0.2941</td>\n",
       "      <td>0.0993</td>\n",
       "      <td>0.2712</td>\n",
       "      <td>75.0567</td>\n",
       "      <td>13.0</td>\n",
       "      <td>544.0</td>\n",
       "      <td>375.0</td>\n",
       "      <td>490.65</td>\n",
       "      <td>521.0</td>\n",
       "    </tr>\n",
       "  </tbody>\n",
       "</table>\n",
       "</div>"
      ],
      "text/plain": [
       "   mean_exec_time  rouge_1_mean  rouge_2_mean  rouge_l_mean  mean_n_iter  \\\n",
       "0          0.0148        0.2932        0.0981        0.2700       1.0001   \n",
       "1          0.0147        0.2934        0.0985        0.2704       2.4205   \n",
       "2          0.0148        0.2941        0.0992        0.2711       7.6796   \n",
       "3          0.0155        0.2941        0.0993        0.2712      75.0567   \n",
       "\n",
       "   median_n_iter  max_n_iter  90th_perc_n_iter  95th_perc_n_iter  \\\n",
       "0            1.0         2.0               1.0              1.00   \n",
       "1            2.0         5.0               3.0              3.00   \n",
       "2            7.0       109.0               8.0              8.00   \n",
       "3           13.0       544.0             375.0            490.65   \n",
       "\n",
       "   99th_perc_n_iter  \n",
       "0               1.0  \n",
       "1               3.0  \n",
       "2              50.0  \n",
       "3             521.0  "
      ]
     },
     "execution_count": 57,
     "metadata": {},
     "output_type": "execute_result"
    }
   ],
   "source": [
    "# Number of sentences to include in the summary, damping factor and max. number of iterations\n",
    "num_sent_summary = 4\n",
    "damping = 0.85\n",
    "max_iter = 10000\n",
    "# Define convergence thresholds to test\n",
    "thresholds = [1e-1, 1e-2, 1e-3, 1e-4]\n",
    "\n",
    "# Iterate over each threshold and store the results in a DataFrame (lemmatization)\n",
    "results_lem = pd.DataFrame()\n",
    "for thresh_conv in thresholds:\n",
    "    results_metrics = textrank_metrics(sample_df, num_sent_summary, damping, thresh_conv, max_iter, \n",
    "                                       stemming = False, iter_metrics = True)\n",
    "    results_lem = pd.concat([results_lem, results_metrics], ignore_index = True)\n",
    "\n",
    "results_lem"
   ]
  },
  {
   "cell_type": "markdown",
   "metadata": {},
   "source": [
    "As we can see from the above tables:\n",
    "- Both stemming and lemmatization yield comparable ROUGE scores, with stemming having a slight edge at all thresholds. Moreover, for both techniques the ROUGE scores increase slightly with a lower convergence threshold.\n",
    "- In terms of iterations and convergence speed, both methods show similar trends. As expected, the execution time and the number of iterations grow as the convergence threshold decreases.\n",
    "\n",
    "Although the performance metrics for stemming and lemmatization are almost identical, we select stemming as preprocessing method due to its superior efficiency: we obtained that the average execution time for text preprocessing was significantly lower for stemming ($0.0125s$) compared to lemmatization ($0.0610s$). The slight improvement in ROUGE scores with stemming further supports this decision.\n",
    "\n",
    "As for the convergence threshold, we choose $10^{-3}$ as the optimal value. Indeed, it provides a good trade-off between computational efficiency and performance, with a slight increase in ROUGE scores compared to $10^{-2}$ and $10^{-1}$. Although $10^{-4}$ gives marginally higher ROUGE scores, it significantly increases the number of iterations, making it impractical for large datasets. Moreover, $10^{-3}$ offers flexibility for more complex articles compared to higher thresholds like $10^{-1}$ and $10^{-2}$, which often converge prematurely (from $1$ to $3$ iterations)."
   ]
  },
  {
   "cell_type": "markdown",
   "metadata": {},
   "source": [
    "Using stemming and a convergence threshold of $10^{-3}$, we now tune the maximum number of iterations for the power method. We test three values: $7$, $8$, and $50$, corresponding to the mean, the 95th percentile (=90th percentile) and the 99th percentile of the number of iterations observed in the previous experiments.\\\n",
    "For each value we collect the mean execution time per article and the mean ROUGE scores."
   ]
  },
  {
   "cell_type": "code",
   "execution_count": 58,
   "metadata": {},
   "outputs": [
    {
     "name": "stderr",
     "output_type": "stream",
     "text": [
      "100%|██████████| 31108/31108 [10:23<00:00, 49.91it/s]\n",
      "100%|██████████| 31108/31108 [10:15<00:00, 50.58it/s]\n",
      "100%|██████████| 31108/31108 [10:24<00:00, 49.85it/s]\n"
     ]
    },
    {
     "data": {
      "text/html": [
       "<div>\n",
       "<style scoped>\n",
       "    .dataframe tbody tr th:only-of-type {\n",
       "        vertical-align: middle;\n",
       "    }\n",
       "\n",
       "    .dataframe tbody tr th {\n",
       "        vertical-align: top;\n",
       "    }\n",
       "\n",
       "    .dataframe thead th {\n",
       "        text-align: right;\n",
       "    }\n",
       "</style>\n",
       "<table border=\"1\" class=\"dataframe\">\n",
       "  <thead>\n",
       "    <tr style=\"text-align: right;\">\n",
       "      <th></th>\n",
       "      <th>max_n_iter</th>\n",
       "      <th>mean_exec_time</th>\n",
       "      <th>rouge_1_mean</th>\n",
       "      <th>rouge_2_mean</th>\n",
       "      <th>rouge_l_mean</th>\n",
       "    </tr>\n",
       "  </thead>\n",
       "  <tbody>\n",
       "    <tr>\n",
       "      <th>0</th>\n",
       "      <td>7.0</td>\n",
       "      <td>0.0148</td>\n",
       "      <td>0.2951</td>\n",
       "      <td>0.0999</td>\n",
       "      <td>0.2722</td>\n",
       "    </tr>\n",
       "    <tr>\n",
       "      <th>1</th>\n",
       "      <td>8.0</td>\n",
       "      <td>0.0147</td>\n",
       "      <td>0.2952</td>\n",
       "      <td>0.0999</td>\n",
       "      <td>0.2722</td>\n",
       "    </tr>\n",
       "    <tr>\n",
       "      <th>2</th>\n",
       "      <td>50.0</td>\n",
       "      <td>0.0148</td>\n",
       "      <td>0.2952</td>\n",
       "      <td>0.0999</td>\n",
       "      <td>0.2722</td>\n",
       "    </tr>\n",
       "  </tbody>\n",
       "</table>\n",
       "</div>"
      ],
      "text/plain": [
       "   max_n_iter  mean_exec_time  rouge_1_mean  rouge_2_mean  rouge_l_mean\n",
       "0         7.0          0.0148        0.2951        0.0999        0.2722\n",
       "1         8.0          0.0147        0.2952        0.0999        0.2722\n",
       "2        50.0          0.0148        0.2952        0.0999        0.2722"
      ]
     },
     "execution_count": 58,
     "metadata": {},
     "output_type": "execute_result"
    }
   ],
   "source": [
    "# Number of sentences to include in the summary, damping factor and convergence threshold\n",
    "num_sent_summary = 4\n",
    "damping = 0.85\n",
    "thresh_conv = 1e-3\n",
    "# Define max number of iterations to test\n",
    "col_names_iter = ['mean_n_iter', 'median_n_iter', '90th_perc_n_iter', '95th_perc_n_iter', '99th_perc_n_iter']\n",
    "max_iter_values = sorted(set(results_stem.loc[2][col_names_iter].round()))\n",
    "\n",
    "# Iterate over each element in max_iter_values and store the results in a DataFrame\n",
    "results_max = pd.DataFrame()\n",
    "for max_iter in max_iter_values:\n",
    "    results_metrics = textrank_metrics(sample_df, num_sent_summary, damping, thresh_conv, max_iter, \n",
    "                                       stemming = True, iter_metrics = False)\n",
    "    results_max = pd.concat([results_max, results_metrics], ignore_index = True)\n",
    "\n",
    "results_max.insert(0, 'max_n_iter', max_iter_values)\n",
    "results_max"
   ]
  },
  {
   "cell_type": "markdown",
   "metadata": {},
   "source": [
    "As we can see, all three configurations yield nearly identical ROUGE scores. However, $8$ iterations provide the fastest execution time. Choosing $8$ strikes a balance between being too conservative (like $7$) and unnecessarily extending the runtime (like $50$), ensuring quick convergence without sacrificing the summaries' quality."
   ]
  },
  {
   "cell_type": "markdown",
   "metadata": {},
   "source": [
    "## Performance evaluation"
   ]
  },
  {
   "cell_type": "markdown",
   "metadata": {},
   "source": [
    "To evaluate the performance of the TextRank algorithm, we apply it to the entire dataset, `df`, using the optimized parameters determined in the tuning phase. Specifically, we set the convergence threshold to $10^{-3}$, the maximum number of iterations to $8$, the damping factor to $0.85$ and we employ stemming during text preprocessing. We then collect the following metrics: mean execution time and mean ROUGE scores.\n",
    "\n",
    "First, we preprocess the articles using stemming."
   ]
  },
  {
   "cell_type": "code",
   "execution_count": 27,
   "metadata": {},
   "outputs": [
    {
     "name": "stderr",
     "output_type": "stream",
     "text": [
      "100%|██████████| 103700/103700 [15:09<00:00, 114.02it/s]\n"
     ]
    }
   ],
   "source": [
    "# Convert the already preprocessed indices to a set for faster lookups\n",
    "preproc_indices_set = set(sample_df['index'].tolist())\n",
    "\n",
    "# Set 'index' as the index of sample_df for faster row access\n",
    "sample_df.set_index('index', inplace = True)\n",
    "\n",
    "# Initialize a list to store preprocessed sentences for each article\n",
    "preproc_sentences_list = [None] * len_df\n",
    "\n",
    "# Fill the preproc_sentences_list with already preprocessed articles\n",
    "for idx in preproc_indices_set:\n",
    "    preproc_sentences_list[idx] = sample_df.loc[idx, 'preproc_stem']\n",
    "\n",
    "# Iterate over each article in the df DataFrame\n",
    "for i in tqdm(range(len_df)):\n",
    "    \n",
    "    # Skip the article if it's already been preprocessed\n",
    "    if i in preproc_indices_set:\n",
    "        continue \n",
    "    \n",
    "    sentences = df.loc[i, 'article_sent']\n",
    "\n",
    "    # Preprocess the sentences using stemming\n",
    "    preproc_sentences = preprocess_function(sentences, stemming = True)\n",
    "    \n",
    "    # Store the preprocessed sentences in the corresponding position in the list\n",
    "    preproc_sentences_list[i] = preproc_sentences\n",
    "\n",
    "# Assign the list of preprocessed sentences as a new column in the DataFrame\n",
    "df['preproc_stem'] = preproc_sentences_list\n",
    "sample_df = sample_df.reset_index()"
   ]
  },
  {
   "cell_type": "markdown",
   "metadata": {},
   "source": [
    "Then, we apply TextRank on `df` and collect the performance metrics."
   ]
  },
  {
   "cell_type": "code",
   "execution_count": 28,
   "metadata": {},
   "outputs": [
    {
     "name": "stderr",
     "output_type": "stream",
     "text": [
      "100%|██████████| 103700/103700 [35:41<00:00, 48.43it/s] \n"
     ]
    },
    {
     "data": {
      "text/html": [
       "<div>\n",
       "<style scoped>\n",
       "    .dataframe tbody tr th:only-of-type {\n",
       "        vertical-align: middle;\n",
       "    }\n",
       "\n",
       "    .dataframe tbody tr th {\n",
       "        vertical-align: top;\n",
       "    }\n",
       "\n",
       "    .dataframe thead th {\n",
       "        text-align: right;\n",
       "    }\n",
       "</style>\n",
       "<table border=\"1\" class=\"dataframe\">\n",
       "  <thead>\n",
       "    <tr style=\"text-align: right;\">\n",
       "      <th></th>\n",
       "      <th>mean_exec_time</th>\n",
       "      <th>rouge_1_mean</th>\n",
       "      <th>rouge_2_mean</th>\n",
       "      <th>rouge_l_mean</th>\n",
       "    </tr>\n",
       "  </thead>\n",
       "  <tbody>\n",
       "    <tr>\n",
       "      <th>0</th>\n",
       "      <td>0.0153</td>\n",
       "      <td>0.2952</td>\n",
       "      <td>0.0998</td>\n",
       "      <td>0.2721</td>\n",
       "    </tr>\n",
       "  </tbody>\n",
       "</table>\n",
       "</div>"
      ],
      "text/plain": [
       "   mean_exec_time  rouge_1_mean  rouge_2_mean  rouge_l_mean\n",
       "0          0.0153        0.2952        0.0998        0.2721"
      ]
     },
     "execution_count": 28,
     "metadata": {},
     "output_type": "execute_result"
    }
   ],
   "source": [
    "# Initialize the selected parameters\n",
    "num_sent_summary = 4\n",
    "damping = 0.85\n",
    "thresh_conv = 1e-3\n",
    "max_iter = 8\n",
    "\n",
    "# Apply Textrank to the whole dataset and store the performance metrics\n",
    "results_textrank_1 = textrank_metrics(df, num_sent_summary, damping, thresh_conv, max_iter, stemming = True, iter_metrics = False)\n",
    "\n",
    "results_textrank_1"
   ]
  },
  {
   "cell_type": "markdown",
   "metadata": {},
   "source": [
    "### Baselines"
   ]
  },
  {
   "cell_type": "markdown",
   "metadata": {},
   "source": [
    "ROUGE metrics provide a quantitative measure of the quality of text summarization, but the raw scores alone are not sufficient to properly judge the performance. In text summarization, especially with extractive algorithms like TextRank, very high ROUGE scores are rarely achievable since this would require the generated summary to be nearly identical to the reference summary. Therfore, to assess the quality of our results, rather than evaluating how close the ROUGE scores are to $1$, we compare them to two baselines:\n",
    "1) $\\textit{Random baseline}$ (Lower bound): For each article, this baseline generates a summary by randomly selecting four sentences from the article. The mean ROUGE scores are then computed across all articles. This represents a lower bound for comparison, indicating the expected performance of an entirely random approach.\n",
    "2) $\\textit{Greedy oracle baseline}$ (Upper bound): For each article, the oracle baseline evaluates all possible combinations of four sentences to find the combination that maximizes the ROUGE scores compared to the reference summary. Given the large amount of data we have (over $100,000$ articles), this approach is infeasible, so we use a greedy approximation. Specifically:\n",
    "   - For each sentence in the article, the mean of the three ROUGE scores between the sentence and the reference summary is computed. Then, the four sentences providing the highest scores are selected to form the summary.\n",
    "   - For practical reasons, we limit the candidate sentences to the first half of each article. This is justified by considering that, in general, important information is presented at the beginning of an article.\n",
    "\n",
    "The functions below implement these two approaches."
   ]
  },
  {
   "cell_type": "code",
   "execution_count": 61,
   "metadata": {},
   "outputs": [],
   "source": [
    "# Initialize ROUGE object once to avoid re-instantiating it in each function call\n",
    "rouge = Rouge()\n",
    "\n",
    "def compute_rouge(candidate_summary, reference_summary):\n",
    "    '''\n",
    "    This function computes the ROUGE scores (ROUGE-1, ROUGE-2, and ROUGE-L) between a candidate summary and the reference summary.\n",
    "\n",
    "    Parameters:\n",
    "    - candidate_summary: str\n",
    "       String containing the generated summary.\n",
    "    - reference_summary: str\n",
    "       String containing the reference summary.\n",
    "\n",
    "    Returns:\n",
    "    - tuple: (rouge1_f, rouge2_f, rougel_f)\n",
    "       Return a tuple containing the F1-scores for the three ROUGE metrics.\n",
    "    '''\n",
    "    scores = rouge.get_scores(candidate_summary, reference_summary)[0]\n",
    "    \n",
    "    rouge1_f = scores['rouge-1']['f']\n",
    "    rouge2_f = scores['rouge-2']['f']\n",
    "    rougel_f = scores['rouge-l']['f']\n",
    "    \n",
    "    return rouge1_f, rouge2_f, rougel_f\n",
    "\n",
    "def greedy_oracle_summary(sentences, reference_summary, num_sentences = 4):\n",
    "    '''\n",
    "    This function generates a summary by greedily selecting the top sentences that maximize the ROUGE score in relation to the reference summary.\n",
    "    It calculates the ROUGE score for each sentence in the first half of the article and selects the best `num_sentences` to form the summary.\n",
    "\n",
    "    Parameters:\n",
    "    - sentences: List of str\n",
    "       Each string is a sentence from the original article;\n",
    "    - reference_summary: str\n",
    "       String containing the reference summary to compare the candidate sentences with.\n",
    "    - num_sentences: int\n",
    "       The number of sentences to be included in the final summary. Default is 4.\n",
    "\n",
    "    Returns:\n",
    "    - String: A summary consisting of the selected sentences, joined together by periods (\".\").\n",
    "    '''\n",
    "    \n",
    "    # List to store sentences and their corresponding ROUGE scores\n",
    "    sentence_rouge_scores = []\n",
    "\n",
    "    # Limit to the first half of the sentences or `num_sentences` to reduce computation\n",
    "    limit = max(num_sentences, len(sentences) // 2)\n",
    "\n",
    "    # Compute the ROUGE scores for the first 'limit' number of sentences\n",
    "    for i in range(limit):\n",
    "    \n",
    "            sentence = sentences[i]\n",
    "            \n",
    "            # Skip sentences with fewer than 2 words, as they are not useful for summarization\n",
    "            if len(sentence.split()) <= 1:\n",
    "                continue\n",
    "            \n",
    "            # Calculate ROUGE scores between the candidate sentence and the reference summary\n",
    "            rouge_1, rouge_2, rouge_l = compute_rouge(sentence, reference_summary)\n",
    "            \n",
    "            # Compute the average of the three ROUGE scores\n",
    "            rouge_score = (rouge_1 + rouge_2 + rouge_l) / 3\n",
    "            \n",
    "            # Append the sentence index and its average ROUGE score to the list\n",
    "            sentence_rouge_scores.append((i, rouge_score))\n",
    "    \n",
    "    # Sort sentences by their ROUGE score in descending order\n",
    "    ranked_sentences = sorted(sentence_rouge_scores, key = lambda x: x[1], reverse = True)\n",
    "    # Get the indices of the top `num_sent_summary` sentences\n",
    "    summary_indices = [index for index, _ in ranked_sentences[:num_sent_summary]]\n",
    "    # Join the sentences using the selected indices (sorted) to form the final summary\n",
    "    candidate_summary = \" \".join([sentences[index] for index in sorted(summary_indices)])\n",
    "\n",
    "    return candidate_summary   \n",
    "\n",
    "def get_rouge_baselines(df, num_sent_summary = 4, random_bl = True):\n",
    "    '''\n",
    "    This function calculates ROUGE baseline scores for a dataset of articles. It either computes a random summary baseline or a greedy oracle summary baseline, depending on the value of `random_bl`.\n",
    "\n",
    "    Parameters:\n",
    "    - df: DataFrame\n",
    "        The dataset containing the articles. Each row should have 'highlights' (reference summary) and 'article_sent' (list of sentences).\n",
    "    - num_sent_summary: int\n",
    "        The number of sentences to include in the summary. Default is 4.\n",
    "    - random_bl: bool\n",
    "        If True, the function generates a random summary baseline. If False, it uses the greedy oracle baseline.\n",
    "\n",
    "    Returns:\n",
    "    - baseline_rouge_1: float\n",
    "        The average ROUGE-1 F1 score over the dataset.\n",
    "    - baseline_rouge_2: float\n",
    "        The average ROUGE-2 F1 score over the dataset.\n",
    "    - baseline_rouge_l: float\n",
    "        The average ROUGE-L F1 score over the dataset.\n",
    "    '''\n",
    "\n",
    "    len_df = len(df)\n",
    "\n",
    "    # Initialize numpy arrays to store ROUGE-1, ROUGE-2, and ROUGE-L scores for each article\n",
    "    rouge_1 = np.zeros(len_df)\n",
    "    rouge_2 = np.zeros(len_df)\n",
    "    rouge_l = np.zeros(len_df)\n",
    "\n",
    "    # Set a random seed for reproducibility (if using random baseline)\n",
    "    if random_bl:\n",
    "        random.seed(1)\n",
    "\n",
    "    # Loop through each article in the dataset\n",
    "    for i in tqdm(range(len_df)):\n",
    "        # Extract reference summary and sentences from the article\n",
    "        reference_summary = df.loc[i, 'highlights']\n",
    "        sentences = df.loc[i, 'article_sent']\n",
    "        # If random_bl = True, generate a random summary, else the greedy oracle summary\n",
    "        if random_bl:\n",
    "            # Randomly sample 'num_sent_summary' sentences from the list of sentences and then join them into a single string\n",
    "            candidate_summary = ' '.join(random.sample(sentences, num_sent_summary))\n",
    "        else:\n",
    "            candidate_summary = greedy_oracle_summary(sentences, reference_summary, num_sent_summary)\n",
    "        \n",
    "        # Compute and store ROUGE-1, ROUGE-2, and ROUGE-L scores for the generated summary\n",
    "        rouge_1[i], rouge_2[i], rouge_l[i] = compute_rouge(candidate_summary, reference_summary)\n",
    "\n",
    "    # Calculate the average ROUGE-1, ROUGE-2, and ROUGE-L scores\n",
    "    baseline_rouge_1 = np.mean(rouge_1)\n",
    "    baseline_rouge_2 = np.mean(rouge_2)\n",
    "    baseline_rouge_l = np.mean(rouge_l)\n",
    "    \n",
    "    return baseline_rouge_1, baseline_rouge_2, baseline_rouge_l"
   ]
  },
  {
   "cell_type": "markdown",
   "metadata": {},
   "source": [
    "We now compute the two baselines and print the results."
   ]
  },
  {
   "cell_type": "code",
   "execution_count": 114,
   "metadata": {},
   "outputs": [
    {
     "name": "stderr",
     "output_type": "stream",
     "text": [
      "100%|██████████| 103700/103700 [07:40<00:00, 225.31it/s]"
     ]
    },
    {
     "name": "stdout",
     "output_type": "stream",
     "text": [
      "\n",
      "The ROUGE scores for the random baseline are: ROUGE-1: 0.2374 , ROUGE-2: 0.0626, ROUGE-L: 0.2184\n"
     ]
    },
    {
     "name": "stderr",
     "output_type": "stream",
     "text": [
      "\n"
     ]
    }
   ],
   "source": [
    "# Random baseline\n",
    "baseline_random_1, baseline_random_2, baseline_random_l = get_rouge_baselines(df, num_sent_summary = 4, random_bl = True)\n",
    "\n",
    "print(f\"\\nThe ROUGE scores for the random baseline are: ROUGE-1: {baseline_random_1:.4f} , ROUGE-2: {baseline_random_2:.4f}, ROUGE-L: {baseline_random_l:.4f}\")"
   ]
  },
  {
   "cell_type": "code",
   "execution_count": 63,
   "metadata": {},
   "outputs": [
    {
     "name": "stderr",
     "output_type": "stream",
     "text": [
      "100%|██████████| 103700/103700 [40:51<00:00, 42.30it/s]   \n"
     ]
    },
    {
     "name": "stdout",
     "output_type": "stream",
     "text": [
      "\n",
      "The ROUGE scores for the greedy oracle baseline are: ROUGE-1: 0.4222 , ROUGE-2: 0.1977, ROUGE-L: 0.3983\n"
     ]
    }
   ],
   "source": [
    "# Greedy oracle baseline\n",
    "baseline_oracle_1, baseline_oracle_2, baseline_oracle_l = get_rouge_baselines(df, num_sent_summary = 4, random_bl = False)\n",
    "\n",
    "print(f\"\\nThe ROUGE scores for the greedy oracle baseline are: ROUGE-1: {baseline_oracle_1:.4f} , ROUGE-2: {baseline_oracle_2:.4f}, ROUGE-L: {baseline_oracle_l:.4f}\")"
   ]
  },
  {
   "cell_type": "markdown",
   "metadata": {},
   "source": [
    "# Improvements"
   ]
  },
  {
   "cell_type": "markdown",
   "metadata": {},
   "source": [
    "## 1) Sparsifying the graphs"
   ]
  },
  {
   "cell_type": "markdown",
   "metadata": {},
   "source": [
    "The first optimization we introduce involves sparsifying the similarity graphs in order to reduce the memory usage of TextRank. In the standard TextRank algorithm the similarity graph is represented by a dense adjacency matrix, where each element corresponds to the similarity score between two sentences. While this representation is justified in most cases because similarity graphs are relatively dense, it is possible that certain low similarities do not significantly impact the ranking process. Hence, sparsifying the graphs by introducing a threshold can help reduce memory usage without substantially affecting the algorithm's output quality.\n",
    "\n",
    "In order to do so, we introduce the threshold $\\textit{threshold\\_sim}$. Any similarity score below this threshold is set to 0, effectively removing the corresponding edge from the graph. This sparsification reduces the number of non-zero entries in the adjacency matrix, enabling the use of sparse matrix representations, which are significantly more memory-efficient than dense matrices."
   ]
  },
  {
   "cell_type": "markdown",
   "metadata": {},
   "source": [
    "### Selecting $\\textit{threshold\\_sim}$"
   ]
  },
  {
   "cell_type": "markdown",
   "metadata": {},
   "source": [
    "To determine for our dataset a suitable value for $\\textit{threshold\\_sim}$, we analyze the mean density of the adjacency matrices for various thresholds using the `sample_df` DataFrame. We test a range of values from $0$ to $0.5$ with a step size of $0.05$, and compute for each the mean density. We plot the results below."
   ]
  },
  {
   "cell_type": "code",
   "execution_count": 64,
   "metadata": {},
   "outputs": [],
   "source": [
    "def create_similarity_matrix(sentences_as_words):\n",
    "    \"\"\"\n",
    "    Creates a similarity matrix for a set of sentences, where each element represents the similarity score between two sentences.\n",
    "\n",
    "    Parameters:\n",
    "    - sentences_as_words: list of list of str\n",
    "        Preprocessed sentences, each sentence is a list of words.\n",
    "\n",
    "    Returns:\n",
    "    - similarity_matrix: np.ndarray \n",
    "        A 2D numpy array of size n_sentences x n_sentences, where each element [i, j] represents the similarity between sentence i and sentence j.\n",
    "    \"\"\"\n",
    "\n",
    "    n_sentences = len(sentences_as_words)\n",
    "    \n",
    "    # Initialize a similarity matrix with zeros\n",
    "    similarity_matrix = np.zeros((n_sentences, n_sentences))\n",
    "\n",
    "    # Fill the similarity matrix with similarity scores\n",
    "    for i, words_i in enumerate(sentences_as_words):\n",
    "        for j in range(i, n_sentences):\n",
    "            # Calculate the similarity between sentence i and sentence j\n",
    "            similarity_ij = sentence_similarity(words_i, sentences_as_words[j])\n",
    "            # The matrix is symmetric, so similarity_matrix[i, j] is equal to similarity_matrix[j, i]\n",
    "            similarity_matrix[i, j] = similarity_ij\n",
    "            similarity_matrix[j, i] = similarity_ij\n",
    "       \n",
    "    return similarity_matrix"
   ]
  },
  {
   "cell_type": "code",
   "execution_count": 113,
   "metadata": {},
   "outputs": [
    {
     "name": "stderr",
     "output_type": "stream",
     "text": [
      "100%|██████████| 31108/31108 [08:46<00:00, 59.05it/s] \n"
     ]
    }
   ],
   "source": [
    "# Define thresholds ranging from 0 to 0.5 with 11 equally spaced values\n",
    "thresholds = np.linspace(0, 0.5, num = 11)\n",
    "\n",
    "# Initialize a matrix to store the density values of the similarity matrices for each article \n",
    "# at each threshold. Rows correspond to different thresholds, columns to different articles\n",
    "density_matrix = np.zeros((len(thresholds), len_sample_df))\n",
    "\n",
    "for i in tqdm(range(len_sample_df)):\n",
    "\n",
    "    # Take the already preprocessed article from the sample_df DataFrame\n",
    "    preprocessed_sentences = sample_df.loc[i]['preproc_stem']\n",
    "\n",
    "    # Compute the similarity matrix\n",
    "    similarity_matrix = create_similarity_matrix(preprocessed_sentences)\n",
    "    similarity_matrix_size = similarity_matrix.size\n",
    "\n",
    "    for j, thresh in enumerate(thresholds):\n",
    "        # Create a boolean mask where each element indicates whether the similarity value is above the threshold\n",
    "        threshold_mask = similarity_matrix > thresh\n",
    "        # Calculate the density by summing the number of True values in the mask and\n",
    "        # dividing by the total size of the similarity matrix\n",
    "        density_matrix[j, i] = np.sum(threshold_mask) / similarity_matrix_size\n",
    "\n",
    "# Compute the mean density across all articles for each threshold\n",
    "mean_density = np.mean(density_matrix, axis = 1)"
   ]
  },
  {
   "cell_type": "code",
   "execution_count": 66,
   "metadata": {},
   "outputs": [
    {
     "data": {
      "image/png": "[encoded data removed]",
      "text/plain": [
       "<Figure size 800x400 with 1 Axes>"
      ]
     },
     "metadata": {},
     "output_type": "display_data"
    }
   ],
   "source": [
    "# Plot: Mean density vs threshold_sim\n",
    "plt.figure(figsize = (8, 4))\n",
    "plt.plot(thresholds, mean_density, marker = 'o', linestyle = '-', color = 'b')\n",
    "plt.title('Mean Density vs. threshold_sim')\n",
    "plt.xlabel('threshold_sim')\n",
    "plt.ylabel('Mean Density')\n",
    "plt.grid(True)\n",
    "plt.xticks(np.linspace(0, 0.5, num = 11))\n",
    "plt.yticks(np.linspace(0, 1, num = 11))\n",
    "plt.show()"
   ]
  },
  {
   "cell_type": "markdown",
   "metadata": {},
   "source": [
    "As we can see from the above line plot:\n",
    "- When $\\textit{threshold\\_sim}=0$ (which corresponds to the standard case), the mean density is a bit higher than $0.4$, indicating that the graphs are relatively dense.\n",
    "- As $\\textit{threshold\\_sim}$ increases, the mean density decreases, reaching approximately $0.1$ when $\\textit{threshold\\_sim}=0.5$.\n",
    "\n",
    "Based on this, we choose a threshold of $0.35$. At this value, the mean density is approximately $0.19$, representing a good balance between sparsity and retaining meaningful connections. Indeed, if we set $\\textit{threshold\\_sim}$ too high we could risk losing important edges and make the algorithm's performance worse."
   ]
  },
  {
   "cell_type": "markdown",
   "metadata": {},
   "source": [
    "Additionally, we plot below the distribution of the density of adjacency matrices when $\\textit{threshold\\_sim}=0.35$. As we can see, most graphs are sparsified to densities approximately between $0$ and $0.25$, supporting our choice."
   ]
  },
  {
   "cell_type": "code",
   "execution_count": 67,
   "metadata": {},
   "outputs": [
    {
     "data": {
      "image/png": "[encoded data removed]",
      "text/plain": [
       "<Figure size 600x400 with 1 Axes>"
      ]
     },
     "metadata": {},
     "output_type": "display_data"
    }
   ],
   "source": [
    "# Histogram: Density of similarity matrices where similarities below 0.35 are set to 0\n",
    "plt.figure(figsize = (6, 4))\n",
    "sns.histplot(density_matrix[7], bins = np.linspace(0, 1, num = 20), kde = False, color = '#A2CFE8')\n",
    "plt.axvline(mean_density[7], color = 'r', linestyle = 'dashed', linewidth = 1, label = f'Mean: {mean_density[7]:.2f}')\n",
    "plt.xlabel('Density of similarity matrix')\n",
    "plt.ylabel('Frequency')\n",
    "plt.title('Distribution of the density of similarity matrices')\n",
    "plt.legend()\n",
    "\n",
    "plt.tight_layout()\n",
    "plt.show()"
   ]
  },
  {
   "cell_type": "markdown",
   "metadata": {},
   "source": [
    "### Implementation and application"
   ]
  },
  {
   "cell_type": "markdown",
   "metadata": {},
   "source": [
    "Below is the updated Python implementation of the TextRank algorithm with sparsification, `textrank_sparse`."
   ]
  },
  {
   "cell_type": "code",
   "execution_count": 68,
   "metadata": {},
   "outputs": [],
   "source": [
    "def textrank_sparse(sentences_as_words, damping, threshold_conv, threshold_sim, max_iter = float('inf')):\n",
    "    \"\"\"\n",
    "    Apply the TextRank algorithm using sparse matrices to rank sentences based on their similarity.\n",
    "\n",
    "    Parameters:\n",
    "    - sentences_as_words: list of list of str\n",
    "        Preprocessed sentences, each sentence is a list of words.\n",
    "    - damping: float\n",
    "        The damping factor (typically between 0.85 and 0.95), controlling the probability of randomly jumping to another sentence.\n",
    "    - threshold_conv: float\n",
    "        Threshold value for convergence in the power method.\n",
    "    - threshold_sim: float\n",
    "        Similarity threshold to consider an edge between two sentences.\n",
    "    - max_iter: int, optional\n",
    "        Maximum number of iterations for the power method. Default is float('inf') (no limit).\n",
    "    \n",
    "    Returns:\n",
    "    - list of tuple\n",
    "        A ranked list of sentences based on their TextRank score, where each tuple contains\n",
    "        the index of the sentence and its corresponding rank score.\n",
    "    \"\"\"\n",
    "    \n",
    "    # Compute the number of sentences\n",
    "    n_sentences = len(sentences_as_words)\n",
    "    \n",
    "    # Initialize a sparse matrix using LIL format\n",
    "    sparse_sim_matrix = lil_matrix((n_sentences, n_sentences))\n",
    "\n",
    "    # Construct the sparse adjacency matrix based on sentence similarity\n",
    "    for i, words_i in enumerate(sentences_as_words):\n",
    "        for j in range(i, n_sentences):\n",
    "            similarity_ij = sentence_similarity(words_i, sentences_as_words[j])\n",
    "            # Only consider similarities above threshold_sim\n",
    "            if similarity_ij > threshold_sim: \n",
    "                sparse_sim_matrix[i, j] = similarity_ij\n",
    "                sparse_sim_matrix[j, i] = similarity_ij\n",
    "    \n",
    "    # Convert to CSR format for efficient arithmetic operations\n",
    "    sparse_sim_matrix = sparse_sim_matrix.tocsr()\n",
    "\n",
    "    # Normalize the sparse adjacency matrix to make it stochastic\n",
    "    row_sums = np.array(sparse_sim_matrix.sum(axis = 1)).flatten() + 1e-8\n",
    "    sparse_sim_matrix = sparse_sim_matrix.multiply(1 / row_sums[:, np.newaxis])\n",
    "\n",
    "    # Apply the power method\n",
    "    transposed_matrix = sparse_sim_matrix.T   \n",
    "    # Initialize the PageRank vector (all sentences have equal probability initially)\n",
    "    p_vector = np.ones(n_sentences) / n_sentences\n",
    "    # Random jump value (applied dynamically during each iteration)\n",
    "    random_jump_value = (1.0 - damping) / n_sentences\n",
    "    # Initialize the convergence value\n",
    "    lambda_val = float('inf')\n",
    "\n",
    "    iter_count = 0\n",
    "    while lambda_val > threshold_conv and iter_count < max_iter:\n",
    "        next_p = transposed_matrix.dot(p_vector)\n",
    "        # Apply the random jump as part of the iteration\n",
    "        next_p = damping * next_p + random_jump_value\n",
    "        lambda_val = np.linalg.norm(next_p - p_vector)\n",
    "        # Update the PageRank vector for the next iteration\n",
    "        p_vector = next_p\n",
    "        iter_count += 1\n",
    "\n",
    "    # Rank the sentences based on their PageRank scores\n",
    "    ranked_sentences = sorted(enumerate(p_vector), key = lambda x: x[1], reverse = True)\n",
    "\n",
    "    return ranked_sentences"
   ]
  },
  {
   "cell_type": "markdown",
   "metadata": {},
   "source": [
    "We also update the `textrank_metrics` function into `textrank_metrics_sparse`. This function applies to a dataset of texts the TextRank algorithm with sparsification and evaluates its performance. The performance metrics include: mean execution time and mean ROUGE-1, ROUGE-2, and ROUGE-L scores. Notice that we are no longer interested in the iteration-related metrics, since from now on we fix the maximum number of iterations to $8$, in order to make the results comparable with the ones obtained when we applied the standard TextRank algorithm. "
   ]
  },
  {
   "cell_type": "code",
   "execution_count": 69,
   "metadata": {},
   "outputs": [],
   "source": [
    "def textrank_metrics_sparse(df, num_sent_summary, damping, thresh_conv, thresh_sim, max_iter = float('inf'), stemming = True):\n",
    "   '''\n",
    "   This function applies the Textrank algorithm (with sparse adjacency matrices) on a dataset of articles and evaluates its performance, including execution times and ROUGE scores.\n",
    "\n",
    "   Parameters:\n",
    "   - df: pandas.DataFrame \n",
    "      DataFrame containing articles and reference summaries. Must include preprocessed sentences.\n",
    "   - num_sent_summary: int\n",
    "      Number of sentences to include in the generated summary.\n",
    "   - damping: float\n",
    "      Damping factor for the Textrank algorithm.\n",
    "   - thresh_conv: float\n",
    "      Convergence threshold for Textrank.\n",
    "   - thresh_sim: float\n",
    "      Similarity threshold to consider an edge between two sentences.\n",
    "   - max_iter: int, optional\n",
    "      Maximum number of iterations for Textrank. Default is float('inf') (no limit).\n",
    "   - stemming: bool, optional\n",
    "      Flag to choose between stemming and lemmatization. Default is True (stemming).\n",
    "\n",
    "   Returns:\n",
    "   - results_metrics: pandas.DataFrame\n",
    "      Pandas DataFrame with aggregated metrics including mean execution times and ROUGE scores.\n",
    "   '''\n",
    "\n",
    "   len_df = len(df)\n",
    "\n",
    "   # Initialize numpy arrays to store metrics for each article\n",
    "   textrank_times = np.zeros(len_df)  # Textrank execution times\n",
    "   rouge_1 = np.zeros(len_df)  # ROUGE-1 F1 scores\n",
    "   rouge_2 = np.zeros(len_df)  # ROUGE-2 F1 scores\n",
    "   rouge_l = np.zeros(len_df)  # ROUGE-L F1 scores\n",
    "\n",
    "   # Initialize the ROUGE metric for evaluating summaries\n",
    "   rouge = Rouge()\n",
    "\n",
    "   # Iterate over each article in the DataFrame\n",
    "   for i, row in tqdm(df.iterrows(), total = len_df):\n",
    "      \n",
    "      # Extract article sentences and reference summary\n",
    "      sentences = row['article_sent']\n",
    "      reference_summary = row['highlights']\n",
    "      # Use preprocessed sentences based on the stemming flag\n",
    "      preprocessed_sentences = row['preproc_stem'] if stemming else row['preproc_lem']\n",
    "\n",
    "      # Start measuring execution time\n",
    "      start_time = time.time()\n",
    "      # Apply Textrank (with sparsification)\n",
    "      ranked_sentences = textrank_sparse(preprocessed_sentences, damping, thresh_conv, thresh_sim, max_iter)\n",
    "      # Measure execution time and store the result\n",
    "      textrank_times[i] = time.time() - start_time\n",
    "\n",
    "      # Generate the summary based on the top-ranked sentences\n",
    "      summary_indices = [index for index, _ in ranked_sentences[:num_sent_summary]]\n",
    "      candidate_summary = \" \".join([sentences[index] for index in sorted(summary_indices)])\n",
    "\n",
    "      # Calculate ROUGE scores for the generated summary\n",
    "      rouge_scores = rouge.get_scores(candidate_summary, reference_summary)[0]\n",
    "      rouge_1[i] = rouge_scores['rouge-1']['f']\n",
    "      rouge_2[i] = rouge_scores['rouge-2']['f']\n",
    "      rouge_l[i] = rouge_scores['rouge-l']['f']\n",
    "\n",
    "   # Aggregate results across all articles\n",
    "   results_metrics = {\n",
    "      'mean_exec_time': np.mean(textrank_times),  # Mean execution time of Textrank\n",
    "      'rouge_1_mean': np.mean(rouge_1),  # Mean ROUGE-1 F1 score\n",
    "      'rouge_2_mean': np.mean(rouge_2),  # Mean ROUGE-2 F1 score\n",
    "      'rouge_l_mean': np.mean(rouge_l)  # Mean ROUGE-L F1 score\n",
    "   }\n",
    "\n",
    "   results_metrics = pd.DataFrame({k: [round(v, 4)] for k, v in results_metrics.items()})\n",
    "   \n",
    "   return results_metrics"
   ]
  },
  {
   "cell_type": "markdown",
   "metadata": {},
   "source": [
    "We now apply the `textrank_metrics_sparse` function to the dataset `df`. The parameters are kept consistent with those optimized for the standard TextRank: a convergence threshold of $10^{-3}$, a damping factor of $0.85$, and a maximum of $8$ iterations for the power method. Additionally, a sparsification threshold of $0.35$ is used."
   ]
  },
  {
   "cell_type": "code",
   "execution_count": 70,
   "metadata": {},
   "outputs": [
    {
     "name": "stderr",
     "output_type": "stream",
     "text": [
      "100%|██████████| 103700/103700 [45:05<00:00, 38.34it/s]   \n"
     ]
    },
    {
     "data": {
      "text/html": [
       "<div>\n",
       "<style scoped>\n",
       "    .dataframe tbody tr th:only-of-type {\n",
       "        vertical-align: middle;\n",
       "    }\n",
       "\n",
       "    .dataframe tbody tr th {\n",
       "        vertical-align: top;\n",
       "    }\n",
       "\n",
       "    .dataframe thead th {\n",
       "        text-align: right;\n",
       "    }\n",
       "</style>\n",
       "<table border=\"1\" class=\"dataframe\">\n",
       "  <thead>\n",
       "    <tr style=\"text-align: right;\">\n",
       "      <th></th>\n",
       "      <th>mean_exec_time</th>\n",
       "      <th>rouge_1_mean</th>\n",
       "      <th>rouge_2_mean</th>\n",
       "      <th>rouge_l_mean</th>\n",
       "    </tr>\n",
       "  </thead>\n",
       "  <tbody>\n",
       "    <tr>\n",
       "      <th>0</th>\n",
       "      <td>0.0164</td>\n",
       "      <td>0.2971</td>\n",
       "      <td>0.1005</td>\n",
       "      <td>0.2738</td>\n",
       "    </tr>\n",
       "  </tbody>\n",
       "</table>\n",
       "</div>"
      ],
      "text/plain": [
       "   mean_exec_time  rouge_1_mean  rouge_2_mean  rouge_l_mean\n",
       "0          0.0164        0.2971        0.1005        0.2738"
      ]
     },
     "execution_count": 70,
     "metadata": {},
     "output_type": "execute_result"
    }
   ],
   "source": [
    "# Initialize the optimized parameters\n",
    "num_sent_summary = 4\n",
    "damping = 0.85\n",
    "thresh_conv = 1e-3\n",
    "thresh_sim = 0.35\n",
    "max_iter = 8\n",
    "\n",
    "# Apply textrank_sparse to the whole dataset and store the performance metrics\n",
    "results_textrank_2 = textrank_metrics_sparse(df, num_sent_summary, damping, thresh_conv, thresh_sim, max_iter, stemming = True)\n",
    "\n",
    "results_textrank_2"
   ]
  },
  {
   "cell_type": "markdown",
   "metadata": {},
   "source": [
    "## 2) Limiting sentence similarity computations"
   ]
  },
  {
   "cell_type": "markdown",
   "metadata": {},
   "source": [
    "The second optimization we introduce involves restricting sentence similarity computations to a fixed window size $\\textit{w}$, to improve TextRank algorithm's efficiency. Specifically, we compute similarity scores only for pairs of sentences that are at most $\\textit{w}$ positions apart. This restriction reduces the computational cost associated with constructing the adjacency matrix without significantly affecting the algorithm's performance. Importantly, we implement this optimization in conjunction with sparsification, ensuring that only meaningful similarities (above a given threshold) are retained."
   ]
  },
  {
   "cell_type": "markdown",
   "metadata": {},
   "source": [
    "The idea of limiting similarity computations to a fixed window size arises from the observation that sentence similarity decreases with distance. To verify this for our dataset, we analyze how the similarity scores between sentences change as a function of their positional distance in the text. Specifically, using the representative sample `sample_df`, we compute the mean similarity scores for sentences separated by increasing distances and plot the results."
   ]
  },
  {
   "cell_type": "code",
   "execution_count": 71,
   "metadata": {},
   "outputs": [],
   "source": [
    "def distance_vs_similarity_score(sentences_as_words):\n",
    "    \"\"\"\n",
    "    Computes the similarity between all pairs of sentences and their respective distances within an article.\n",
    "    \n",
    "    Parameters:\n",
    "    - sentences_as_words: list of list of str\n",
    "        Preprocessed sentences, each sentence is a list of words.\n",
    "\n",
    "    Returns:\n",
    "    - DataFrame: \n",
    "      A DataFrame where each row contains for each pair of sentences their distance and their similarity score.\n",
    "    \"\"\"\n",
    "    n_sentences = len(sentences_as_words)\n",
    "    data = []\n",
    "\n",
    "    # Iterate over each pair of sentences\n",
    "    for i, words_i in enumerate(sentences_as_words):\n",
    "        for j in range(i + 1, n_sentences):\n",
    "            # Calculate similarity between sentence i and sentence j\n",
    "            similarity_ij = sentence_similarity(words_i, sentences_as_words[j])\n",
    "            # Calculate the distance between sentence i and sentence j\n",
    "            distance_ij = abs(i - j)\n",
    "            # Append distance and similarity as a tuple to the data list\n",
    "            data.append((distance_ij, similarity_ij))\n",
    "\n",
    "    # Create the DataFrame\n",
    "    df_result = pd.DataFrame(data, columns = ['distance', 'similarity'])\n",
    "    return df_result"
   ]
  },
  {
   "cell_type": "code",
   "execution_count": 72,
   "metadata": {},
   "outputs": [
    {
     "name": "stderr",
     "output_type": "stream",
     "text": [
      "100%|██████████| 31108/31108 [07:33<00:00, 68.63it/s] \n"
     ]
    }
   ],
   "source": [
    "# Initialize list to store the DataFrame results for each article\n",
    "all_data = []\n",
    "\n",
    "# Iterate through each article in the sample_df DataFrame\n",
    "for i in tqdm(range(len_sample_df)):\n",
    "\n",
    "    # Extract preprocessed sentences from the current article in sample_df\n",
    "    preproc_sentences = sample_df.loc[i]['preproc_stem']\n",
    "    # Calculate the distance vs. similarity DataFrame for the current article \n",
    "    df_i = distance_vs_similarity_score(preproc_sentences)\n",
    "    # Append the DataFrame to the all_data list\n",
    "    all_data.append(df_i)\n",
    "\n",
    "# Concatenate all DataFrames into one large DataFrame\n",
    "df_distance_similarity = pd.concat(all_data, ignore_index = True)\n",
    "# Group by 'distance' and calculate the mean similarity for each distance value\n",
    "mean_similarity_by_distance = df_distance_similarity.groupby('distance')['similarity'].mean().reset_index()"
   ]
  },
  {
   "cell_type": "code",
   "execution_count": 73,
   "metadata": {},
   "outputs": [
    {
     "data": {
      "image/png": "[encoded data removed]",
      "text/plain": [
       "<Figure size 700x400 with 1 Axes>"
      ]
     },
     "metadata": {},
     "output_type": "display_data"
    }
   ],
   "source": [
    "# Plot the mean similarity by distance (up to 60)\n",
    "mean_similarity_by_distance_subset = mean_similarity_by_distance[mean_similarity_by_distance['distance'] <= 60]\n",
    "\n",
    "plt.figure(figsize = (7, 4))\n",
    "sns.lineplot(x = 'distance', y = 'similarity', data = mean_similarity_by_distance_subset, color = 'darkgreen')\n",
    "plt.xlabel('Distance')\n",
    "plt.ylabel('Mean Similarity')\n",
    "plt.title('Mean Similarity by Distance')\n",
    "plt.grid(axis = 'y', linestyle = '--', alpha = 0.7)\n",
    "plt.show()"
   ]
  },
  {
   "cell_type": "markdown",
   "metadata": {},
   "source": [
    "The line plot clearly shows that similarity scores decrease rapidly as the distance increases, confirming that closer sentences tend to have stronger semantic connections. This trend suggests that focusing similarity computations on close sentences is both computationally efficient and consistent with the characteristics of textual data."
   ]
  },
  {
   "cell_type": "markdown",
   "metadata": {},
   "source": [
    "### Implementation"
   ]
  },
  {
   "cell_type": "markdown",
   "metadata": {},
   "source": [
    "Below is the Python implementation of the improved algorithm, which incorporates the window size $w$. We also adjust the `textrank_metrics_sparse` function into `textrank_metrics_sparse_w`, which applies this new version of the algorithm to a dataset of texts and evaluates its performance, including mean execution time and mean ROUGE scores."
   ]
  },
  {
   "cell_type": "code",
   "execution_count": 74,
   "metadata": {},
   "outputs": [],
   "source": [
    "def textrank_sparse_w(sentences_as_words, damping, threshold_conv, threshold_sim, w, max_iter = float('inf')):\n",
    "    \"\"\"\n",
    "    Apply the TextRank algorithm with sparsification to rank sentences based on their similarity, limiting the similarity computation to sentences whose distance is <= w.\n",
    "\n",
    "    Parameters:\n",
    "    - sentences_as_words: list of list of str\n",
    "        Preprocessed sentences, each sentence is a list of words.\n",
    "    - damping: float\n",
    "        The damping factor (typically between 0.85 and 0.95), controlling the probability of randomly jumping to another sentence.\n",
    "    - threshold_conv: float\n",
    "        Threshold value for convergence in the power method.\n",
    "    - threshold_sim: float\n",
    "        Similarity threshold to consider an edge between two sentences.\n",
    "    - w: int\n",
    "        Maximum allowed distance between sentences to compute their similarity score.\n",
    "    - max_iter: int\n",
    "        Maximum number of iterations for the power method. Default is float('inf') (no limit).\n",
    "    \n",
    "    Returns:\n",
    "    - list of tuple\n",
    "        A ranked list of sentences based on their TextRank score, where each tuple contains\n",
    "        the index of the sentence and its corresponding rank score.\n",
    "    \"\"\"\n",
    "\n",
    "    # Compute the number of sentences\n",
    "    n_sentences = len(sentences_as_words)\n",
    "    \n",
    "    # Initialize a sparse matrix using LIL format\n",
    "    sparse_sim_matrix = lil_matrix((n_sentences, n_sentences))\n",
    "\n",
    "    # Construct the sparse adjacency matrix based on sentence similarity\n",
    "    for i, words_i in enumerate(sentences_as_words):\n",
    "        end_idx = min(n_sentences, i + w + 1)  # Ensure we don't go beyond the last index\n",
    "        for j in range(i, end_idx):\n",
    "            similarity_ij = sentence_similarity(words_i, sentences_as_words[j])\n",
    "            # Only consider similarities above threshold_sim\n",
    "            if similarity_ij > threshold_sim: \n",
    "                sparse_sim_matrix[i, j] = similarity_ij\n",
    "                sparse_sim_matrix[j, i] = similarity_ij \n",
    "    \n",
    "    # Convert to CSR format for efficient arithmetic operations\n",
    "    sparse_sim_matrix = sparse_sim_matrix.tocsr()\n",
    "\n",
    "    # Normalize the sparse adjacency matrix to make it stochastic\n",
    "    row_sums = np.array(sparse_sim_matrix.sum(axis = 1)).flatten() + 1e-8\n",
    "    sparse_sim_matrix = sparse_sim_matrix.multiply(1 / row_sums[:, np.newaxis])\n",
    "\n",
    "    # Apply the power method\n",
    "    transposed_matrix = sparse_sim_matrix.T   \n",
    "    # Initialize the PageRank vector (all sentences have equal probability initially)\n",
    "    p_vector = np.ones(n_sentences) / n_sentences\n",
    "    # Random jump value (applied dynamically during each iteration)\n",
    "    random_jump_value = (1.0 - damping) / n_sentences\n",
    "    # Initialize the convergence value\n",
    "    lambda_val = float('inf')\n",
    "\n",
    "    iter_count = 0\n",
    "    while lambda_val > threshold_conv and iter_count < max_iter:\n",
    "        next_p = transposed_matrix.dot(p_vector)\n",
    "        # Apply the random jump as part of the iteration\n",
    "        next_p = damping * next_p + random_jump_value\n",
    "        lambda_val = np.linalg.norm(next_p - p_vector)\n",
    "        # Update the PageRank vector for the next iteration\n",
    "        p_vector = next_p\n",
    "        iter_count += 1\n",
    "\n",
    "    # Rank the sentences based on their PageRank scores\n",
    "    ranked_sentences = sorted(enumerate(p_vector), key = lambda x: x[1], reverse = True)\n",
    "\n",
    "    return ranked_sentences"
   ]
  },
  {
   "cell_type": "code",
   "execution_count": 75,
   "metadata": {},
   "outputs": [],
   "source": [
    "def textrank_metrics_sparse_w(df, num_sent_summary, damping, thresh_conv, thresh_sim, w, max_iter = float('inf'), stemming = True):\n",
    "   '''\n",
    "   This function applies the textrank_sparse_w function on a dataset of articles and evaluates its performance, including execution times and ROUGE scores.\n",
    "\n",
    "   Parameters:\n",
    "   - df: pandas.DataFrame \n",
    "      DataFrame containing articles and reference summaries. Must include preprocessed sentences.\n",
    "   - num_sent_summary: int\n",
    "      Number of sentences to include in the generated summary.\n",
    "   - damping: float\n",
    "      Damping factor for the Textrank algorithm.\n",
    "   - thresh_conv: float\n",
    "      Convergence threshold for Textrank.\n",
    "   - thresh_sim: float\n",
    "      Similarity threshold to consider an edge between two sentences.\n",
    "   - w: int\n",
    "      Maximum allowed distance between sentences to compute their similarity score.\n",
    "   - max_iter: int, optional\n",
    "      Maximum number of iterations for Textrank. Default is float('inf') (no limit).\n",
    "   - stemming: bool, optional\n",
    "      Flag to choose between stemming and lemmatization. Default is True (stemming).\n",
    "\n",
    "   Returns:\n",
    "   - results_metrics: pandas.DataFrame\n",
    "      Pandas DataFrame with aggregated metrics including mean execution times and ROUGE scores.\n",
    "   '''\n",
    "\n",
    "   len_df = len(df)\n",
    "\n",
    "   # Initialize numpy arrays to store metrics for each article\n",
    "   textrank_times = np.zeros(len_df)  # Textrank execution times\n",
    "   rouge_1 = np.zeros(len_df)  # ROUGE-1 F1 scores\n",
    "   rouge_2 = np.zeros(len_df)  # ROUGE-2 F1 scores\n",
    "   rouge_l = np.zeros(len_df)  # ROUGE-L F1 scores\n",
    "\n",
    "   # Initialize the ROUGE metric for evaluating summaries\n",
    "   rouge = Rouge()\n",
    "\n",
    "   # Iterate over each article in the DataFrame\n",
    "   for i, row in tqdm(df.iterrows(), total = len_df):\n",
    "      \n",
    "      # Extract article sentences and reference summary\n",
    "      sentences = row['article_sent']\n",
    "      reference_summary = row['highlights']\n",
    "      # Use preprocessed sentences based on the stemming flag\n",
    "      preprocessed_sentences = row['preproc_stem'] if stemming else row['preproc_lem']\n",
    "\n",
    "      # Start measuring execution time\n",
    "      start_time = time.time()\n",
    "      # Apply Textrank\n",
    "      ranked_sentences = textrank_sparse_w(preprocessed_sentences, damping, thresh_conv, thresh_sim, w, max_iter)\n",
    "      # Measure execution time and store the result\n",
    "      textrank_times[i] = time.time() - start_time\n",
    "\n",
    "      # Generate the summary based on the top-ranked sentences\n",
    "      summary_indices = [index for index, _ in ranked_sentences[:num_sent_summary]]\n",
    "      candidate_summary = \" \".join([sentences[index] for index in sorted(summary_indices)])\n",
    "\n",
    "      # Calculate ROUGE scores for the generated summary\n",
    "      rouge_scores = rouge.get_scores(candidate_summary, reference_summary)[0]\n",
    "      rouge_1[i] = rouge_scores['rouge-1']['f']\n",
    "      rouge_2[i] = rouge_scores['rouge-2']['f']\n",
    "      rouge_l[i] = rouge_scores['rouge-l']['f']\n",
    "\n",
    "   # Aggregate results across all articles\n",
    "   results_metrics = {\n",
    "      'mean_exec_time': np.mean(textrank_times),  # Mean execution time of Textrank\n",
    "      'rouge_1_mean': np.mean(rouge_1),  # Mean ROUGE-1 F1 score\n",
    "      'rouge_2_mean': np.mean(rouge_2),  # Mean ROUGE-2 F1 score\n",
    "      'rouge_l_mean': np.mean(rouge_l)  # Mean ROUGE-L F1 score\n",
    "   }\n",
    "\n",
    "   results_metrics = pd.DataFrame({k: [round(v, 4)] for k, v in results_metrics.items()})\n",
    "   \n",
    "   return results_metrics"
   ]
  },
  {
   "cell_type": "markdown",
   "metadata": {},
   "source": [
    "### Choosing the window size $\\textit{w}$"
   ]
  },
  {
   "cell_type": "markdown",
   "metadata": {},
   "source": [
    "To determine the optimal value of $\\textit{w}$ for our dataset, we evaluate the performance of the `textrank_sparse_w` function on `sample_df`, using various window sizes, specifically $w\\in\\{3,5,8,10,12,15\\}$.  We stop at $\\textit{w}= 15$ as this value is less than half the mean number of sentences per article in our dataset ($\\approx 37.19$). For each value of $\\textit{w}$, we apply the algorithm using the previously optimized parametrs, and measure both the mean execution time and the mean ROUGE scores."
   ]
  },
  {
   "cell_type": "code",
   "execution_count": 76,
   "metadata": {},
   "outputs": [
    {
     "name": "stderr",
     "output_type": "stream",
     "text": [
      "100%|██████████| 31108/31108 [06:54<00:00, 75.06it/s]  \n",
      "100%|██████████| 31108/31108 [05:27<00:00, 95.03it/s] \n",
      "100%|██████████| 31108/31108 [06:16<00:00, 82.57it/s] \n",
      "100%|██████████| 31108/31108 [06:54<00:00, 74.97it/s]\n",
      "100%|██████████| 31108/31108 [09:42<00:00, 53.42it/s]   \n",
      "100%|██████████| 31108/31108 [07:34<00:00, 68.38it/s]\n"
     ]
    },
    {
     "data": {
      "text/html": [
       "<div>\n",
       "<style scoped>\n",
       "    .dataframe tbody tr th:only-of-type {\n",
       "        vertical-align: middle;\n",
       "    }\n",
       "\n",
       "    .dataframe tbody tr th {\n",
       "        vertical-align: top;\n",
       "    }\n",
       "\n",
       "    .dataframe thead th {\n",
       "        text-align: right;\n",
       "    }\n",
       "</style>\n",
       "<table border=\"1\" class=\"dataframe\">\n",
       "  <thead>\n",
       "    <tr style=\"text-align: right;\">\n",
       "      <th></th>\n",
       "      <th>w</th>\n",
       "      <th>mean_exec_time</th>\n",
       "      <th>rouge_1_mean</th>\n",
       "      <th>rouge_2_mean</th>\n",
       "      <th>rouge_l_mean</th>\n",
       "    </tr>\n",
       "  </thead>\n",
       "  <tbody>\n",
       "    <tr>\n",
       "      <th>0</th>\n",
       "      <td>3</td>\n",
       "      <td>0.0042</td>\n",
       "      <td>0.2676</td>\n",
       "      <td>0.0823</td>\n",
       "      <td>0.2456</td>\n",
       "    </tr>\n",
       "    <tr>\n",
       "      <th>1</th>\n",
       "      <td>5</td>\n",
       "      <td>0.0053</td>\n",
       "      <td>0.2730</td>\n",
       "      <td>0.0855</td>\n",
       "      <td>0.2508</td>\n",
       "    </tr>\n",
       "    <tr>\n",
       "      <th>2</th>\n",
       "      <td>8</td>\n",
       "      <td>0.0069</td>\n",
       "      <td>0.2779</td>\n",
       "      <td>0.0883</td>\n",
       "      <td>0.2554</td>\n",
       "    </tr>\n",
       "    <tr>\n",
       "      <th>3</th>\n",
       "      <td>10</td>\n",
       "      <td>0.0078</td>\n",
       "      <td>0.2805</td>\n",
       "      <td>0.0898</td>\n",
       "      <td>0.2578</td>\n",
       "    </tr>\n",
       "    <tr>\n",
       "      <th>4</th>\n",
       "      <td>12</td>\n",
       "      <td>0.0087</td>\n",
       "      <td>0.2828</td>\n",
       "      <td>0.0913</td>\n",
       "      <td>0.2602</td>\n",
       "    </tr>\n",
       "    <tr>\n",
       "      <th>5</th>\n",
       "      <td>15</td>\n",
       "      <td>0.0097</td>\n",
       "      <td>0.2854</td>\n",
       "      <td>0.0931</td>\n",
       "      <td>0.2626</td>\n",
       "    </tr>\n",
       "  </tbody>\n",
       "</table>\n",
       "</div>"
      ],
      "text/plain": [
       "    w  mean_exec_time  rouge_1_mean  rouge_2_mean  rouge_l_mean\n",
       "0   3          0.0042        0.2676        0.0823        0.2456\n",
       "1   5          0.0053        0.2730        0.0855        0.2508\n",
       "2   8          0.0069        0.2779        0.0883        0.2554\n",
       "3  10          0.0078        0.2805        0.0898        0.2578\n",
       "4  12          0.0087        0.2828        0.0913        0.2602\n",
       "5  15          0.0097        0.2854        0.0931        0.2626"
      ]
     },
     "execution_count": 76,
     "metadata": {},
     "output_type": "execute_result"
    }
   ],
   "source": [
    "# Initialize the selected parameters\n",
    "num_sent_summary = 4\n",
    "damping = 0.85\n",
    "thresh_conv = 1e-3\n",
    "thresh_sim = 0.35\n",
    "max_iter = 8\n",
    "# Define w values to test\n",
    "w_values = [3, 5, 8, 10, 12, 15]\n",
    "\n",
    "# Iterate over each element in w_values and store the results in a DataFrame\n",
    "results_w = pd.DataFrame()\n",
    "for w in w_values:\n",
    "    results_metrics = textrank_metrics_sparse_w(sample_df, num_sent_summary, damping, thresh_conv, thresh_sim,\n",
    "                                                w, max_iter, stemming = True)\n",
    "    results_w = pd.concat([results_w, results_metrics], ignore_index = True)\n",
    "\n",
    "results_w.insert(0, 'w', w_values)\n",
    "results_w"
   ]
  },
  {
   "cell_type": "markdown",
   "metadata": {},
   "source": [
    "The results reveal a clear trade-off between execution time and summarization quality: as $\\textit{w}$ increases, the ROUGE scores gradually improve, reflecting a more comprehensive consideration of sentence similarities. However, this comes at the cost of increased execution time.\\\n",
    "We choose as optimal window size $\\textit{w} = 12$ since it balances efficiency and accuracy: the ROUGE scores are close to the highest values observed, indicating a robust summarization performance. Additionally, the mean execution time ($0.0087s$) remains manageable and only slightly higher than the one corresponding to $\\textit{w}=10$."
   ]
  },
  {
   "cell_type": "markdown",
   "metadata": {},
   "source": [
    "We can now apply `textrank_sparse_w` to the whole dataset `df` using the optimized parameters and show the corresponding performance metrics."
   ]
  },
  {
   "cell_type": "code",
   "execution_count": 77,
   "metadata": {},
   "outputs": [
    {
     "name": "stderr",
     "output_type": "stream",
     "text": [
      "100%|██████████| 103700/103700 [30:11<00:00, 57.25it/s]  \n"
     ]
    },
    {
     "data": {
      "text/html": [
       "<div>\n",
       "<style scoped>\n",
       "    .dataframe tbody tr th:only-of-type {\n",
       "        vertical-align: middle;\n",
       "    }\n",
       "\n",
       "    .dataframe tbody tr th {\n",
       "        vertical-align: top;\n",
       "    }\n",
       "\n",
       "    .dataframe thead th {\n",
       "        text-align: right;\n",
       "    }\n",
       "</style>\n",
       "<table border=\"1\" class=\"dataframe\">\n",
       "  <thead>\n",
       "    <tr style=\"text-align: right;\">\n",
       "      <th></th>\n",
       "      <th>mean_exec_time</th>\n",
       "      <th>rouge_1_mean</th>\n",
       "      <th>rouge_2_mean</th>\n",
       "      <th>rouge_l_mean</th>\n",
       "    </tr>\n",
       "  </thead>\n",
       "  <tbody>\n",
       "    <tr>\n",
       "      <th>0</th>\n",
       "      <td>0.0088</td>\n",
       "      <td>0.2829</td>\n",
       "      <td>0.0914</td>\n",
       "      <td>0.2601</td>\n",
       "    </tr>\n",
       "  </tbody>\n",
       "</table>\n",
       "</div>"
      ],
      "text/plain": [
       "   mean_exec_time  rouge_1_mean  rouge_2_mean  rouge_l_mean\n",
       "0          0.0088        0.2829        0.0914        0.2601"
      ]
     },
     "execution_count": 77,
     "metadata": {},
     "output_type": "execute_result"
    }
   ],
   "source": [
    "# Initialize the optimized parameters\n",
    "num_sent_summary = 4\n",
    "damping = 0.85\n",
    "thresh_conv = 1e-3\n",
    "thresh_sim = 0.35\n",
    "max_iter = 8\n",
    "w = 12\n",
    "\n",
    "# Apply textrank_sparse_w to the whole dataset and store the performance metrics\n",
    "results_textrank_3 = textrank_metrics_sparse_w(df, num_sent_summary, damping, thresh_conv, thresh_sim, w, max_iter, stemming = True)\n",
    "\n",
    "results_textrank_3"
   ]
  },
  {
   "cell_type": "markdown",
   "metadata": {},
   "source": [
    "### Dynamic $\\textit{w}$"
   ]
  },
  {
   "cell_type": "markdown",
   "metadata": {},
   "source": [
    "To further enhance computational efficiency, we propose a slight variation that makes the parameter $\\textit{w}$ 'dynamic', meaning its value decreases as we progress through the text. This approach is motivated by the observation that the most important sentences tend to be located at the beginning of the text, especially in articles."
   ]
  },
  {
   "cell_type": "markdown",
   "metadata": {},
   "source": [
    "To verify this for our dataset, we analyze the positional frequencies of sentences selected by the functions `textrank` and `textrank_sparse`. The results, illustrated in the bar plots below, indicate that both algorithms consistently select more sentences from the initial positions of the text. Notice that we use the `sample_df`DataFrame to produce both plots."
   ]
  },
  {
   "cell_type": "markdown",
   "metadata": {},
   "source": [
    "textrank:"
   ]
  },
  {
   "cell_type": "code",
   "execution_count": 112,
   "metadata": {},
   "outputs": [
    {
     "name": "stderr",
     "output_type": "stream",
     "text": [
      "100%|██████████| 31108/31108 [08:55<00:00, 58.09it/s] \n"
     ]
    },
    {
     "data": {
      "image/png": "[encoded data removed]",
      "text/plain": [
       "<Figure size 600x400 with 1 Axes>"
      ]
     },
     "metadata": {},
     "output_type": "display_data"
    }
   ],
   "source": [
    "# Set parameters for TextRank algorithm\n",
    "num_sent_summary = 4\n",
    "damping = 0.85\n",
    "thresh_conv = 1e-3\n",
    "max_iter = 8\n",
    "\n",
    "# Initialize a list to store the indices of the chosen sentences across all articles\n",
    "chosen_sent_indices = []\n",
    "\n",
    "# Iterate through each article in the sample_df DataFrame\n",
    "for i in tqdm(range(len_sample_df)):\n",
    "    \n",
    "    # Extract preprocessed sentences\n",
    "    preproc_sentences = sample_df.loc[i]['preproc_stem']\n",
    "    \n",
    "    # Run TextRank algorithm and get the ranking\n",
    "    ranked_sentences, _ = textrank(preproc_sentences, damping, thresh_conv, max_iter)\n",
    "    \n",
    "    # Store the indices of the top num_sent_summary ranked sentences and add them to the list\n",
    "    top_ranked_indices = [sent_index for sent_index, _ in ranked_sentences[:num_sent_summary]]\n",
    "    chosen_sent_indices.extend(top_ranked_indices)\n",
    "\n",
    "# Create a Counter to count how many times each sentence index was chosen\n",
    "sent_position_counter = Counter(chosen_sent_indices)\n",
    "# Convert the Counter to a DataFrame for easier plotting\n",
    "df_sent_counts_1 = pd.DataFrame(list(sent_position_counter.items()), columns = ['sentence_position', 'count'])\n",
    "# Sort by sentence position to ensure the plot is ordered\n",
    "df_sent_counts_1 = df_sent_counts_1.sort_values('sentence_position').reset_index(drop = True)\n",
    "\n",
    "# Plot a countplot of how often each sentence position is selected\n",
    "plt.figure(figsize = (6, 4))\n",
    "sns.barplot(x = 'sentence_position', y = 'count', data = df_sent_counts_1[0:10], palette = 'Blues_d') # Add hue = 'sentence_position' on google Colab\n",
    "\n",
    "plt.title('Frequency of Sentence Positions Chosen by textrank')\n",
    "plt.xlabel('Sentence Position in Article')\n",
    "plt.ylabel('Count')\n",
    "plt.xticks(rotation = 45)\n",
    "plt.tight_layout()\n",
    "plt.show()"
   ]
  },
  {
   "cell_type": "markdown",
   "metadata": {},
   "source": [
    "textrank_sparse:"
   ]
  },
  {
   "cell_type": "code",
   "execution_count": 111,
   "metadata": {},
   "outputs": [
    {
     "name": "stderr",
     "output_type": "stream",
     "text": [
      "100%|██████████| 31108/31108 [08:43<00:00, 59.45it/s] \n"
     ]
    },
    {
     "data": {
      "image/png": "[encoded data removed]",
      "text/plain": [
       "<Figure size 600x400 with 1 Axes>"
      ]
     },
     "metadata": {},
     "output_type": "display_data"
    }
   ],
   "source": [
    "# Set parameters for textrank_sparse algorithm\n",
    "num_sent_summary = 4\n",
    "damping = 0.85\n",
    "thresh_conv = 1e-3\n",
    "thresh_sim = 0.35\n",
    "max_iter = 8\n",
    "\n",
    "# Initialize a list to store the indices of the chosen sentences across all articles\n",
    "chosen_sent_indices = []\n",
    "\n",
    "# Iterate through each article in the sample_df DataFrame\n",
    "for i in tqdm(range(len_sample_df)):\n",
    "    \n",
    "    # Extract preprocessed sentences\n",
    "    preproc_sentences = sample_df.loc[i]['preproc_stem']\n",
    "    \n",
    "    # Run textRank_sparse algorithm and get the ranking\n",
    "    ranked_sentences = textrank_sparse(preproc_sentences, damping, thresh_conv, thresh_sim, max_iter)\n",
    "    \n",
    "    # Store the indices of the top num_sent_summary ranked sentences and add them to the list\n",
    "    top_ranked_indices = [sent_index for sent_index, _ in ranked_sentences[:num_sent_summary]]\n",
    "    chosen_sent_indices.extend(top_ranked_indices)\n",
    "\n",
    "# Create a Counter to count how many times each sentence index was chosen\n",
    "sent_position_counter = Counter(chosen_sent_indices)\n",
    "# Convert the Counter to a DataFrame for easier plotting\n",
    "df_sent_counts_2 = pd.DataFrame(list(sent_position_counter.items()), columns = ['sentence_position', 'count'])\n",
    "# Sort by sentence position to ensure the plot is ordered\n",
    "df_sent_counts_2 = df_sent_counts_2.sort_values('sentence_position').reset_index(drop = True)\n",
    "\n",
    "# Plot a countplot of how often each sentence position is selected\n",
    "plt.figure(figsize = (6, 4))\n",
    "sns.barplot(x = 'sentence_position', y = 'count', data = df_sent_counts_2[0:10], palette = 'Blues_d') # Add hue = 'sentence_position' on google Colab\n",
    "\n",
    "plt.title('Frequency of Sentence Positions Chosen by textrank_sparse')\n",
    "plt.xlabel('Sentence Position in Article')\n",
    "plt.ylabel('Count')\n",
    "plt.xticks(rotation = 45)\n",
    "plt.tight_layout()\n",
    "plt.show()"
   ]
  },
  {
   "cell_type": "markdown",
   "metadata": {},
   "source": [
    "The plots suggest that sentences near the beginning of a text are often the most relevant. Consequently, it is essential to compute almost all similarities involving these initial sentences. On the contrary, as we move further into the text, sentences tend to be less important for summarization. Hence, by gradually reducing $\\textit{w}$, we can skip computing similarities between less relevant sentences, improving efficiency while maintaining a good performance."
   ]
  },
  {
   "cell_type": "markdown",
   "metadata": {},
   "source": [
    "The dynamic $\\textit{w}$ is computed using a simple linear interpolation function that adjusts $\\textit{w}$ based on the sentence's relative position in the text. Below are the functions needed to implement this variation."
   ]
  },
  {
   "cell_type": "code",
   "execution_count": 80,
   "metadata": {},
   "outputs": [],
   "source": [
    "def compute_dynamic_w(n_sentences, i, max_w, min_w = 1):\n",
    "    \"\"\"\n",
    "    Compute a dynamic value of w based on the sentence position.\n",
    "    \n",
    "    Parameters:\n",
    "    - n_sentences: int\n",
    "       Total number of sentences in the article\n",
    "    - i: int \n",
    "       Current sentence index\n",
    "    - max_w: int \n",
    "       Maximum value of w\n",
    "    - min_w: int \n",
    "       Minimum value of w\n",
    "\n",
    "    Returns:\n",
    "    - dynamic_w: int\n",
    "       Dynamic value of w for the current sentence\n",
    "    \"\"\"\n",
    "    # Calculate the relative position of the sentence in the article\n",
    "    relative_position = i / (n_sentences - 1)\n",
    "    \n",
    "    # Compute w using a linear interpolation between max_w and min_w\n",
    "    dynamic_w = int(max_w - (max_w - min_w) * relative_position)\n",
    "    \n",
    "    return max(dynamic_w, min_w)\n",
    "\n",
    "def textrank_sparse_w_dynamic(sentences_as_words, damping, threshold_conv, threshold_sim, w, max_iter = float('inf')):\n",
    "    \"\"\"\n",
    "    Apply the TextRank algorithm with sparsification to rank sentences based on their similarity, limiting the similarity computation to sentences whose distance is <= w, where w is adjusted dynamically.\n",
    "\n",
    "    Parameters:\n",
    "    - sentences_as_words: list of list of str\n",
    "        Preprocessed sentences, each sentence is a list of words.\n",
    "    - damping: float\n",
    "        The damping factor (typically between 0.85 and 0.95), controlling the probability of randomly jumping to another sentence.\n",
    "    - threshold_conv: float\n",
    "        Threshold value for convergence in the power method.\n",
    "    - threshold_sim: float\n",
    "        Similarity threshold to consider an edge between two sentences.\n",
    "    - w: int\n",
    "        Maximum allowed distance between sentences to compute their similarity score.\n",
    "    - max_iter: int\n",
    "        Maximum number of iterations for the power method. Default is float('inf') (no limit).\n",
    "    \n",
    "    Returns:\n",
    "    - list of tuple\n",
    "        A ranked list of sentences based on their TextRank score, where each tuple contains\n",
    "        the index of the sentence and its corresponding rank score.\n",
    "    \"\"\"\n",
    "\n",
    "    # Compute the number of sentences\n",
    "    n_sentences = len(sentences_as_words)\n",
    "\n",
    "    # Store the initial w value\n",
    "    max_w = w\n",
    "    \n",
    "    # Initialize a sparse matrix using LIL format\n",
    "    sparse_sim_matrix = lil_matrix((n_sentences, n_sentences))\n",
    "\n",
    "    # Construct the sparse adjacency matrix based on sentence similarity\n",
    "    for i, words_i in enumerate(sentences_as_words):      \n",
    "        w = compute_dynamic_w(n_sentences, i, max_w)\n",
    "        end_idx = min(n_sentences, i + w + 1)  # Ensure we don't go beyond the last index\n",
    "        for j in range(i, end_idx):\n",
    "            similarity_ij = sentence_similarity(words_i, sentences_as_words[j])\n",
    "            # Only consider similarities above threshold_sim\n",
    "            if similarity_ij > threshold_sim: \n",
    "                sparse_sim_matrix[i, j] = similarity_ij\n",
    "                sparse_sim_matrix[j, i] = similarity_ij \n",
    "    \n",
    "    # Convert to CSR format for efficient arithmetic operations\n",
    "    sparse_sim_matrix = sparse_sim_matrix.tocsr()\n",
    "\n",
    "    # Normalize the sparse adjacency matrix to make it stochastic\n",
    "    row_sums = np.array(sparse_sim_matrix.sum(axis = 1)).flatten() + 1e-8\n",
    "    sparse_sim_matrix = sparse_sim_matrix.multiply(1 / row_sums[:, np.newaxis])\n",
    "\n",
    "    # Apply the power method\n",
    "    transposed_matrix = sparse_sim_matrix.T   \n",
    "    # Initialize the PageRank vector (all sentences have equal probability initially)\n",
    "    p_vector = np.ones(n_sentences) / n_sentences\n",
    "    # Random jump value (applied dynamically during each iteration)\n",
    "    random_jump_value = (1.0 - damping) / n_sentences\n",
    "    # Initialize the convergence value\n",
    "    lambda_val = float('inf')\n",
    "\n",
    "    iter_count = 0\n",
    "    while lambda_val > threshold_conv and iter_count < max_iter:\n",
    "        next_p = transposed_matrix.dot(p_vector)\n",
    "        # Apply the random jump as part of the iteration\n",
    "        next_p = damping * next_p + random_jump_value\n",
    "        lambda_val = np.linalg.norm(next_p - p_vector)\n",
    "        # Update the PageRank vector for the next iteration\n",
    "        p_vector = next_p\n",
    "        iter_count += 1\n",
    "\n",
    "    # Rank the sentences based on their PageRank scores\n",
    "    ranked_sentences = sorted(enumerate(p_vector), key = lambda x: x[1], reverse = True)\n",
    "\n",
    "    return ranked_sentences"
   ]
  },
  {
   "cell_type": "code",
   "execution_count": 81,
   "metadata": {},
   "outputs": [],
   "source": [
    "def textrank_metrics_sparse_w_dynamic(df, num_sent_summary, damping, thresh_conv, thresh_sim, w, max_iter = float('inf'), stemming = True):\n",
    "   '''\n",
    "   This function applies textrank_sparse_w_dynamic on a dataset of articles and evaluates its performance, including execution times and ROUGE scores.\n",
    "\n",
    "   Parameters:\n",
    "   - df: pandas.DataFrame \n",
    "      DataFrame containing articles and reference summaries. Must include preprocessed sentences.\n",
    "   - num_sent_summary: int\n",
    "      Number of sentences to include in the generated summary.\n",
    "   - damping: float\n",
    "      Damping factor for the Textrank algorithm.\n",
    "   - thresh_conv: float\n",
    "      Convergence threshold for Textrank.\n",
    "   - thresh_sim: float\n",
    "      Similarity threshold to consider an edge between two sentences.\n",
    "   - w: int\n",
    "      Maximum allowed distance between sentences to compute their similarity score.\n",
    "   - max_iter: int, optional\n",
    "      Maximum number of iterations for Textrank. Default is float('inf') (no limit).\n",
    "   - stemming: bool, optional\n",
    "      Flag to choose between stemming and lemmatization. Default is True (stemming).\n",
    "\n",
    "   Returns:\n",
    "   - results_metrics: pandas.DataFrame\n",
    "      Pandas DataFrame with aggregated metrics including mean execution times and ROUGE scores.\n",
    "   '''\n",
    "\n",
    "   len_df = len(df)\n",
    "\n",
    "   # Initialize numpy arrays to store metrics for each article\n",
    "   textrank_times = np.zeros(len_df)  # Textrank execution times\n",
    "   rouge_1 = np.zeros(len_df)  # ROUGE-1 F1 scores\n",
    "   rouge_2 = np.zeros(len_df)  # ROUGE-2 F1 scores\n",
    "   rouge_l = np.zeros(len_df)  # ROUGE-L F1 scores\n",
    "\n",
    "   # Initialize the ROUGE metric for evaluating summaries\n",
    "   rouge = Rouge()\n",
    "\n",
    "   # Iterate over each article in the DataFrame\n",
    "   for i, row in tqdm(df.iterrows(), total = len_df):\n",
    "      \n",
    "      # Extract article sentences and reference summary\n",
    "      sentences = row['article_sent']\n",
    "      reference_summary = row['highlights']\n",
    "      # Use preprocessed sentences based on the stemming flag\n",
    "      preprocessed_sentences = row['preproc_stem'] if stemming else row['preproc_lem']\n",
    "\n",
    "      # Start measuring execution time\n",
    "      start_time = time.time()\n",
    "      # Apply Textrank\n",
    "      ranked_sentences = textrank_sparse_w_dynamic(preprocessed_sentences, damping, thresh_conv, thresh_sim, w, max_iter)\n",
    "      # Measure execution time and store the result\n",
    "      textrank_times[i] = time.time() - start_time\n",
    "\n",
    "      # Generate the summary based on the top-ranked sentences\n",
    "      summary_indices = [index for index, _ in ranked_sentences[:num_sent_summary]]\n",
    "      candidate_summary = \" \".join([sentences[index] for index in sorted(summary_indices)])\n",
    "\n",
    "      # Calculate ROUGE scores for the generated summary\n",
    "      rouge_scores = rouge.get_scores(candidate_summary, reference_summary)[0]\n",
    "      rouge_1[i] = rouge_scores['rouge-1']['f']\n",
    "      rouge_2[i] = rouge_scores['rouge-2']['f']\n",
    "      rouge_l[i] = rouge_scores['rouge-l']['f']\n",
    "\n",
    "   # Aggregate results across all articles\n",
    "   results_metrics = {\n",
    "      'mean_exec_time': np.mean(textrank_times),  # Mean execution time of Textrank\n",
    "      'rouge_1_mean': np.mean(rouge_1),  # Mean ROUGE-1 F1 score\n",
    "      'rouge_2_mean': np.mean(rouge_2),  # Mean ROUGE-2 F1 score\n",
    "      'rouge_l_mean': np.mean(rouge_l)  # Mean ROUGE-L F1 score\n",
    "   }\n",
    "\n",
    "   results_metrics = pd.DataFrame({k: [round(v, 4)] for k, v in results_metrics.items()})\n",
    "   \n",
    "   return results_metrics"
   ]
  },
  {
   "cell_type": "markdown",
   "metadata": {},
   "source": [
    "We can now apply the `textrank_sparse_w_dynamic` function to the whole dataset `df` using the optimized parameters and a dynamic window size starting from $\\textit{w} = 12$. Below are the corresponding performance metrics."
   ]
  },
  {
   "cell_type": "code",
   "execution_count": 82,
   "metadata": {},
   "outputs": [
    {
     "name": "stderr",
     "output_type": "stream",
     "text": [
      "100%|██████████| 103700/103700 [24:54<00:00, 69.38it/s]  \n"
     ]
    },
    {
     "data": {
      "text/html": [
       "<div>\n",
       "<style scoped>\n",
       "    .dataframe tbody tr th:only-of-type {\n",
       "        vertical-align: middle;\n",
       "    }\n",
       "\n",
       "    .dataframe tbody tr th {\n",
       "        vertical-align: top;\n",
       "    }\n",
       "\n",
       "    .dataframe thead th {\n",
       "        text-align: right;\n",
       "    }\n",
       "</style>\n",
       "<table border=\"1\" class=\"dataframe\">\n",
       "  <thead>\n",
       "    <tr style=\"text-align: right;\">\n",
       "      <th></th>\n",
       "      <th>mean_exec_time</th>\n",
       "      <th>rouge_1_mean</th>\n",
       "      <th>rouge_2_mean</th>\n",
       "      <th>rouge_l_mean</th>\n",
       "    </tr>\n",
       "  </thead>\n",
       "  <tbody>\n",
       "    <tr>\n",
       "      <th>0</th>\n",
       "      <td>0.0068</td>\n",
       "      <td>0.2884</td>\n",
       "      <td>0.0954</td>\n",
       "      <td>0.2655</td>\n",
       "    </tr>\n",
       "  </tbody>\n",
       "</table>\n",
       "</div>"
      ],
      "text/plain": [
       "   mean_exec_time  rouge_1_mean  rouge_2_mean  rouge_l_mean\n",
       "0          0.0068        0.2884        0.0954        0.2655"
      ]
     },
     "execution_count": 82,
     "metadata": {},
     "output_type": "execute_result"
    }
   ],
   "source": [
    "# Initialize the optimized parameters\n",
    "num_sent_summary = 4\n",
    "damping = 0.85\n",
    "thresh_conv = 1e-3\n",
    "thresh_sim = 0.35\n",
    "max_iter = 8\n",
    "w = 12\n",
    "\n",
    "# Apply textrank_sparse_w_dynamic to the whole dataset and store the performance metrics\n",
    "results_textrank_4 = textrank_metrics_sparse_w_dynamic(df, num_sent_summary, damping, thresh_conv, thresh_sim, w, max_iter, stemming = True)\n",
    "\n",
    "results_textrank_4"
   ]
  },
  {
   "cell_type": "markdown",
   "metadata": {},
   "source": [
    "# Performance comparison"
   ]
  },
  {
   "cell_type": "markdown",
   "metadata": {},
   "source": [
    "To evaluate the performance of the introduced improvements and compare them with the original `textrank` function, we first compute the mean peak memory usage using the `tracemalloc` library. We measure it on the `sample_df` DataFrame due to computational constraints."
   ]
  },
  {
   "cell_type": "code",
   "execution_count": 83,
   "metadata": {},
   "outputs": [],
   "source": [
    "def get_textrank_memory(df, damping, thresh_conv, thresh_sim = None, w = None, max_iter = float('inf'), \n",
    "                        stemming = True, alg_number = 1):\n",
    "    '''\n",
    "    Function to compute the mean memory usage of the TextRank algorithm (or its variants) on a given dataset of articles. It uses the tracemalloc library.\n",
    "\n",
    "    Parameters:\n",
    "    - df: pandas.DataFrame \n",
    "        DataFrame containing articles and reference summaries. Must include preprocessed sentences.\n",
    "    - damping: float\n",
    "        Damping factor for the Textrank algorithm.\n",
    "    - thresh_conv: float\n",
    "        Convergence threshold for Textrank.\n",
    "    - thresh_sim: float, optional\n",
    "        Similarity threshold to consider an edge between two sentences.\n",
    "    - w: int, optional\n",
    "        Maximum allowed distance between sentences to compute their similarity score.\n",
    "    - max_iter: int, optional\n",
    "        Maximum number of iterations for Textrank. Default is float('inf') (no limit).\n",
    "    - stemming: bool, optional\n",
    "        Flag to choose between stemming and lemmatization. Default is True (stemming).\n",
    "    - alg_number: int, optional\n",
    "        Algorithm selector. If 1, uses standard TextRank. If 2, uses textrank_sparse. If 3, \n",
    "        uses textrank_sparse_w. If 4, uses textrank_sparse_w_dynamic.\n",
    "\n",
    "    Returns:\n",
    "    - mean_memory_usage: float\n",
    "        The mean peak memory usage (in MB) during the execution of the TextRank algorithm over all articles.\n",
    "    '''   \n",
    "    \n",
    "    len_df = len(df)\n",
    "\n",
    "    # Initialize an array to store memory usage for each article\n",
    "    textrank_memory = np.zeros(len_df)\n",
    "\n",
    "    # Iterate over each article in the df DataFrame\n",
    "    for i, row in tqdm(df.iterrows(), total = len_df):\n",
    "        \n",
    "        # Use preprocessed sentences based on the stemming flag\n",
    "        preproc_sentences = row['preproc_stem'] if stemming else row['preproc_lem']\n",
    "\n",
    "        # Start measuring memory usage using tracemalloc\n",
    "        tracemalloc.start()\n",
    "        # Apply the appropriate version of the TextRank algorithm based on 'alg_number'\n",
    "        if alg_number == 1:\n",
    "           _, _ = textrank(preproc_sentences, damping, thresh_conv, max_iter)\n",
    "        elif alg_number == 2:\n",
    "            _ = textrank_sparse(preproc_sentences, damping, thresh_conv, thresh_sim, max_iter)\n",
    "        elif alg_number == 3:\n",
    "            _ = textrank_sparse_w(preproc_sentences, damping, thresh_conv, thresh_sim, w, max_iter)\n",
    "        else:\n",
    "            _ = textrank_sparse_w_dynamic(preproc_sentences, damping, thresh_conv, thresh_sim, w, max_iter)\n",
    "             \n",
    "        # Get peak memory usage during algorithm execution\n",
    "        _, peak = tracemalloc.get_traced_memory()\n",
    "        textrank_memory[i] = peak / 1024 / 1024 # Convert from bytes to MB\n",
    "        # Stop tracing memory after each article\n",
    "        tracemalloc.stop()\n",
    "\n",
    "    # Calculate the mean memory usage across all articles\n",
    "    mean_memory_usage = np.mean(textrank_memory)\n",
    "\n",
    "    return mean_memory_usage"
   ]
  },
  {
   "cell_type": "code",
   "execution_count": 84,
   "metadata": {},
   "outputs": [],
   "source": [
    "# Initialize the optimized parameters\n",
    "damping = 0.85\n",
    "thresh_conv = 1e-3\n",
    "thresh_sim = 0.3\n",
    "max_iter = 8\n",
    "w = 12"
   ]
  },
  {
   "cell_type": "code",
   "execution_count": 110,
   "metadata": {},
   "outputs": [
    {
     "name": "stderr",
     "output_type": "stream",
     "text": [
      "100%|██████████| 31108/31108 [31:21<00:00, 16.53it/s]\n"
     ]
    },
    {
     "name": "stdout",
     "output_type": "stream",
     "text": [
      "The average memory used by textrank algorithm is 0.0577 MB per article.\n"
     ]
    }
   ],
   "source": [
    "# Mean peak memory usage with textrank\n",
    "mean_memory_usage_1 = get_textrank_memory(sample_df, damping, thresh_conv, max_iter = max_iter, stemming = True, alg_number = 1)\n",
    "print(f\"The average memory used by textrank algorithm is {mean_memory_usage_1:.4f} MB per article.\")"
   ]
  },
  {
   "cell_type": "code",
   "execution_count": 86,
   "metadata": {},
   "outputs": [
    {
     "name": "stderr",
     "output_type": "stream",
     "text": [
      "100%|██████████| 31108/31108 [31:48<00:00, 16.30it/s]"
     ]
    },
    {
     "name": "stdout",
     "output_type": "stream",
     "text": [
      "The average memory used by textrank_sparse algorithm is 0.0187 MB per article.\n"
     ]
    },
    {
     "name": "stderr",
     "output_type": "stream",
     "text": [
      "\n"
     ]
    }
   ],
   "source": [
    "# Mean peak memory usage with textrank_sparse\n",
    "mean_memory_usage_2 = get_textrank_memory(sample_df, damping, thresh_conv, thresh_sim, max_iter = max_iter, stemming = True, alg_number = 2)\n",
    "print(f\"The average memory used by textrank_sparse algorithm is {mean_memory_usage_2:.4f} MB per article.\")"
   ]
  },
  {
   "cell_type": "code",
   "execution_count": 87,
   "metadata": {},
   "outputs": [
    {
     "name": "stderr",
     "output_type": "stream",
     "text": [
      "100%|██████████| 31108/31108 [17:03<00:00, 30.40it/s]"
     ]
    },
    {
     "name": "stdout",
     "output_type": "stream",
     "text": [
      "The average memory used by textrank_sparse_w algorithm is 0.0134 MB per article.\n"
     ]
    },
    {
     "name": "stderr",
     "output_type": "stream",
     "text": [
      "\n"
     ]
    }
   ],
   "source": [
    "# Mean peak memory usage with textrank_sparse_w\n",
    "mean_memory_usage_3 = get_textrank_memory(sample_df, damping, thresh_conv, thresh_sim, w, max_iter = max_iter, stemming = True, alg_number = 3)\n",
    "print(f\"The average memory used by textrank_sparse_w algorithm is {mean_memory_usage_3:.4f} MB per article.\")"
   ]
  },
  {
   "cell_type": "code",
   "execution_count": 88,
   "metadata": {},
   "outputs": [
    {
     "name": "stderr",
     "output_type": "stream",
     "text": [
      "100%|██████████| 31108/31108 [12:24<00:00, 41.77it/s]\n"
     ]
    },
    {
     "name": "stdout",
     "output_type": "stream",
     "text": [
      "The average memory used by textrank_sparse_w_dynamic algorithm is 0.0134 MB per article.\n"
     ]
    }
   ],
   "source": [
    "# Mean peak memory usage with textrank_sparse_w_dynamic\n",
    "mean_memory_usage_4 = get_textrank_memory(sample_df, damping, thresh_conv, thresh_sim, w, max_iter = max_iter, stemming = True, alg_number = 4)\n",
    "print(f\"The average memory used by textrank_sparse_w_dynamic algorithm is {mean_memory_usage_3:.4f} MB per article.\")"
   ]
  },
  {
   "cell_type": "markdown",
   "metadata": {},
   "source": [
    "Below is a bar plot that summarizes the results and compare the mean peak memory usage across the different TextRank versions."
   ]
  },
  {
   "cell_type": "code",
   "execution_count": 106,
   "metadata": {},
   "outputs": [
    {
     "data": {
      "image/png": "[encoded data removed]",
      "text/plain": [
       "<Figure size 900x500 with 1 Axes>"
      ]
     },
     "metadata": {},
     "output_type": "display_data"
    }
   ],
   "source": [
    "algorithms = ['textrank', 'textrank_sparse', 'textrank_sparse_w', 'textrank_sparse_w_dyn']\n",
    "\n",
    "# Store mean memory usages in a list\n",
    "mean_memory_usages = [mean_memory_usage_1, mean_memory_usage_2, mean_memory_usage_3, mean_memory_usage_4]\n",
    "\n",
    "# Plot 1: Mean Memory Usage Comparison\n",
    "plt.figure(figsize = (9, 5))\n",
    "plt.bar(algorithms, mean_memory_usages, color = ['darkblue', 'darkorange', 'darkgreen', 'crimson'])\n",
    "plt.ylabel('Mean Memory Usage (MB)')\n",
    "plt.title('Mean Memory Usage Comparison')\n",
    "plt.show()"
   ]
  },
  {
   "cell_type": "markdown",
   "metadata": {},
   "source": [
    "We also display for comparison the mean execution times and the mean ROUGE scores across the different TextRank versions."
   ]
  },
  {
   "cell_type": "code",
   "execution_count": 105,
   "metadata": {},
   "outputs": [
    {
     "data": {
      "image/png": "[encoded data removed]",
      "text/plain": [
       "<Figure size 900x500 with 1 Axes>"
      ]
     },
     "metadata": {},
     "output_type": "display_data"
    }
   ],
   "source": [
    "# Extract mean execution times and store them in a list\n",
    "mean_times = [results_textrank_1['mean_exec_time'][0], results_textrank_2['mean_exec_time'][0], \n",
    "              results_textrank_3['mean_exec_time'][0], results_textrank_4['mean_exec_time'][0]]\n",
    "\n",
    "# Plot 2: Mean Execution Time Comparison\n",
    "plt.figure(figsize = (9, 5))\n",
    "plt.bar(algorithms, mean_times, color = ['darkblue', 'darkorange', 'darkgreen', 'crimson'])\n",
    "plt.ylabel('Mean Execution Time (seconds)')\n",
    "plt.title('Mean Execution Time Comparison')\n",
    "plt.show()"
   ]
  },
  {
   "cell_type": "code",
   "execution_count": 108,
   "metadata": {},
   "outputs": [
    {
     "data": {
      "image/png": "[encoded data removed]",
      "text/plain": [
       "<Figure size 800x400 with 1 Axes>"
      ]
     },
     "metadata": {},
     "output_type": "display_data"
    }
   ],
   "source": [
    "# Extract mean rouge scores and store them in lists\n",
    "rouge_1_scores = [results_textrank_1['rouge_1_mean'][0], results_textrank_2['rouge_1_mean'][0],\n",
    "                  results_textrank_3['rouge_1_mean'][0], results_textrank_4['rouge_1_mean'][0]]\n",
    "rouge_2_scores = [results_textrank_1['rouge_2_mean'][0], results_textrank_2['rouge_2_mean'][0],\n",
    "                  results_textrank_3['rouge_2_mean'][0], results_textrank_4['rouge_2_mean'][0]]\n",
    "rouge_l_scores = [results_textrank_1['rouge_l_mean'][0], results_textrank_2['rouge_l_mean'][0],\n",
    "                  results_textrank_3['rouge_l_mean'][0], results_textrank_4['rouge_l_mean'][0]]\n",
    "\n",
    "# Plot 3: Mean ROUGE Scores Comparison\n",
    "# Set bar width and X locations for ROUGE measures\n",
    "bar_width = 0.15\n",
    "rouge_measures = ['ROUGE-1', 'ROUGE-2', 'ROUGE-L']\n",
    "x = np.arange(len(rouge_measures))\n",
    "\n",
    "fig, ax = plt.subplots(figsize = (8, 4))\n",
    "\n",
    "# Set bar colors\n",
    "colors = ['darkblue', 'darkorange', 'darkgreen', 'crimson']\n",
    "\n",
    "# Plot bars for each algorithm under each ROUGE measure\n",
    "for i, algorithm in enumerate(algorithms):\n",
    "    # Compute the offset for each algorithm to adjust the bar positions\n",
    "    offset = (i - len(algorithms) / 2) * bar_width\n",
    "    # Plot bars with the calculated offset for each algorithm, setting the appropriate width and color\n",
    "    ax.bar(x + offset, [rouge_1_scores[i], rouge_2_scores[i], rouge_l_scores[i]], \n",
    "           width = bar_width, label = algorithm, color = colors[i])\n",
    "    \n",
    "# Add labels and title\n",
    "ax.set_ylabel('Mean ROUGE Scores', fontsize = 12)\n",
    "ax.set_title('Mean ROUGE Scores Comparison', fontsize = 14)\n",
    "# Set x-axis tick labels to ROUGE measures\n",
    "ax.set_xticks(x)\n",
    "ax.set_xticklabels(rouge_measures)\n",
    "\n",
    "ax.legend(title = \"Algorithms\")\n",
    "plt.tight_layout()\n",
    "plt.show()"
   ]
  },
  {
   "cell_type": "markdown",
   "metadata": {},
   "source": [
    "# Toy example"
   ]
  },
  {
   "cell_type": "markdown",
   "metadata": {},
   "source": [
    "Here, we verify the accuracy of the computations performed for the toy example presented in the report."
   ]
  },
  {
   "cell_type": "code",
   "execution_count": 93,
   "metadata": {},
   "outputs": [],
   "source": [
    "text = \"Climate change is causing more intense and frequent droughts in many regions, impacting water availability for various sectors, including agriculture and natural ecosystems. Indeed, these environmental changes create major challenges for farmers, who depend on stable water supplies to grow crops, raise livestock, and maintain agricultural productivity. Furthermore, natural ecosystems have become increasingly vulnerable to temperature fluctuations and extreme weather, affecting biodiversity. Many species, for example, struggle to adapt to the rapid changes and risk extinction as conditions change unpredictably. Scientists warn that food production may suffer, as growing seasons become increasingly unpredictable due to climate instability. Rising sea levels also pose risks to coastal ecosystems and threaten nearby human communities. In addition, agricultural yields are expected to decline if extreme weather events continue to rise in frequency and intensity. Therefore, conserving biodiversity and supporting resilient ecosystems is essential for sustaining both agriculture and food security under these rapidly changing conditions.\"\n",
    "\n",
    "# Store the selected parameters\n",
    "damping = 0.85\n",
    "threshold_conv = 1e-2\n",
    "max_iter = float('inf')"
   ]
  },
  {
   "cell_type": "markdown",
   "metadata": {},
   "source": [
    "1) Text preprocessing"
   ]
  },
  {
   "cell_type": "code",
   "execution_count": 94,
   "metadata": {},
   "outputs": [
    {
     "name": "stdout",
     "output_type": "stream",
     "text": [
      "['climate', 'change', 'cause', 'intense', 'frequent', 'drought', 'many', 'region', 'impact', 'water', 'availability', 'various', 'sector', 'include', 'agriculture', 'natural', 'ecosystem']\n",
      "['indeed', 'environmental', 'change', 'create', 'major', 'challenge', 'farmer', 'depend', 'stable', 'water', 'supply', 'grow', 'crop', 'raise', 'livestock', 'maintain', 'agricultural', 'productivity']\n",
      "['furthermore', 'natural', 'ecosystem', 'become', 'increasingly', 'vulnerable', 'temperature', 'fluctuation', 'extreme', 'weather', 'affect', 'biodiversity']\n",
      "['many', 'specie', 'example', 'struggle', 'adapt', 'rapid', 'change', 'risk', 'extinction', 'condition', 'change', 'unpredictably']\n",
      "['scientist', 'warn', 'food', 'production', 'may', 'suffer', 'grow', 'season', 'become', 'increasingly', 'unpredictable', 'due', 'climate', 'instability']\n",
      "['rise', 'sea', 'level', 'also', 'pose', 'risk', 'coastal', 'ecosystem', 'threaten', 'nearby', 'human', 'community']\n",
      "['addition', 'agricultural', 'yield', 'expect', 'decline', 'extreme', 'weather', 'event', 'continue', 'rise', 'frequency', 'intensity']\n",
      "['therefore', 'conserve', 'biodiversity', 'support', 'resilient', 'ecosystem', 'essential', 'sustain', 'agriculture', 'food', 'security', 'rapidly', 'change', 'condition']\n"
     ]
    }
   ],
   "source": [
    "# Tokenize the text into sentences\n",
    "sentences = nltk.sent_tokenize(text)\n",
    "# Preprocess the sentences using preprocess_function with lemmatization\n",
    "sentences_as_words = preprocess_function(sentences, stemming = False)\n",
    "# Save the number of sentences in the text\n",
    "n_sentences = len(sentences_as_words)\n",
    "\n",
    "for i in range(n_sentences):\n",
    "    print(sentences_as_words[i])"
   ]
  },
  {
   "cell_type": "markdown",
   "metadata": {},
   "source": [
    "2) Similarity calculation and graph construction"
   ]
  },
  {
   "cell_type": "code",
   "execution_count": 95,
   "metadata": {},
   "outputs": [
    {
     "data": {
      "text/plain": [
       "array([[3.  , 0.35, 0.38, 0.38, 0.18, 0.19, 0.  , 0.55],\n",
       "       [0.35, 3.11, 0.  , 0.19, 0.18, 0.  , 0.19, 0.18],\n",
       "       [0.38, 0.  , 2.41, 0.  , 0.39, 0.2 , 0.4 , 0.39],\n",
       "       [0.38, 0.19, 0.  , 2.41, 0.  , 0.2 , 0.  , 0.39],\n",
       "       [0.18, 0.18, 0.39, 0.  , 2.65, 0.  , 0.  , 0.19],\n",
       "       [0.19, 0.  , 0.2 , 0.2 , 0.  , 2.41, 0.2 , 0.2 ],\n",
       "       [0.  , 0.19, 0.4 , 0.  , 0.  , 0.2 , 2.41, 0.  ],\n",
       "       [0.55, 0.18, 0.39, 0.39, 0.19, 0.2 , 0.  , 2.65]])"
      ]
     },
     "metadata": {},
     "output_type": "display_data"
    }
   ],
   "source": [
    "# Initialize an adjacency matrix\n",
    "similarity_matrix = np.zeros((n_sentences, n_sentences))\n",
    "\n",
    "# Fill the similarity matrix with similarity scores\n",
    "for i, words_i in enumerate(sentences_as_words):\n",
    "    for j in range(i, n_sentences):\n",
    "        similarity_ij = sentence_similarity(words_i, sentences_as_words[j])\n",
    "        # The matrix is symmetric, so similarity_matrix[i, j] is equal to similarity_matrix[j, i]\n",
    "        similarity_matrix[i, j] = similarity_ij\n",
    "        similarity_matrix[j, i] = similarity_ij\n",
    "\n",
    "# Display the adjacency matrix\n",
    "display(np.round(similarity_matrix, 2))"
   ]
  },
  {
   "cell_type": "markdown",
   "metadata": {},
   "source": [
    "3) Normalization and PageRank computation"
   ]
  },
  {
   "cell_type": "code",
   "execution_count": 96,
   "metadata": {},
   "outputs": [
    {
     "data": {
      "text/plain": [
       "array([[0.6 , 0.07, 0.07, 0.07, 0.04, 0.04, 0.  , 0.11],\n",
       "       [0.08, 0.74, 0.  , 0.04, 0.04, 0.  , 0.04, 0.04],\n",
       "       [0.09, 0.  , 0.58, 0.  , 0.09, 0.05, 0.1 , 0.09],\n",
       "       [0.11, 0.05, 0.  , 0.68, 0.  , 0.06, 0.  , 0.11],\n",
       "       [0.05, 0.05, 0.11, 0.  , 0.74, 0.  , 0.  , 0.05],\n",
       "       [0.06, 0.  , 0.06, 0.06, 0.  , 0.71, 0.06, 0.06],\n",
       "       [0.  , 0.06, 0.13, 0.  , 0.  , 0.06, 0.75, 0.  ],\n",
       "       [0.12, 0.04, 0.09, 0.09, 0.04, 0.04, 0.  , 0.58]])"
      ]
     },
     "metadata": {},
     "output_type": "display_data"
    }
   ],
   "source": [
    "# Normalize the similarity matrix to make it a stochastic matrix\n",
    "row_sums = similarity_matrix.sum(axis = 1) + 1e-8  # Add a constant to prevent division by 0\n",
    "similarity_matrix = np.divide(similarity_matrix, row_sums[:, np.newaxis])\n",
    "# Display the normalized similarity matrix\n",
    "display(np.round(similarity_matrix, 2))"
   ]
  },
  {
   "cell_type": "code",
   "execution_count": 97,
   "metadata": {},
   "outputs": [
    {
     "data": {
      "text/plain": [
       "array([[0.53, 0.08, 0.08, 0.08, 0.05, 0.05, 0.02, 0.11],\n",
       "       [0.09, 0.65, 0.02, 0.06, 0.06, 0.02, 0.06, 0.06],\n",
       "       [0.1 , 0.02, 0.51, 0.02, 0.1 , 0.06, 0.1 , 0.1 ],\n",
       "       [0.11, 0.06, 0.02, 0.59, 0.02, 0.07, 0.02, 0.11],\n",
       "       [0.06, 0.06, 0.11, 0.02, 0.65, 0.02, 0.02, 0.06],\n",
       "       [0.07, 0.02, 0.07, 0.07, 0.02, 0.62, 0.07, 0.07],\n",
       "       [0.02, 0.07, 0.13, 0.02, 0.02, 0.07, 0.66, 0.02],\n",
       "       [0.12, 0.05, 0.09, 0.09, 0.05, 0.06, 0.02, 0.51]])"
      ]
     },
     "metadata": {},
     "output_type": "display_data"
    }
   ],
   "source": [
    "# Apply the damping factor to get the adjusted transition matrix\n",
    "similarity_matrix = np.full((n_sentences, n_sentences), (1. - damping) / n_sentences) + damping * similarity_matrix\n",
    "# Display the transition matrix\n",
    "display(np.round(similarity_matrix, 2))"
   ]
  },
  {
   "cell_type": "code",
   "execution_count": 98,
   "metadata": {},
   "outputs": [
    {
     "name": "stdout",
     "output_type": "stream",
     "text": [
      "next_p = [0.136 0.126 0.128 0.119 0.12  0.12  0.12  0.13 ]\n",
      "lambda_val = 0.016 \n",
      "\n",
      "next_p = [0.141 0.127 0.13  0.116 0.118 0.118 0.117 0.133]\n",
      "lambda_val = 0.008 \n",
      "\n"
     ]
    }
   ],
   "source": [
    "# Apply the power method\n",
    "transposed_matrix = similarity_matrix.T\n",
    "# Initialize the PageRank vector (all sentences have equal probability initially)\n",
    "p_vector = np.ones(n_sentences) / n_sentences\n",
    "# Initialize the convergence value\n",
    "lambda_val = float('inf')\n",
    "\n",
    "iter_count = 0\n",
    "while lambda_val > threshold_conv and iter_count < max_iter:\n",
    "    next_p = np.dot(transposed_matrix, p_vector)\n",
    "    print(f\"next_p =\", np.round(next_p,3))\n",
    "    lambda_val = np.linalg.norm(next_p - p_vector)\n",
    "    print(f\"lambda_val =\", np.round(lambda_val,3), \"\\n\")\n",
    "    # Update the PageRank vector for the next iteration\n",
    "    p_vector = next_p\n",
    "    iter_count += 1"
   ]
  },
  {
   "cell_type": "markdown",
   "metadata": {},
   "source": [
    "4) Summary generation"
   ]
  },
  {
   "cell_type": "code",
   "execution_count": 99,
   "metadata": {},
   "outputs": [
    {
     "data": {
      "text/plain": [
       "[(0, 0.1413837994091195),\n",
       " (7, 0.13302827971373588),\n",
       " (2, 0.1299853441544383),\n",
       " (1, 0.12712240336927383),\n",
       " (5, 0.11789465352960636),\n",
       " (4, 0.11759429897721413),\n",
       " (6, 0.11698482435410607),\n",
       " (3, 0.11600639212577396)]"
      ]
     },
     "execution_count": 99,
     "metadata": {},
     "output_type": "execute_result"
    }
   ],
   "source": [
    "# Rank the sentences based on their PageRank scores\n",
    "ranked_sentences = sorted(enumerate(p_vector), key = lambda x: x[1], reverse = True)\n",
    "ranked_sentences"
   ]
  },
  {
   "cell_type": "code",
   "execution_count": 100,
   "metadata": {},
   "outputs": [
    {
     "data": {
      "text/plain": [
       "'Climate change is causing more intense and frequent droughts in many regions, impacting water availability for various sectors, including agriculture and natural ecosystems. Indeed, these environmental changes create major challenges for farmers, who depend on stable water supplies to grow crops, raise livestock, and maintain agricultural productivity. Furthermore, natural ecosystems have become increasingly vulnerable to temperature fluctuations and extreme weather, affecting biodiversity. Therefore, conserving biodiversity and supporting resilient ecosystems is essential for sustaining both agriculture and food security under these rapidly changing conditions.'"
      ]
     },
     "execution_count": 100,
     "metadata": {},
     "output_type": "execute_result"
    }
   ],
   "source": [
    "# Generate the summary based on the top-ranked sentences\n",
    "summary_indices = [index for index, _ in ranked_sentences[:num_sent_summary]]\n",
    "candidate_summary = \" \".join([sentences[index] for index in sorted(summary_indices)])\n",
    "candidate_summary"
   ]
  }
 ],
 "metadata": {
  "kernelspec": {
   "display_name": "Python 3",
   "language": "python",
   "name": "python3"
  },
  "language_info": {
   "codemirror_mode": {
    "name": "ipython",
    "version": 3
   },
   "file_extension": ".py",
   "mimetype": "text/x-python",
   "name": "python",
   "nbconvert_exporter": "python",
   "pygments_lexer": "ipython3",
   "version": "3.11.2"
  }
 },
 "nbformat": 4,
 "nbformat_minor": 2
}
